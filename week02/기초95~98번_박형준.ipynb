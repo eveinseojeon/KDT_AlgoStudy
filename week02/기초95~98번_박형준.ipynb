{
 "cells": [
  {
   "cell_type": "markdown",
   "id": "538ff9b3",
   "metadata": {},
   "source": [
    "### 95번"
   ]
  },
  {
   "cell_type": "code",
   "execution_count": null,
   "id": "ae1541bd",
   "metadata": {},
   "outputs": [],
   "source": [
    "n = int(input())\n",
    "k = []\n",
    "# 20 * 20 생성\n",
    "for i in range(19):\n",
    "    k.append([])\n",
    "    for j in range(19):\n",
    "        k[i].append(0)\n",
    "\n",
    "# a, b 입력값 받아서 a-1, b-1 좌표에 1 채워넣기 (n번 반복)\n",
    "for i in range(n):\n",
    "    a, b = map(int, input().split())\n",
    "    k[a-1][b-1] = 1\n",
    "\n",
    "for i in range(19):\n",
    "    for j in range(19):\n",
    "        print(k[i][j], end=' ')\n",
    "    print(end='\\n')"
   ]
  },
  {
   "cell_type": "code",
   "execution_count": null,
   "id": "c9912454",
   "metadata": {},
   "outputs": [],
   "source": [
    "# 코드 줄이기\n",
    "\n",
    "n = int(input()) \n",
    "# 20 * 20 생성\n",
    "k = [[0 for i in range(19)] for j in range(19)]\n",
    "# a, b 입력값 받아서 a-1, b-1 좌표에 1 채워넣기 (n번 반복)\n",
    "for i in range(n):\n",
    "    a, b = map(int, input().split())\n",
    "    k[a-1][b-1] = 1\n",
    "\n",
    "for i in k:\n",
    "    for j in i:\n",
    "        print(j, end=\" \")\n",
    "    print(end=\"\\n\")"
   ]
  },
  {
   "cell_type": "markdown",
   "id": "91fb49fb",
   "metadata": {},
   "source": [
    "### 96번"
   ]
  },
  {
   "cell_type": "code",
   "execution_count": null,
   "id": "28c78493",
   "metadata": {},
   "outputs": [],
   "source": [
    "k = []\n",
    "# k 리스트 속에 각 입력값을 리스트 형태로 하나씩 집어넣음\n",
    "for i in range(19):\n",
    "    k.append([])\n",
    "    input_k = list(map(int, input().split()))\n",
    "    k[i] = input_k\n",
    "\n",
    "n = int(input())\n",
    "for j in range(n):\n",
    "    # a, b 입력값 a-1, b-1로 변경\n",
    "    a, b = map(int, input().split())\n",
    "    a -= 1\n",
    "    b -= 1\n",
    "    \n",
    "    # a행의 모든 값 돌아가면서 확인 후 0 -> 1, 1 -> 0으로 변경\n",
    "    for e in range(19):\n",
    "        if k[a][e] == 0:\n",
    "            k[a][e] = 1\n",
    "        else:\n",
    "            k[a][e] = 0\n",
    "\n",
    "    # b열의 모든 값 돌아가면서 확인 후 0 -> 1, 1 -> 0으로 변경\n",
    "    for f in range(19):\n",
    "        if k[f][b] == 0:\n",
    "            k[f][b] = 1\n",
    "        else:\n",
    "            k[f][b] = 0\n",
    "\n",
    "for i in range(19):\n",
    "    for j in range(19):\n",
    "        print(k[i][j], end=' ')\n",
    "    print(end='\\n')\n"
   ]
  },
  {
   "cell_type": "code",
   "execution_count": 1,
   "id": "31639b46",
   "metadata": {
    "collapsed": true
   },
   "outputs": [
    {
     "data": {
      "text/plain": [
       "[[], [], [], [], [], [], [], [], [], [], [], [], [], [], [], [], [], [], []]"
      ]
     },
     "execution_count": 1,
     "metadata": {},
     "output_type": "execute_result"
    }
   ],
   "source": [
    "# 코드 줄이기\n",
    "\n",
    "k = [[] for i in range(19)]\n",
    "for i in range(19):\n",
    "    input_k = list(map(int, input().split()))\n",
    "    k[i] = input_k\n",
    "\n",
    "n = int(input())\n",
    "for n in range(n):\n",
    "     # a, b 입력값 a-1, b-1로 변경\n",
    "    a, b = map(int, input().split())\n",
    "    a, b = a-1, b-1\n",
    "    \n",
    "    # a행의 모든 값 돌아가면서 확인 후 0 -> 1, 1 -> 0으로 변경\n",
    "    for e in range(19):\n",
    "        if k[a][e] == 0:\n",
    "            k[a][e] = 1\n",
    "        else:\n",
    "            k[a][e] = 0\n",
    "\n",
    "    # b열의 모든 값 돌아가면서 확인 후 0 -> 1, 1 -> 0으로 변경\n",
    "    for f in range(19):\n",
    "        if k[f][b] == 0:\n",
    "            k[f][b] = 1\n",
    "        else:\n",
    "            k[f][b] = 0\n",
    "\n",
    "for i in k:\n",
    "    for j in i:\n",
    "        print(j, end=\" \")\n",
    "    print(end=\"\\n\")"
   ]
  },
  {
   "cell_type": "markdown",
   "id": "c1dea890",
   "metadata": {},
   "source": [
    "### 97번"
   ]
  },
  {
   "cell_type": "code",
   "execution_count": null,
   "id": "4556ae4b",
   "metadata": {},
   "outputs": [],
   "source": [
    "h, w = map(int, input().split())\n",
    "n = int(input())\n",
    "k = []\n",
    "# h * w 생성 \n",
    "for a in range(h):\n",
    "    k.append([])\n",
    "    for b in range(w):\n",
    "        k[a].append(0)\n",
    "\n",
    "for i in range(n):\n",
    "    l, d, x, y = map(int, input().split())\n",
    "    # 막대가 가로로 놓여진 경우\n",
    "    if d == 0:\n",
    "        for m in range(l):\n",
    "            k[x-1][y-1+m] = 1\n",
    "    # 막대가 세로로 놓여진 경우\n",
    "    elif d == 1:\n",
    "        for q in range(l):\n",
    "            k[x-1+q][y-1] = 1\n",
    "\n",
    "for i in range(h):\n",
    "    for j in range(w):\n",
    "        print(k[i][j], end=' ')\n",
    "    print(end='\\n')"
   ]
  },
  {
   "cell_type": "code",
   "execution_count": null,
   "id": "a29ee99b",
   "metadata": {},
   "outputs": [],
   "source": [
    "# 코드 줄이기\n",
    "\n",
    "h, w = map(int, input().split())\n",
    "n = int(input())\n",
    "# h * w 생성 \n",
    "k = [[0 for i in range(w)] for j in range(h)]\n",
    "\n",
    "for i in range(n):\n",
    "    l, d, x, y = map(int, input().split())\n",
    "    # 막대가 가로로 놓여진 경우\n",
    "    if d == 0:\n",
    "        for m in range(l):\n",
    "            k[x-1][y-1+m] = 1\n",
    "    # 막대가 세로로 놓여진 경우\n",
    "    elif d == 1:\n",
    "        for q in range(l):\n",
    "            k[x-1+q][y-1] = 1\n",
    "\n",
    "for i in k:\n",
    "    for j in i:\n",
    "        print(j, end=\" \")\n",
    "    print(end=\"\\n\")"
   ]
  },
  {
   "cell_type": "markdown",
   "id": "4d7c3747",
   "metadata": {},
   "source": [
    "### 98번"
   ]
  },
  {
   "cell_type": "code",
   "execution_count": null,
   "id": "9b64a019",
   "metadata": {},
   "outputs": [],
   "source": [
    "k = []\n",
    "for i in range(10):\n",
    "    k.append([])\n",
    "\n",
    "for j in range(10):\n",
    "    a = list(map(int, input().split()))\n",
    "    k[j] = a\n",
    "\n",
    "# flag move\n",
    "move = 1\n",
    "# 1, 1 좌표에서 시작\n",
    "h, w = 1, 1\n",
    "while move:\n",
    "    # h, w 위치값이 0일 때 8, 8인 경우에는 stop, 이외에는 오른쪽 +1\n",
    "    if k[h][w] == 0:\n",
    "        k[h][w] = 9\n",
    "        if h == 8 & w == 8:\n",
    "            move = 0\n",
    "        else:\n",
    "            w += 1\n",
    "    # h, w 위치값이 1일 때, 다시 원래 w값으로 돌아가고 아래로 이동\n",
    "    elif k[h][w] == 1:\n",
    "        w -= 1\n",
    "        h += 1\n",
    "    # 도착 stop\n",
    "    elif k[h][w] == 2:\n",
    "        k[h][w] = 9\n",
    "        move = 0\n",
    "    \n",
    "\n",
    "for i in range(10):\n",
    "    for j in range(10):\n",
    "        print(k[i][j], end=' ')\n",
    "    print(end='\\n')"
   ]
  },
  {
   "cell_type": "code",
   "execution_count": null,
   "id": "af3dc5a7",
   "metadata": {},
   "outputs": [],
   "source": [
    "# 코드 줄이기\n",
    "\n",
    "k = [[] for i in range(10)]\n",
    "for j in range(10):\n",
    "    a = list(map(int, input().split()))\n",
    "    k[j] = a\n",
    "    \n",
    "# flag\n",
    "move = 1\n",
    "\n",
    "# 1, 1 시작\n",
    "h, w = 1, 1\n",
    "\n",
    "while move:\n",
    "        # h, w 위치값이 0일 때 8, 8인 경우에는 stop, 이외에는 오른쪽 +1\n",
    "    if k[h][w] == 0:\n",
    "        k[h][w] = 9\n",
    "        if h == 8 & w == 8:\n",
    "            move = 0\n",
    "        else:\n",
    "            w += 1\n",
    "    # h, w 위치값이 1일 때, 다시 원래 w값으로 돌아가고 아래로 이동\n",
    "    elif k[h][w] == 1:\n",
    "        w -= 1\n",
    "        h += 1\n",
    "    # 도착 stop\n",
    "    elif k[h][w] == 2:\n",
    "        k[h][w] = 9\n",
    "        move = 0\n",
    "\n",
    "for i in k:\n",
    "    for j in i:\n",
    "        print(j, end=\" \")\n",
    "    print(end=\"\\n\")"
   ]
  }
 ],
 "metadata": {
  "kernelspec": {
   "display_name": "Python 3 (ipykernel)",
   "language": "python",
   "name": "python3"
  },
  "language_info": {
   "codemirror_mode": {
    "name": "ipython",
    "version": 3
   },
   "file_extension": ".py",
   "mimetype": "text/x-python",
   "name": "python",
   "nbconvert_exporter": "python",
   "pygments_lexer": "ipython3",
   "version": "3.9.7"
  }
 },
 "nbformat": 4,
 "nbformat_minor": 5
}
