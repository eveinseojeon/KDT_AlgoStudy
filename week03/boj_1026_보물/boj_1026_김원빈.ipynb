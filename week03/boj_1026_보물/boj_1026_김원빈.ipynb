{
 "cells": [
  {
   "cell_type": "markdown",
   "id": "e69f6302",
   "metadata": {},
   "source": [
    "### 아이디어\n",
    "1. A의 MAX값과 B의 Min값을 순서대로 곱해주고 곱해준 값을 제거해준다."
   ]
  },
  {
   "cell_type": "code",
   "execution_count": 23,
   "id": "e8b36758",
   "metadata": {
    "scrolled": true
   },
   "outputs": [
    {
     "name": "stdout",
     "output_type": "stream",
     "text": [
      "9\n",
      "5 15 100 31 39 0 0 3 26\n",
      "11 12 13 2 3 4 5 9 1\n",
      "528\n"
     ]
    }
   ],
   "source": [
    "N = int(input())\n",
    "A = list(map(int, input().split()))\n",
    "B = list(map(int, input().split()))\n",
    "\n",
    "result = 0\n",
    "for _ in range(N):\n",
    "    result += max(A) * min(B)\n",
    "    A.remove(max(A))\n",
    "    B.remove(min(B))\n",
    "    \n",
    "print(result)                   "
   ]
  }
 ],
 "metadata": {
  "kernelspec": {
   "display_name": "Python 3 (ipykernel)",
   "language": "python",
   "name": "python3"
  },
  "language_info": {
   "codemirror_mode": {
    "name": "ipython",
    "version": 3
   },
   "file_extension": ".py",
   "mimetype": "text/x-python",
   "name": "python",
   "nbconvert_exporter": "python",
   "pygments_lexer": "ipython3",
   "version": "3.9.7"
  }
 },
 "nbformat": 4,
 "nbformat_minor": 5
}
