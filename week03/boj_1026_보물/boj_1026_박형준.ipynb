{
 "cells": [
  {
   "cell_type": "markdown",
   "id": "5d8977b4",
   "metadata": {},
   "source": [
    "# boj_1026: 보물"
   ]
  },
  {
   "cell_type": "code",
   "execution_count": 34,
   "id": "b6f24bac",
   "metadata": {},
   "outputs": [
    {
     "name": "stdout",
     "output_type": "stream",
     "text": [
      "5\n",
      "1 1 6 0 1\n",
      "2 7 8 3 1\n",
      "18\n"
     ]
    }
   ],
   "source": [
    "# 메모리 초과 풀이\n",
    "n = int(input())\n",
    "a = list(map(int, input().split()))\n",
    "b = list(map(int, input().split()))\n",
    "\n",
    "import math\n",
    "from itertools import permutations\n",
    "\n",
    "# 모든 a 조합 개수\n",
    "k = math.factorial(len(a))\n",
    "\n",
    "# 모든 a 조합 구하기\n",
    "per_a = list(permutations(a, 5))\n",
    "\n",
    "# 모든 a 조합별 곱셈 값 구하기\n",
    "list_s = [[] for _ in range(k)]\n",
    "\n",
    "for i in range(k):\n",
    "    for j in range(len(b)):\n",
    "            s = b[j] * per_a[i][j]\n",
    "            list_s[i].append(s)\n",
    "\n",
    "# list_s 돌면서 각 조합별 원소 곱셈들의 합 구하기          \n",
    "sum_s = []\n",
    "for i in range(len(list_s)):\n",
    "    sum_s.append(sum(list_s[i]))\n",
    "            \n",
    "print(min(sum_s))"
   ]
  },
  {
   "cell_type": "code",
   "execution_count": 36,
   "id": "dfb32688",
   "metadata": {},
   "outputs": [
    {
     "name": "stdout",
     "output_type": "stream",
     "text": [
      "5\n",
      "1 1 6 0 1\n",
      "2 7 8 3 1\n",
      "18\n"
     ]
    }
   ],
   "source": [
    "n = int(input())\n",
    "a = list(map(int, input().split()))\n",
    "b = list(map(int, input().split()))\n",
    "\n",
    "# stop flag\n",
    "stop = 1\n",
    "s = 0\n",
    "\n",
    "# b의 가장 큰 값, a의 가장 작은 값 리스트에서 하나씩 빼면서 곱셈 반복\n",
    "while stop:\n",
    "    min_a = min(a)\n",
    "    max_b = max(b)\n",
    "    k = max(b) * min(a)\n",
    "    a.remove(min_a)\n",
    "    b.remove(max_b)\n",
    "    s += k\n",
    "    if a == [] and b == []:\n",
    "        stop = 0\n",
    "print(s)"
   ]
  },
  {
   "cell_type": "code",
   "execution_count": null,
   "id": "aa3cf878",
   "metadata": {},
   "outputs": [],
   "source": []
  }
 ],
 "metadata": {
  "kernelspec": {
   "display_name": "Python 3 (ipykernel)",
   "language": "python",
   "name": "python3"
  },
  "language_info": {
   "codemirror_mode": {
    "name": "ipython",
    "version": 3
   },
   "file_extension": ".py",
   "mimetype": "text/x-python",
   "name": "python",
   "nbconvert_exporter": "python",
   "pygments_lexer": "ipython3",
   "version": "3.9.7"
  }
 },
 "nbformat": 4,
 "nbformat_minor": 5
}
