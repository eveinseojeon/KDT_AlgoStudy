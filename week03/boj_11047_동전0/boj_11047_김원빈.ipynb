{
 "cells": [
  {
   "cell_type": "markdown",
   "id": "b5ac756c",
   "metadata": {},
   "source": [
    "## 아이디어\n",
    "1. 받은 *A* 를 내림차순으로 정렬하여 큰 숫자가 앞에 오게 만든다.\n",
    "2. 가장 적게 동전을 주기 위해서 *A* 에서 큰 숫자부터 *K* 를 나누어 주고 나누어진 몫을 *result* 에 추가해준다.\n",
    "3. *result* 에 더해진 몫만큼 *K* 에서 빼준다.\n",
    "4. 몫이 0이 아닐 경우 pass"
   ]
  },
  {
   "cell_type": "code",
   "execution_count": null,
   "id": "fc1507b5",
   "metadata": {},
   "outputs": [],
   "source": [
    "N, K = map(int, input().split())\n",
    "A = sorted([int(input()) for _ in range(N)], reverse=True)\n",
    "\n",
    "result = 0 \n",
    "for i in A:\n",
    "    if K // i != 0:\n",
    "        result += K // i\n",
    "        K %= i        \n",
    "    else:\n",
    "        pass\n",
    "        \n",
    "print(result)"
   ]
  }
 ],
 "metadata": {
  "kernelspec": {
   "display_name": "Python 3 (ipykernel)",
   "language": "python",
   "name": "python3"
  },
  "language_info": {
   "codemirror_mode": {
    "name": "ipython",
    "version": 3
   },
   "file_extension": ".py",
   "mimetype": "text/x-python",
   "name": "python",
   "nbconvert_exporter": "python",
   "pygments_lexer": "ipython3",
   "version": "3.9.7"
  }
 },
 "nbformat": 4,
 "nbformat_minor": 5
}
