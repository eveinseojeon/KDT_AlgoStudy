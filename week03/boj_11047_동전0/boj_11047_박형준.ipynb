{
 "cells": [
  {
   "cell_type": "markdown",
   "id": "a7cafa27",
   "metadata": {},
   "source": [
    "# boj_11047_동전0"
   ]
  },
  {
   "cell_type": "code",
   "execution_count": 4,
   "id": "ec6785b3",
   "metadata": {
    "scrolled": true
   },
   "outputs": [
    {
     "name": "stdout",
     "output_type": "stream",
     "text": [
      "10 4200\n",
      "1\n",
      "5\n",
      "10\n",
      "50\n",
      "100\n",
      "500\n",
      "1000\n",
      "5000\n",
      "10000\n",
      "50000\n",
      "6\n"
     ]
    }
   ],
   "source": [
    "N, K = map(int, input().split())\n",
    "pocket = []\n",
    "for _ in range(N):\n",
    "    input_c = int(input())\n",
    "    pocket.append(input_c)\n",
    "\n",
    "# coin_0 함수 생성\n",
    "def coin_0(coin_list, K):\n",
    "    # 동전 갯수\n",
    "    coin_n = 0\n",
    "    for i in range(N):\n",
    "        # K원을 coin_list의 마지막 동전으로 나눈 값이 1보다 큰 경우와 아닌 경우 분류\n",
    "        s = K // coin_list[-1]\n",
    "        if s >= 1:\n",
    "            coin_n += s\n",
    "            K -= coin_list.pop() * s\n",
    "        else:\n",
    "            coin_list = coin_list[:-1]\n",
    "    \n",
    "    return coin_n\n",
    "print(coin_0(pocket, K))"
   ]
  }
 ],
 "metadata": {
  "kernelspec": {
   "display_name": "Python 3 (ipykernel)",
   "language": "python",
   "name": "python3"
  },
  "language_info": {
   "codemirror_mode": {
    "name": "ipython",
    "version": 3
   },
   "file_extension": ".py",
   "mimetype": "text/x-python",
   "name": "python",
   "nbconvert_exporter": "python",
   "pygments_lexer": "ipython3",
   "version": "3.9.7"
  }
 },
 "nbformat": 4,
 "nbformat_minor": 5
}
