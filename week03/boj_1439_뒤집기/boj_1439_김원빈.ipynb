{
 "cells": [
  {
   "cell_type": "markdown",
   "id": "92dda382",
   "metadata": {},
   "source": [
    "참고: 이 문제를 계속 고민해도 아이디어가 안 떠올라서 다른 정답을 참고하여 풀었습니다."
   ]
  },
  {
   "cell_type": "code",
   "execution_count": 14,
   "id": "9439ebf5",
   "metadata": {},
   "outputs": [
    {
     "name": "stdout",
     "output_type": "stream",
     "text": [
      "11101101\n",
      "2\n"
     ]
    }
   ],
   "source": [
    "# 이해가 되는 답\n",
    "S = input()\n",
    "cnt = 0\n",
    "\n",
    "# len(s) - 1 을 해주어 마지막 전 값까지 비교 -> out of range 안되게 하기위함 \n",
    "for i in range(len(S)-1):\n",
    "    # 현재와 다음 것을 비교하여 다르다면 cnt에 +1\n",
    "    if S[i] != S[i+1]:\n",
    "        cnt += 1\n",
    "# 위 for문에서 앞뒤가 다르면 뒤앞도 다른 것을 이중계산해주므로 '//2' 로 1번 뒤집은 걸로 바꿔줌        \n",
    "# cnt + 1을 해준 이유는 반례를 보니 S가 '10000' 의 경우나 '00001'일 경우 이중계산이 되지않는 값을 출력하기위함\n",
    "print((cnt+1)//2)"
   ]
  },
  {
   "cell_type": "code",
   "execution_count": 11,
   "id": "dcc758ec",
   "metadata": {},
   "outputs": [
    {
     "name": "stdout",
     "output_type": "stream",
     "text": [
      "0000001\n",
      "1\n"
     ]
    }
   ],
   "source": [
    "# 다른 답\n",
    "S = input()\n",
    "cnt = 0\n",
    "prev = '?'\n",
    "\n",
    "for i in S:\n",
    "    if i != prev:\n",
    "        cnt += 1\n",
    "        prev = i\n",
    "\n",
    "print(cnt//2)"
   ]
  }
 ],
 "metadata": {
  "kernelspec": {
   "display_name": "Python 3 (ipykernel)",
   "language": "python",
   "name": "python3"
  },
  "language_info": {
   "codemirror_mode": {
    "name": "ipython",
    "version": 3
   },
   "file_extension": ".py",
   "mimetype": "text/x-python",
   "name": "python",
   "nbconvert_exporter": "python",
   "pygments_lexer": "ipython3",
   "version": "3.9.7"
  }
 },
 "nbformat": 4,
 "nbformat_minor": 5
}
