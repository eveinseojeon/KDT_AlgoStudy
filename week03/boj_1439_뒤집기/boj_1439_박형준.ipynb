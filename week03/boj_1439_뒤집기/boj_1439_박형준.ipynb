{
 "cells": [
  {
   "cell_type": "markdown",
   "id": "43835c31",
   "metadata": {},
   "source": [
    "# boj_1439_뒤집기"
   ]
  },
  {
   "cell_type": "code",
   "execution_count": 1,
   "id": "21c00582",
   "metadata": {},
   "outputs": [
    {
     "name": "stdout",
     "output_type": "stream",
     "text": [
      "0001100\n",
      "1\n"
     ]
    }
   ],
   "source": [
    "S = input()\n",
    "# 10, 01 찾기\n",
    "n1 = S.count(\"10\")\n",
    "n2 = S.count(\"01\")\n",
    "n3 = n1 + n2\n",
    "# 10 과 01 개수가 짝수인 경우 홀수인 경우 \n",
    "if n3 % 2 == 0 :\n",
    "    n = n3 // 2\n",
    "else:\n",
    "    n = (n3 // 2) + 1\n",
    "\n",
    "print(n)"
   ]
  }
 ],
 "metadata": {
  "kernelspec": {
   "display_name": "Python 3 (ipykernel)",
   "language": "python",
   "name": "python3"
  },
  "language_info": {
   "codemirror_mode": {
    "name": "ipython",
    "version": 3
   },
   "file_extension": ".py",
   "mimetype": "text/x-python",
   "name": "python",
   "nbconvert_exporter": "python",
   "pygments_lexer": "ipython3",
   "version": "3.9.7"
  }
 },
 "nbformat": 4,
 "nbformat_minor": 5
}
