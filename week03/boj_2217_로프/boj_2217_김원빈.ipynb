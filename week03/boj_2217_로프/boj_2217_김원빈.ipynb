{
 "cells": [
  {
   "cell_type": "markdown",
   "id": "eafd32dd",
   "metadata": {},
   "source": [
    "참고: 맞는 데 시간초과가 떠용 -> 슬픔"
   ]
  },
  {
   "cell_type": "code",
   "execution_count": 1,
   "id": "3c9a83a9",
   "metadata": {},
   "outputs": [
    {
     "name": "stdout",
     "output_type": "stream",
     "text": [
      "5\n",
      "100000\n",
      "5000\n",
      "500\n",
      "50000\n",
      "3000\n",
      "100000\n"
     ]
    }
   ],
   "source": [
    "N = int(input())\n",
    "\n",
    "result = []\n",
    "\n",
    "# 입력값 내림차순 정렬\n",
    "weights = sorted([int(input()) for i in range(N)], reverse=True)\n",
    "\n",
    "# 슬라이싱해서 1줄 2줄 ~ N줄 중에서 가장 약한 로프가 견딜 수 있는 값 * 줄의 개수로 최대 중량을 더 해준다.\n",
    "result = [(min(weights[:i]) * i) for i in range(1, N+1)]\n",
    "\n",
    "# 그 중에 가장 높은 중량을 찾는다.\n",
    "print(max(result))"
   ]
  }
 ],
 "metadata": {
  "kernelspec": {
   "display_name": "Python 3 (ipykernel)",
   "language": "python",
   "name": "python3"
  },
  "language_info": {
   "codemirror_mode": {
    "name": "ipython",
    "version": 3
   },
   "file_extension": ".py",
   "mimetype": "text/x-python",
   "name": "python",
   "nbconvert_exporter": "python",
   "pygments_lexer": "ipython3",
   "version": "3.9.7"
  }
 },
 "nbformat": 4,
 "nbformat_minor": 5
}
