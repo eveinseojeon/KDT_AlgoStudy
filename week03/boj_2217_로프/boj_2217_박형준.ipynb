{
 "cells": [
  {
   "cell_type": "markdown",
   "id": "d17f4657",
   "metadata": {},
   "source": [
    "# boj_2217_로프"
   ]
  },
  {
   "cell_type": "code",
   "execution_count": 1,
   "id": "9471ee1b",
   "metadata": {},
   "outputs": [
    {
     "name": "stdout",
     "output_type": "stream",
     "text": [
      "5\n",
      "80\n",
      "60\n",
      "50\n",
      "40\n",
      "70\n",
      "200\n"
     ]
    }
   ],
   "source": [
    "N = int(input())\n",
    "rope = []\n",
    "for _ in range(N):\n",
    "    r = int(input())\n",
    "    rope.append(r)\n",
    "\n",
    "#rope 정렬\n",
    "rope.sort()\n",
    "\n",
    "# rope 값 작은 순으로 기준으로 놓고 버틸 수 있는 모든 무게 구함\n",
    "rope_weight = 0\n",
    "for i in range(N):\n",
    "    r = rope[i]\n",
    "    if rope_weight < r * (N-i):\n",
    "        rope_weight = r * (N-i)\n",
    "\n",
    "print(rope_weight)"
   ]
  }
 ],
 "metadata": {
  "kernelspec": {
   "display_name": "Python 3 (ipykernel)",
   "language": "python",
   "name": "python3"
  },
  "language_info": {
   "codemirror_mode": {
    "name": "ipython",
    "version": 3
   },
   "file_extension": ".py",
   "mimetype": "text/x-python",
   "name": "python",
   "nbconvert_exporter": "python",
   "pygments_lexer": "ipython3",
   "version": "3.9.7"
  }
 },
 "nbformat": 4,
 "nbformat_minor": 5
}
