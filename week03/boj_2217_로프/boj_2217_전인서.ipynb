{
 "cells": [
  {
   "cell_type": "markdown",
   "id": "7ede3f3a",
   "metadata": {},
   "source": [
    "## 아이디어\n",
    "1. N개의 각 로프가 버틸 수 있는 최대 중량을 리스트에 저장하고 내림차순으로 정렬한다.\n",
    "2. 가장 튼튼한 로프가 혼자 들 수 있는 중량을 계산한다.<br>\n",
    "    (두 번째로 튼튼한 로프가 버틸 수 있는 최대 중량)\\*2를 계산한다.<br>\n",
    "    (세 번째로 튼튼한 로프가 버틸 수 있는 최대 중량)\\*3를 계산한다.<br>\n",
    "    ...\n",
    "3. 2에서 계산한 값들 중 최댓값을 출력한다."
   ]
  },
  {
   "cell_type": "code",
   "execution_count": 11,
   "id": "ab24d93a",
   "metadata": {},
   "outputs": [
    {
     "name": "stdout",
     "output_type": "stream",
     "text": [
      "5\n",
      "10\n",
      "15\n",
      "1\n",
      "10\n",
      "100\n",
      "100\n"
     ]
    }
   ],
   "source": [
    "N = int(input())\n",
    "weights = sorted([int(input()) for _ in range(N)], reverse=True)\n",
    "\n",
    "print(max([weights[i]*(i+1) for i in range(N)]))"
   ]
  }
 ],
 "metadata": {
  "kernelspec": {
   "display_name": "Python 3 (ipykernel)",
   "language": "python",
   "name": "python3"
  },
  "language_info": {
   "codemirror_mode": {
    "name": "ipython",
    "version": 3
   },
   "file_extension": ".py",
   "mimetype": "text/x-python",
   "name": "python",
   "nbconvert_exporter": "python",
   "pygments_lexer": "ipython3",
   "version": "3.9.7"
  }
 },
 "nbformat": 4,
 "nbformat_minor": 5
}
