{
 "cells": [
  {
   "cell_type": "code",
   "execution_count": 24,
   "id": "8bc51d08",
   "metadata": {},
   "outputs": [
    {
     "name": "stdout",
     "output_type": "stream",
     "text": [
      "6\n",
      "39 38 9 35 39 20\n",
      "42\n"
     ]
    }
   ],
   "source": [
    "N = int(input())\n",
    "\n",
    "t = list(map(int, input().split()))\n",
    "# 큰 숫자를 앞으로 오게 만들기 -> 가장 오래 걸리는 묘목을 앞으로 보내기 위함 -> 가장 오래걸리는 묘목\n",
    "t.sort(reverse=True)\n",
    "\n",
    "# 하루에 하나만 심을 수 있으니 하나 심고 다음날을 +1씩 줘서 전체 묘목이 총 걸리는 기간을 만들어줌\n",
    "# 그 중에서 가장 오래 걸리는 묘목를 선정하기 위함 -> 가장 오래걸리는 묘목만 찾으면 다음날 이장부를수있음\n",
    "for i in range(N):\n",
    "    t[i] += 1+i\n",
    "\n",
    "# t 리스트 안에 가장 오래걸리는 묘목을 max로 구하고 다음날 이장불러야하니 +1한 값을 출력\n",
    "print(max(t)+1)    "
   ]
  }
 ],
 "metadata": {
  "kernelspec": {
   "display_name": "Python 3 (ipykernel)",
   "language": "python",
   "name": "python3"
  },
  "language_info": {
   "codemirror_mode": {
    "name": "ipython",
    "version": 3
   },
   "file_extension": ".py",
   "mimetype": "text/x-python",
   "name": "python",
   "nbconvert_exporter": "python",
   "pygments_lexer": "ipython3",
   "version": "3.9.7"
  }
 },
 "nbformat": 4,
 "nbformat_minor": 5
}
