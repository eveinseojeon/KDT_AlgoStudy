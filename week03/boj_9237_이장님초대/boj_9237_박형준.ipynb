{
 "cells": [
  {
   "cell_type": "markdown",
   "id": "6d916807",
   "metadata": {},
   "source": [
    "## boj_9237_이장님 초대"
   ]
  },
  {
   "cell_type": "code",
   "execution_count": 2,
   "id": "c439d872",
   "metadata": {},
   "outputs": [
    {
     "name": "stdout",
     "output_type": "stream",
     "text": [
      "6\n",
      "39 38 9 35 39 20\n",
      "42\n"
     ]
    }
   ],
   "source": [
    "# 틀림\n",
    "\n",
    "n = int(input())\n",
    "t_list = list(map(int, input().split()))\n",
    "\n",
    "t_list.sort()\n",
    "# 첫 날 가장 오래 걸리는 나무 심고 다음 날부터  \n",
    "invite = t_list.pop()\n",
    "# day = 첫날 + 가장 오래 걸리는나무 심은 날 + 이제 골라서 심어야 함\n",
    "day = 3\n",
    "\n",
    "# flag\n",
    "stop = 1\n",
    "# 남은 나무 중에 가장 오래 걸리는 나무 + 지금까지 지난 일 수 + 1 과 가장오래 걸린 값 비교하면서 최소값 바꾸기 \n",
    "while stop:\n",
    "    t_max = t_list.pop()\n",
    "    if invite < t_max + day:\n",
    "        invite = t_max + day\n",
    "        day += 1\n",
    "    else:\n",
    "        day += 1\n",
    "    \n",
    "    if n - day + 1 == 0:\n",
    "        stop = 0\n",
    "\n",
    "print(invite)"
   ]
  },
  {
   "cell_type": "code",
   "execution_count": 4,
   "id": "09a5f70c",
   "metadata": {},
   "outputs": [
    {
     "name": "stdout",
     "output_type": "stream",
     "text": [
      "6\n",
      "39 38 9 35 39 20\n",
      "42\n"
     ]
    }
   ],
   "source": [
    "# 검색한 풀이\n",
    "N = int(input())\n",
    "tree = list(map(int, input().split()))\n",
    "\n",
    "tree.sort(reverse=True)\n",
    "\n",
    "# 나무 심는 일 수 + 묘목이 자라는 일 수\n",
    "for i in range(N):\n",
    "    tree[i] = tree[i] + i + 1\n",
    "\n",
    "# 심은 다음 날 방문\n",
    "print(max(tree)+1)"
   ]
  },
  {
   "cell_type": "code",
   "execution_count": null,
   "id": "0680725c",
   "metadata": {},
   "outputs": [],
   "source": []
  }
 ],
 "metadata": {
  "kernelspec": {
   "display_name": "Python 3 (ipykernel)",
   "language": "python",
   "name": "python3"
  },
  "language_info": {
   "codemirror_mode": {
    "name": "ipython",
    "version": 3
   },
   "file_extension": ".py",
   "mimetype": "text/x-python",
   "name": "python",
   "nbconvert_exporter": "python",
   "pygments_lexer": "ipython3",
   "version": "3.9.7"
  }
 },
 "nbformat": 4,
 "nbformat_minor": 5
}
