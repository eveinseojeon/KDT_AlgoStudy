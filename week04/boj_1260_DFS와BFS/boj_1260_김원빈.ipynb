{
 "cells": [
  {
   "cell_type": "code",
   "execution_count": 60,
   "id": "dc595075",
   "metadata": {
    "scrolled": true
   },
   "outputs": [
    {
     "name": "stdout",
     "output_type": "stream",
     "text": [
      "1000 1 1000\n",
      "999 1000\n",
      "1000 999 \n",
      "1000 999 "
     ]
    }
   ],
   "source": [
    "N, M, V = map(int, input().split())\n",
    "\n",
    "# graph만들기\n",
    "graph = [[] for _ in range(N+1)]\n",
    "for _ in range(M):\n",
    "    a, b = map(int, input().split())\n",
    "    graph[a].append(b)\n",
    "    graph[b].append(a)\n",
    "\n",
    "# 그래프 안에 데이터 오름차순 정렬 -> 내림차순으로 입력되었을 경우 해결하기 위함\n",
    "for i in range(1, len(graph)):\n",
    "    graph[i].sort()\n",
    "    \n",
    "# dfs\n",
    "result1 = [V]\n",
    "visited1 = [0] * (N+1)\n",
    "def dfs(start):\n",
    "    global result1\n",
    "    visited1[start] = 1\n",
    "    for i in graph[start]:\n",
    "        if visited1[i] == 0:\n",
    "            result1.append(i)\n",
    "            dfs(i)           \n",
    "            \n",
    "dfs(V)\n",
    "for i in result1:\n",
    "    print(i, end=' ')\n",
    "    \n",
    "print()\n",
    "# bfs\n",
    "from collections import deque\n",
    "\n",
    "result2 = [V]\n",
    "visited2 = [0] * (N+1)\n",
    "visited2[V] = 1\n",
    "def bfs(start):\n",
    "    queue = deque()\n",
    "    queue.append(V)\n",
    "    while queue:\n",
    "        q = queue.popleft()\n",
    "        for i in graph[q]:\n",
    "            if visited2[i] == 0:\n",
    "                visited2[i] = 1\n",
    "                queue.append(i)\n",
    "                result2.append(i)\n",
    "                \n",
    "bfs(V)\n",
    "for i in result2:\n",
    "    print(i, end=' ')"
   ]
  }
 ],
 "metadata": {
  "kernelspec": {
   "display_name": "Python 3 (ipykernel)",
   "language": "python",
   "name": "python3"
  },
  "language_info": {
   "codemirror_mode": {
    "name": "ipython",
    "version": 3
   },
   "file_extension": ".py",
   "mimetype": "text/x-python",
   "name": "python",
   "nbconvert_exporter": "python",
   "pygments_lexer": "ipython3",
   "version": "3.9.7"
  }
 },
 "nbformat": 4,
 "nbformat_minor": 5
}
