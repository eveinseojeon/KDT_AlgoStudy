{
 "cells": [
  {
   "cell_type": "markdown",
   "id": "a4de4113",
   "metadata": {},
   "source": [
    "# boj_1260_DFS와 BFS"
   ]
  },
  {
   "cell_type": "code",
   "execution_count": 2,
   "id": "2d75b299",
   "metadata": {},
   "outputs": [
    {
     "ename": "ValueError",
     "evalue": "not enough values to unpack (expected 3, got 0)",
     "output_type": "error",
     "traceback": [
      "\u001b[1;31m---------------------------------------------------------------------------\u001b[0m",
      "\u001b[1;31mValueError\u001b[0m                                Traceback (most recent call last)",
      "\u001b[1;32m~\\AppData\\Local\\Temp/ipykernel_11016/3195871192.py\u001b[0m in \u001b[0;36m<module>\u001b[1;34m\u001b[0m\n\u001b[0;32m      5\u001b[0m \u001b[0mread\u001b[0m \u001b[1;33m=\u001b[0m \u001b[0msys\u001b[0m\u001b[1;33m.\u001b[0m\u001b[0mstdin\u001b[0m\u001b[1;33m.\u001b[0m\u001b[0mreadline\u001b[0m\u001b[1;33m\u001b[0m\u001b[1;33m\u001b[0m\u001b[0m\n\u001b[0;32m      6\u001b[0m \u001b[1;33m\u001b[0m\u001b[0m\n\u001b[1;32m----> 7\u001b[1;33m \u001b[0mn\u001b[0m\u001b[1;33m,\u001b[0m \u001b[0mm\u001b[0m\u001b[1;33m,\u001b[0m \u001b[0mstart\u001b[0m \u001b[1;33m=\u001b[0m \u001b[0mmap\u001b[0m\u001b[1;33m(\u001b[0m\u001b[0mint\u001b[0m\u001b[1;33m,\u001b[0m \u001b[0mread\u001b[0m\u001b[1;33m(\u001b[0m\u001b[1;33m)\u001b[0m\u001b[1;33m.\u001b[0m\u001b[0mstrip\u001b[0m\u001b[1;33m(\u001b[0m\u001b[1;33m)\u001b[0m\u001b[1;33m.\u001b[0m\u001b[0msplit\u001b[0m\u001b[1;33m(\u001b[0m\u001b[1;33m)\u001b[0m\u001b[1;33m)\u001b[0m\u001b[1;33m\u001b[0m\u001b[1;33m\u001b[0m\u001b[0m\n\u001b[0m\u001b[0;32m      8\u001b[0m \u001b[1;33m\u001b[0m\u001b[0m\n\u001b[0;32m      9\u001b[0m \u001b[1;31m# 그래프 만들기\u001b[0m\u001b[1;33m\u001b[0m\u001b[1;33m\u001b[0m\u001b[0m\n",
      "\u001b[1;31mValueError\u001b[0m: not enough values to unpack (expected 3, got 0)"
     ]
    }
   ],
   "source": [
    "# 구글링한 문제\n",
    "\n",
    "from collections import deque\n",
    "import sys\n",
    "read = sys.stdin.readline\n",
    "\n",
    "n, m, start = map(int, read().strip().split())\n",
    "\n",
    "# 그래프 만들기\n",
    "edge = [[] for _ in range(n + 1)]\n",
    "\n",
    "for _ in range(m):\n",
    "    v1, v2 = map(int, read().strip().split())\n",
    "    edge[v1].append(v2)\n",
    "    edge[v2].append(v1)\n",
    "\n",
    "for e in edge:\n",
    "    e.sort()\n",
    "\n",
    "d_check = [False for _ in range(n + 1)]\n",
    "def dfs(x):\n",
    "    d_check[x] = True\n",
    "    print(x, end=\" \")\n",
    "    for y in edge[x]:\n",
    "        if d_check[y] == False:\n",
    "            dfs(y)\n",
    "\n",
    "def bfs(x):\n",
    "    queue = deque([x])\n",
    "    b_check = [False for _ in range(n + 1)]\n",
    "    b_check[x] = True\n",
    "    while queue:\n",
    "        v = queue.popleft()\n",
    "        print(v, end=\" \")\n",
    "        for i in edge[v]:\n",
    "            if not b_check[i]:\n",
    "                b_check[i] = True\n",
    "                queue.append(i)\n",
    "                \n",
    "dfs(start)\n",
    "print()\n",
    "bfs(start)\n",
    "print()"
   ]
  },
  {
   "cell_type": "code",
   "execution_count": null,
   "id": "4a8b0b84",
   "metadata": {},
   "outputs": [],
   "source": []
  }
 ],
 "metadata": {
  "kernelspec": {
   "display_name": "Python 3 (ipykernel)",
   "language": "python",
   "name": "python3"
  },
  "language_info": {
   "codemirror_mode": {
    "name": "ipython",
    "version": 3
   },
   "file_extension": ".py",
   "mimetype": "text/x-python",
   "name": "python",
   "nbconvert_exporter": "python",
   "pygments_lexer": "ipython3",
   "version": "3.9.7"
  }
 },
 "nbformat": 4,
 "nbformat_minor": 5
}
