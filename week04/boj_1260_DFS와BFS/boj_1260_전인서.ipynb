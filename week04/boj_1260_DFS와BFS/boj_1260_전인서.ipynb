{
 "cells": [
  {
   "cell_type": "markdown",
   "id": "b94cefc9",
   "metadata": {},
   "source": [
    "- bfs 모르겠어서 구글링함.\n",
    "- graph를 dfs에서 썼던 것처럼 [[], [2, 3, 4], [1, 4], [1, 4], [1, 2, 3]] <- 이런 식으로 만들었더니 런타임 에러가 났다.<br>\n",
    "[[0, 0, 0, 0, 0],\n",
    " [0, 0, 1, 1, 1],\n",
    " [0, 1, 0, 0, 1],\n",
    " [0, 1, 0, 0, 1],\n",
    " [0, 1, 1, 1, 0]] <- 이렇게 만들었더니 에러 안 남."
   ]
  },
  {
   "cell_type": "code",
   "execution_count": 1,
   "id": "6b3f415c",
   "metadata": {},
   "outputs": [
    {
     "name": "stdout",
     "output_type": "stream",
     "text": [
      "4 5 1\n",
      "1 2\n",
      "1 3\n",
      "1 4\n",
      "2 4\n",
      "3 4\n",
      "1 2 4 3\n",
      "1 2 3 4\n"
     ]
    }
   ],
   "source": [
    "from collections import deque\n",
    "\n",
    "N, M, V = map(int, input().split())\n",
    "graph = [[0 for _ in range(N+1)] for _ in range(N+1)]\n",
    "for _ in range(M):\n",
    "    a, b = map(int, input().split())\n",
    "    graph[a][b] = 1\n",
    "    graph[b][a] = 1\n",
    "\n",
    "def dfs(start, visited):\n",
    "    visited.append(start)\n",
    "    for i in range(N+1):\n",
    "        if graph[start][i] == 1 and (i not in visited):\n",
    "            dfs(i, visited)\n",
    "    return visited\n",
    "\n",
    "def bfs(start):\n",
    "    queue = deque()\n",
    "    visited = [start]\n",
    "    queue.append(start)\n",
    "\n",
    "    while queue:\n",
    "        now = queue.popleft()\n",
    "        for i in range(N+1):\n",
    "            if graph[now][i] == 1 and (i not in visited):\n",
    "                visited.append(i)\n",
    "                queue.append(i)\n",
    "    return visited\n",
    "\n",
    "print(*dfs(V, []))\n",
    "print(*bfs(V))"
   ]
  }
 ],
 "metadata": {
  "kernelspec": {
   "display_name": "Python 3 (ipykernel)",
   "language": "python",
   "name": "python3"
  },
  "language_info": {
   "codemirror_mode": {
    "name": "ipython",
    "version": 3
   },
   "file_extension": ".py",
   "mimetype": "text/x-python",
   "name": "python",
   "nbconvert_exporter": "python",
   "pygments_lexer": "ipython3",
   "version": "3.9.7"
  }
 },
 "nbformat": 4,
 "nbformat_minor": 5
}
