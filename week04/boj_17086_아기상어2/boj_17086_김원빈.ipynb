{
 "cells": [
  {
   "cell_type": "markdown",
   "id": "bc0db568",
   "metadata": {},
   "source": [
    "참고: 못풀어서 다른 답을 참고"
   ]
  },
  {
   "cell_type": "code",
   "execution_count": 35,
   "id": "4255066b",
   "metadata": {},
   "outputs": [
    {
     "name": "stdout",
     "output_type": "stream",
     "text": [
      "7 4\n",
      "0 0 0 1\n",
      "0 1 0 0\n",
      "0 0 0 0\n",
      "0 0 0 1\n",
      "0 0 0 0\n",
      "0 1 0 0\n",
      "0 0 0 1\n",
      "2\n"
     ]
    }
   ],
   "source": [
    "from collections import deque\n",
    "N, M = map(int, input().split())\n",
    "graph = []\n",
    "shark = deque()\n",
    "# x, y좌표에 1이 들어있는 값을 뽑으면서 graph 만들어주기\n",
    "for i in range(N):\n",
    "    temp = list(map(int, input().split()))\n",
    "    for j in range(M):\n",
    "        if temp[j] == 1:\n",
    "            shark.append((i, j))\n",
    "    graph.append(temp)\n",
    "\n",
    "# 8방향 탐색용\n",
    "dx = [-1, 1, 0, 0, -1, -1, 1, 1]\n",
    "dy = [0, 0, -1, 1, -1, 1, -1, 1]\n",
    "\n",
    "def bfs():    \n",
    "    while shark:\n",
    "        x, y = shark.popleft()\n",
    "        # 8방향 탐색하며 graph 범위를 벗어나지 않고, 주변값이 0인 값에 자신의 값 +1을 해줌\n",
    "        for i in range(8):\n",
    "            nx = x + dx[i]\n",
    "            ny = y + dy[i]\n",
    "            if 0 <= nx < N and 0 <= ny < M:\n",
    "                if graph[nx][ny] == 0:\n",
    "                    graph[nx][ny] = graph[x][y] + 1\n",
    "                    # 그리고 다음 탐색을 위해 queue에 추가\n",
    "                    shark.append((nx, ny))\n",
    "    return\n",
    "\n",
    "bfs()\n",
    "# graph에서 가장 높은 값 찾기\n",
    "result = []\n",
    "for i in range(N):\n",
    "    result.append(max(graph[i]))\n",
    "    \n",
    "print(max(result) - 1) # 가장 높은 값 -1 == 안전 최장거리"
   ]
  }
 ],
 "metadata": {
  "kernelspec": {
   "display_name": "Python 3 (ipykernel)",
   "language": "python",
   "name": "python3"
  },
  "language_info": {
   "codemirror_mode": {
    "name": "ipython",
    "version": 3
   },
   "file_extension": ".py",
   "mimetype": "text/x-python",
   "name": "python",
   "nbconvert_exporter": "python",
   "pygments_lexer": "ipython3",
   "version": "3.9.7"
  }
 },
 "nbformat": 4,
 "nbformat_minor": 5
}
