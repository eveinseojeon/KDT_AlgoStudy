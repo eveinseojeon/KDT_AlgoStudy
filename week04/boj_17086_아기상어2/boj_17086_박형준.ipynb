{
 "cells": [
  {
   "cell_type": "markdown",
   "id": "14f0cfe3",
   "metadata": {},
   "source": [
    "# boj_17086_아기상어2"
   ]
  },
  {
   "cell_type": "code",
   "execution_count": null,
   "id": "b91f92ad",
   "metadata": {},
   "outputs": [],
   "source": [
    "# 구글링\n",
    "from collections import deque\n",
    "import sys\n",
    "read = sys.stdin.readline\n",
    "\n",
    "n, m = map(int, read().split())\n",
    "\n",
    "# 상어가 있는 위치 확인 그래프\n",
    "visited = []\n",
    "queue = deque()\n",
    "for i in range(n):\n",
    "    graph = list(map(int, read().split()))\n",
    "    for j in range(m):\n",
    "        if graph[j] == 1:\n",
    "            queue.append((i, j))\n",
    "    visited.append(graph)\n",
    "\n",
    "def bfs():\n",
    "    # 상/하/좌/우/대각선\n",
    "    dx = [1, -1, 0, 0, 1, -1, 1, -1]\n",
    "    dy = [0, 0, 1, -1, 1, -1, -1, 1]\n",
    "    \n",
    "    while queue:\n",
    "        \n",
    "        x, y = queue.popleft()\n",
    "        \n",
    "        # 상/하/좌/우/대각선 탐색\n",
    "        for i in range(8):\n",
    "            a = x + dx[i]\n",
    "            b = y + dy[i]\n",
    "            \n",
    "            #범위 내에 있으면서 탐색하지 않은 곳이라면 탐색하기\n",
    "            if 0 <= a < n and 0 <= b < m:\n",
    "                if visited[a][b] == 0:\n",
    "                    # 탐색하기까지 걸린 이동 횟수\n",
    "                    visited[a][b] = visited[x][y] + 1\n",
    "                    queue.append((a, b))\n",
    "\n",
    "\n",
    "bfs()\n",
    "\n",
    "dist = 0\n",
    "for i in range(n):\n",
    "    for j in range(m):\n",
    "        dist = max(dist, visited[i][j])\n",
    "\n",
    "print(dist-1)"
   ]
  },
  {
   "cell_type": "code",
   "execution_count": null,
   "id": "1a120d4a",
   "metadata": {},
   "outputs": [],
   "source": []
  }
 ],
 "metadata": {
  "kernelspec": {
   "display_name": "Python 3 (ipykernel)",
   "language": "python",
   "name": "python3"
  },
  "language_info": {
   "codemirror_mode": {
    "name": "ipython",
    "version": 3
   },
   "file_extension": ".py",
   "mimetype": "text/x-python",
   "name": "python",
   "nbconvert_exporter": "python",
   "pygments_lexer": "ipython3",
   "version": "3.9.7"
  }
 },
 "nbformat": 4,
 "nbformat_minor": 5
}
