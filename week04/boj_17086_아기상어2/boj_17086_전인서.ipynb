{
 "cells": [
  {
   "cell_type": "markdown",
   "id": "915ba7cc",
   "metadata": {},
   "source": [
    "- 정답 코드 뜯어보며 이해함. 어렵다"
   ]
  },
  {
   "cell_type": "code",
   "execution_count": 12,
   "id": "d8596d0d",
   "metadata": {},
   "outputs": [
    {
     "name": "stdout",
     "output_type": "stream",
     "text": [
      "5 4\n",
      "0 0 1 0\n",
      "0 0 0 0\n",
      "1 0 0 0\n",
      "0 0 0 0\n",
      "0 0 0 1\n",
      "2\n"
     ]
    }
   ],
   "source": [
    "from collections import deque\n",
    "\n",
    "n, m = map(int, input().split())\n",
    "graph = []\n",
    "shark = deque()\n",
    "for i in range(n):\n",
    "    temp = list(map(int, input().split()))\n",
    "    for j in range(m):\n",
    "        if temp[j] == 1:\n",
    "            shark.append((i, j))\n",
    "    graph.append(temp)\n",
    "\n",
    "dx = [0, 1, 1, 1, 0, -1, -1, -1]\n",
    "dy = [1, 1, 0, -1, -1, -1, 0, 1]\n",
    "\n",
    "def bfs():    \n",
    "    while shark:\n",
    "        x, y = shark.popleft()\n",
    "        for i in range(8):\n",
    "            nx = x + dx[i]\n",
    "            ny = y + dy[i]\n",
    "            if 0 <= nx < n and 0 <= ny < m:\n",
    "                if graph[nx][ny] == 0:\n",
    "                    graph[nx][ny] = graph[x][y] + 1\n",
    "                    shark.append((nx, ny))\n",
    "    return\n",
    "\n",
    "bfs()\n",
    "\n",
    "result = []\n",
    "for i in range(n):\n",
    "    result.append(max(graph[i]))\n",
    "    \n",
    "print(max(result) - 1)"
   ]
  },
  {
   "cell_type": "code",
   "execution_count": null,
   "id": "109901b9",
   "metadata": {},
   "outputs": [],
   "source": []
  }
 ],
 "metadata": {
  "kernelspec": {
   "display_name": "Python 3 (ipykernel)",
   "language": "python",
   "name": "python3"
  },
  "language_info": {
   "codemirror_mode": {
    "name": "ipython",
    "version": 3
   },
   "file_extension": ".py",
   "mimetype": "text/x-python",
   "name": "python",
   "nbconvert_exporter": "python",
   "pygments_lexer": "ipython3",
   "version": "3.9.7"
  }
 },
 "nbformat": 4,
 "nbformat_minor": 5
}
