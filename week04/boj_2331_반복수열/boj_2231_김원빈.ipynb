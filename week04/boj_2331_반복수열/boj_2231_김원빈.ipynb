{
 "cells": [
  {
   "cell_type": "markdown",
   "id": "16a6a0a3",
   "metadata": {},
   "source": [
    "## 아이디어\n",
    "- 리스트에 계속 P제곱 해준 값을 계속 추가해주고, 만약 리스트안에 P제곱한 값이 있을 시 P제곱한 값 전에까지의 개수를 반환해준다."
   ]
  },
  {
   "cell_type": "code",
   "execution_count": 72,
   "id": "183e94ab",
   "metadata": {
    "scrolled": true
   },
   "outputs": [
    {
     "name": "stdout",
     "output_type": "stream",
     "text": [
      "57 2\n",
      "4\n"
     ]
    }
   ],
   "source": [
    "A, P = input().split()\n",
    "P = int(P) # P로 제곱해줘야 하므로 int로 변경\n",
    "\n",
    "pre = 0 # 리스트에 추가될 값\n",
    "D = [A] # 리스트 0번째 인자 추가\n",
    "flag = 1 \n",
    "while flag:    \n",
    "    for i in range(len(D)-1, len(D)): # 리스트 마지막 인덱스 번호를 계속 사용하기 위함\n",
    "        D[i] = str(D[i]) # 인덱스 번호를 뽑아서 P제곱 해주기위해 문자열로 변경\n",
    "        # D[i]에 문자열들을 int로 바꿔줘서 pre에 문자열 길이만큼 더해줌\n",
    "        for j in range(len(D[i])): \n",
    "            pre += (int(D[i][j]) ** P)\n",
    "        \n",
    "        # 만약 중복된 숫자가 D안에 있으면\n",
    "        if str(pre) in D:\n",
    "            D = D[:(D.index(str(pre)))] # 중복된 숫자 전까지만 D로 반환\n",
    "            print(len(D)) # 정답 반환 후\n",
    "            flag = 0 # 멈춤\n",
    "        D.append(pre) # if문 안들어가면 pre값을 D에 추가\n",
    "        pre = 0 # pre값 reset"
   ]
  },
  {
   "cell_type": "code",
   "execution_count": 86,
   "id": "21ccefa1",
   "metadata": {
    "scrolled": true
   },
   "outputs": [
    {
     "name": "stdout",
     "output_type": "stream",
     "text": [
      "57 2\n",
      "4\n"
     ]
    }
   ],
   "source": [
    "# 더 간단한 다른 사람 정답\n",
    "a, p = map(int, input().split())\n",
    "d = [a]\n",
    "while True:\n",
    "    num_list = list(map(int, str(d[-1]))) # 이 부분만 알았어도 훨씬 쉬웠을 것 같다.\n",
    "    num = 0\n",
    "    for i in num_list:\n",
    "        num += i**p\n",
    "\n",
    "    if num in d:\n",
    "        break\n",
    "    else:\n",
    "        d.append(num)\n",
    "print(d.index(num))"
   ]
  }
 ],
 "metadata": {
  "kernelspec": {
   "display_name": "Python 3 (ipykernel)",
   "language": "python",
   "name": "python3"
  },
  "language_info": {
   "codemirror_mode": {
    "name": "ipython",
    "version": 3
   },
   "file_extension": ".py",
   "mimetype": "text/x-python",
   "name": "python",
   "nbconvert_exporter": "python",
   "pygments_lexer": "ipython3",
   "version": "3.9.7"
  }
 },
 "nbformat": 4,
 "nbformat_minor": 5
}
