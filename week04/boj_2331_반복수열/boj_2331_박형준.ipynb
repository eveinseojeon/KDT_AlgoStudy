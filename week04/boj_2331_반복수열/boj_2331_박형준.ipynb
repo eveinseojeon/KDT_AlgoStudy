{
 "cells": [
  {
   "cell_type": "markdown",
   "id": "44f89009",
   "metadata": {},
   "source": [
    "# boj_2331_반복수열"
   ]
  },
  {
   "cell_type": "code",
   "execution_count": 17,
   "id": "f9960e64",
   "metadata": {},
   "outputs": [
    {
     "name": "stdout",
     "output_type": "stream",
     "text": [
      "57 2\n",
      "4\n"
     ]
    }
   ],
   "source": [
    "A, P = map(int, input().split())\n",
    "# 순열이 들어가는 list_seq\n",
    "list_seq = [A]\n",
    "\n",
    "while True:\n",
    "    A_p = 0\n",
    "    # A 한 글자씩 P제곱한 합: A_p\n",
    "    for i in str(A):\n",
    "        A_p += int(i) ** P\n",
    "    # A_p가 list_seq에 이미 있다면 반복 시작부분이기 때문에 잘라줌\n",
    "    if A_p not in list_seq:\n",
    "        list_seq.append(A_p)\n",
    "        A = A_p\n",
    "    else:\n",
    "        k = list_seq.index(A_p)\n",
    "        list_seq = list_seq[:k]\n",
    "        break\n",
    "        \n",
    "print(len(list_seq))"
   ]
  },
  {
   "cell_type": "code",
   "execution_count": null,
   "id": "55dac172",
   "metadata": {},
   "outputs": [],
   "source": []
  }
 ],
 "metadata": {
  "kernelspec": {
   "display_name": "Python 3 (ipykernel)",
   "language": "python",
   "name": "python3"
  },
  "language_info": {
   "codemirror_mode": {
    "name": "ipython",
    "version": 3
   },
   "file_extension": ".py",
   "mimetype": "text/x-python",
   "name": "python",
   "nbconvert_exporter": "python",
   "pygments_lexer": "ipython3",
   "version": "3.9.7"
  }
 },
 "nbformat": 4,
 "nbformat_minor": 5
}
