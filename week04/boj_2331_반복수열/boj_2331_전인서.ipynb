{
 "cells": [
  {
   "cell_type": "markdown",
   "id": "15d7df78",
   "metadata": {},
   "source": [
    "- int와 str을 잘 넘나드는 게 관건인 문제였던 것 같다."
   ]
  },
  {
   "cell_type": "code",
   "execution_count": 24,
   "id": "0eaa356b",
   "metadata": {},
   "outputs": [
    {
     "name": "stdout",
     "output_type": "stream",
     "text": [
      "57 2\n",
      "4\n"
     ]
    }
   ],
   "source": [
    "a, p = map(int, input().split())\n",
    "nums = [a]\n",
    "\n",
    "while 1:\n",
    "    pre = nums[-1] # 리스트의 맨 끝 숫자\n",
    "    new = 0 # 새로 추가할 숫자\n",
    "    \n",
    "    for i in range(len(str(pre))): # pre의 자릿수만큼 반복\n",
    "        new += int(str(pre)[i])**p\n",
    "    \n",
    "    if new not in nums:\n",
    "        nums.append(new)\n",
    "    else:\n",
    "        print(nums.index(new))\n",
    "        break\n"
   ]
  }
 ],
 "metadata": {
  "kernelspec": {
   "display_name": "Python 3 (ipykernel)",
   "language": "python",
   "name": "python3"
  },
  "language_info": {
   "codemirror_mode": {
    "name": "ipython",
    "version": 3
   },
   "file_extension": ".py",
   "mimetype": "text/x-python",
   "name": "python",
   "nbconvert_exporter": "python",
   "pygments_lexer": "ipython3",
   "version": "3.9.7"
  }
 },
 "nbformat": 4,
 "nbformat_minor": 5
}
