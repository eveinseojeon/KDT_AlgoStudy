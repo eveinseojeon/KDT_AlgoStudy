{
 "cells": [
  {
   "cell_type": "markdown",
   "id": "fde59028",
   "metadata": {},
   "source": [
    "### 아이디어\n",
    "- 감염된 컴퓨터만 뽑아서 출력\n",
    "\n",
    "### 방법\n",
    "1. 1번 컴퓨터와 연결된 컴퓨터들 전부 visited에 추가 후 set함수로 중복 제거 후 len - 1 해서 1번 컴퓨터 감염된 컴퓨터 개수에서 제외"
   ]
  },
  {
   "cell_type": "code",
   "execution_count": 41,
   "id": "679281a4",
   "metadata": {},
   "outputs": [
    {
     "name": "stdout",
     "output_type": "stream",
     "text": [
      "10\n",
      "7\n",
      "1 2\n",
      "2 3\n",
      "3 4\n",
      "5 6\n",
      "7 8\n",
      "8 9\n",
      "9 1\n",
      "6\n"
     ]
    }
   ],
   "source": [
    "# dfs 사용 안하고 풀기\n",
    "import copy\n",
    "\n",
    "C = int(input())\n",
    "N = int(input())\n",
    "networks = list(list(map(int, input().split())) for _ in range(N))\n",
    "\n",
    "visited = [1] # 첫 번째 컴퓨터 방문 추가\n",
    "while True:\n",
    "    pre_visited = copy.deepcopy(visited) # 이전 감염 컴퓨터 번호를 기억\n",
    "    for x, y in networks: # 연결된 컴퓨터 x, y에 넣어줌\n",
    "        if x in visited or y in visited: # 1번 컴퓨터와 연결된 컴퓨터 번호 전부 방문 기록에 남김\n",
    "            visited.append(y)  \n",
    "            visited.append(x)\n",
    "    # 이전과 현재 감염된 컴퓨터와 비교해서 대수가 같아지면 더이상 추가할게 없다는 의미로 멈춤\n",
    "    # set 함수 사용하여 중복제거 후 같은 지 비교\n",
    "    if set(pre_visited) == set(visited): \n",
    "        break       \n",
    "\n",
    "print(len(set(visited))-1) # set로 중복 제거 후 1번째 컴퓨터 대수 -1"
   ]
  },
  {
   "cell_type": "markdown",
   "id": "f32d87b0",
   "metadata": {},
   "source": [
    "dfs 사용"
   ]
  },
  {
   "cell_type": "code",
   "execution_count": 74,
   "id": "aac69b92",
   "metadata": {},
   "outputs": [
    {
     "name": "stdout",
     "output_type": "stream",
     "text": [
      "7\n",
      "6\n",
      "1 2\n",
      "2 3\n",
      "1 5\n",
      "5 2\n",
      "5 6\n",
      "4 7\n",
      "4\n"
     ]
    }
   ],
   "source": [
    "# dfs 사용하고 풀기\n",
    "n = int(input())\n",
    "m = int(input())\n",
    "graph = [[] for _ in range(n+1)]\n",
    "for _ in range(m):\n",
    "    a, b = map(int, input().split())\n",
    "    graph[a].append(b)\n",
    "    graph[b].append(a)\n",
    "    \n",
    "cnt = 0\n",
    "visited = [0] * (n+1)\n",
    "def dfs(start):\n",
    "    global cnt\n",
    "    visited[start] = 1\n",
    "    for i in graph[start]:\n",
    "        if visited[i] == 0:\n",
    "            dfs(i)\n",
    "            cnt += 1\n",
    "\n",
    "dfs(1)\n",
    "print(cnt)"
   ]
  }
 ],
 "metadata": {
  "kernelspec": {
   "display_name": "Python 3 (ipykernel)",
   "language": "python",
   "name": "python3"
  },
  "language_info": {
   "codemirror_mode": {
    "name": "ipython",
    "version": 3
   },
   "file_extension": ".py",
   "mimetype": "text/x-python",
   "name": "python",
   "nbconvert_exporter": "python",
   "pygments_lexer": "ipython3",
   "version": "3.9.7"
  }
 },
 "nbformat": 4,
 "nbformat_minor": 5
}
