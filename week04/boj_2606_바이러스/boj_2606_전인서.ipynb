{
 "cells": [
  {
   "cell_type": "markdown",
   "id": "84cdeca9",
   "metadata": {},
   "source": [
    "- DFS/BFS 방식이 아닌 꼼수밖에 생각이 안 나서 구글링 찬스\n",
    "- 내가 생각하기에 좀 더 좋은 방식으로 바꿈. list 대신 set을 사용하는 것"
   ]
  },
  {
   "cell_type": "code",
   "execution_count": 55,
   "id": "9e9eadb4",
   "metadata": {},
   "outputs": [
    {
     "name": "stdout",
     "output_type": "stream",
     "text": [
      "7\n",
      "6\n",
      "1 2\n",
      "2 3\n",
      "1 5\n",
      "5 2\n",
      "5 6\n",
      "4 7\n",
      "4\n"
     ]
    }
   ],
   "source": [
    "n = int(input()) # node 수\n",
    "m = int(input()) # edge 수\n",
    "graph = [[] for _ in range(n+1)]\n",
    "for _ in range(m):\n",
    "    a, b = map(int, input().split())\n",
    "    graph[a].append(b)\n",
    "    graph[b].append(a)\n",
    "\n",
    "infected = set() # 감염된 컴퓨터들 (자동으로 중복을 거르기 위해 자료구조 set을 사용)\n",
    "\n",
    "def dfs(start):\n",
    "    infected.add(start)\n",
    "    for i in graph[start]:\n",
    "        if i not in infected:\n",
    "            dfs(i)\n",
    "    return len(infected)-1\n",
    "\n",
    "print(dfs(1))"
   ]
  }
 ],
 "metadata": {
  "kernelspec": {
   "display_name": "Python 3 (ipykernel)",
   "language": "python",
   "name": "python3"
  },
  "language_info": {
   "codemirror_mode": {
    "name": "ipython",
    "version": 3
   },
   "file_extension": ".py",
   "mimetype": "text/x-python",
   "name": "python",
   "nbconvert_exporter": "python",
   "pygments_lexer": "ipython3",
   "version": "3.9.7"
  }
 },
 "nbformat": 4,
 "nbformat_minor": 5
}
