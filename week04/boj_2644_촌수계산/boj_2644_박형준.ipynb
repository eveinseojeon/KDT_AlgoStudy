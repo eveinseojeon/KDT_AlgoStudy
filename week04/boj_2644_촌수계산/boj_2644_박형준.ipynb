{
 "cells": [
  {
   "cell_type": "markdown",
   "id": "e7672cf0",
   "metadata": {},
   "source": [
    "# boj_2644_촌수계산"
   ]
  },
  {
   "cell_type": "code",
   "execution_count": null,
   "id": "677bc78f",
   "metadata": {},
   "outputs": [],
   "source": [
    "# 구글링\n",
    "from collections import deque\n",
    "import sys\n",
    "\n",
    "read = sys.stdin.readline\n",
    "n = int(read())\n",
    "a, b = map(int, read().split())\n",
    "m = int(read())\n",
    "\n",
    "edge = [[] for i in range(n + 1)]\n",
    "\n",
    "for _ in range(m):\n",
    "    x, y = map(int, read().split())\n",
    "    edge[x].append(y)\n",
    "    edge[y].append(x)\n",
    "    \n",
    "for e in edge:\n",
    "    e.sort()\n",
    "\n",
    "result = [0 for i in range(n + 1)]\n",
    "    \n",
    "def bfs(start):\n",
    "    queue = deque()\n",
    "    queue.append(start)\n",
    "    visit = [False for i in range(n + 1)]\n",
    "    visit[start] = True\n",
    "    while queue:\n",
    "        v = queue.popleft()\n",
    "        for i in edge[v]:\n",
    "            if visit[i] == False:\n",
    "                visit[i] = True\n",
    "                result[i] = result[v] + 1\n",
    "                queue.append(i)\n",
    "\n",
    "bfs(a)\n",
    "print(result[b] if result[b] != 0 else -1)        "
   ]
  }
 ],
 "metadata": {
  "kernelspec": {
   "display_name": "Python 3 (ipykernel)",
   "language": "python",
   "name": "python3"
  },
  "language_info": {
   "codemirror_mode": {
    "name": "ipython",
    "version": 3
   },
   "file_extension": ".py",
   "mimetype": "text/x-python",
   "name": "python",
   "nbconvert_exporter": "python",
   "pygments_lexer": "ipython3",
   "version": "3.9.7"
  }
 },
 "nbformat": 4,
 "nbformat_minor": 5
}
