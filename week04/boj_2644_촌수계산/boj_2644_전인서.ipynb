{
 "cells": [
  {
   "cell_type": "markdown",
   "id": "a3ff9fe5",
   "metadata": {},
   "source": [
    "- 코드 찾아보고 이해"
   ]
  },
  {
   "cell_type": "code",
   "execution_count": null,
   "id": "9e64412f",
   "metadata": {},
   "outputs": [],
   "source": [
    "import sys\n",
    "read = sys.stdin.readline\n",
    "\n",
    "n = int(read())\n",
    "man1, man2 = map(int, read().split())\n",
    "m = int(read())\n",
    "\n",
    "graph = [[] for _ in range(n+1)]\n",
    "for i in range(m):\n",
    "    x, y = map(int, input().split())\n",
    "    graph[x].append(y)\n",
    "    graph[y].append(x)\n",
    "\n",
    "visited = [0 for _ in range(n+1)]\n",
    "\n",
    "def dfs(man1):\n",
    "    for i in graph[man1]:\n",
    "        if visited[i] == 0:\n",
    "            visited[i] = visited[man1] + 1\n",
    "            dfs(i)\n",
    "\n",
    "dfs(man1)\n",
    "visited[man1] = 0\n",
    "\n",
    "print(visited[man2] if visited[man2]>0 else -1)"
   ]
  },
  {
   "cell_type": "code",
   "execution_count": null,
   "id": "0a570b16",
   "metadata": {},
   "outputs": [],
   "source": []
  }
 ],
 "metadata": {
  "kernelspec": {
   "display_name": "Python 3 (ipykernel)",
   "language": "python",
   "name": "python3"
  },
  "language_info": {
   "codemirror_mode": {
    "name": "ipython",
    "version": 3
   },
   "file_extension": ".py",
   "mimetype": "text/x-python",
   "name": "python",
   "nbconvert_exporter": "python",
   "pygments_lexer": "ipython3",
   "version": "3.9.7"
  }
 },
 "nbformat": 4,
 "nbformat_minor": 5
}
