{
 "cells": [
  {
   "cell_type": "code",
   "execution_count": 195,
   "id": "49138cc5-1844-4e4b-b462-d2c51acdaf2c",
   "metadata": {
    "collapsed": true,
    "jupyter": {
     "outputs_hidden": true
    },
    "tags": []
   },
   "outputs": [
    {
     "name": "stdin",
     "output_type": "stream",
     "text": [
      " 10\n",
      " 7 6\n",
      " 9\n",
      " 1 2\n",
      " 1 3\n",
      " 1 4\n",
      " 9 1\n",
      " 9 10\n",
      " 3 5\n",
      " 3 6\n",
      " 2 7\n",
      " 2 8\n"
     ]
    },
    {
     "name": "stdout",
     "output_type": "stream",
     "text": [
      "5\n"
     ]
    }
   ],
   "source": [
    "\n",
    "from collections import deque\n",
    "\n",
    "nums = int(input())\n",
    "c,p = map(int,input().split())\n",
    "if p>c:\n",
    "    c,p=p,c\n",
    "relation = int(input())\n",
    "graph={}\n",
    "\n",
    "for i in range(1,nums+1):\n",
    "    graph[i]=[]\n",
    "\n",
    "for _ in range(0,relation):\n",
    "    input_p,input_c=map(int,input().split())\n",
    "    graph[input_p].append(input_c)\n",
    "    graph[input_c].append(input_p)\n",
    "    \n",
    "    \n",
    "    \n",
    "def DFS(c,count=0,discovered=deque([])):\n",
    "    discovered.append(c) \n",
    "    for i in graph[c]:  \n",
    "        count=count+1   \n",
    "        if i == p: \n",
    "            return count\n",
    "        elif p in graph[i]:  \n",
    "            return count + 1\n",
    "        elif i not in discovered:\n",
    "            return DFS(i,count,discovered)  \n",
    "        \n",
    "a=DFS(c)\n",
    "if p==c:\n",
    "    print(0)\n",
    "elif a!=None:\n",
    "    print(a)\n",
    "else:\n",
    "    print(-1)    "
   ]
  },
  {
   "cell_type": "code",
   "execution_count": null,
   "id": "77ffda41-31f1-49c1-9594-0c0047c697c2",
   "metadata": {},
   "outputs": [
    {
     "name": "stdin",
     "output_type": "stream",
     "text": [
      " 9\n",
      " 7 3\n",
      " 7\n",
      " 1 2\n",
      " 1 3\n",
      " 2 7\n",
      " 2 8\n",
      " 2 9\n",
      " 4 5\n",
      " 4 6\n"
     ]
    },
    {
     "ename": "NameError",
     "evalue": "name 'queue' is not defined",
     "output_type": "error",
     "traceback": [
      "\u001b[1;31m---------------------------------------------------------------------------\u001b[0m",
      "\u001b[1;31mNameError\u001b[0m                                 Traceback (most recent call last)",
      "\u001b[1;32m~\\AppData\\Local\\Temp/ipykernel_10512/869695187.py\u001b[0m in \u001b[0;36m<module>\u001b[1;34m\u001b[0m\n\u001b[0;32m     34\u001b[0m         \u001b[1;32mreturn\u001b[0m \u001b[1;33m-\u001b[0m\u001b[1;36m1\u001b[0m\u001b[1;33m\u001b[0m\u001b[1;33m\u001b[0m\u001b[0m\n\u001b[0;32m     35\u001b[0m \u001b[1;33m\u001b[0m\u001b[0m\n\u001b[1;32m---> 36\u001b[1;33m \u001b[0mprint\u001b[0m\u001b[1;33m(\u001b[0m\u001b[0mbfs\u001b[0m\u001b[1;33m(\u001b[0m\u001b[0mstart\u001b[0m\u001b[1;33m,\u001b[0m\u001b[0mend\u001b[0m\u001b[1;33m)\u001b[0m\u001b[1;33m)\u001b[0m\u001b[1;33m\u001b[0m\u001b[1;33m\u001b[0m\u001b[0m\n\u001b[0m",
      "\u001b[1;32m~\\AppData\\Local\\Temp/ipykernel_10512/869695187.py\u001b[0m in \u001b[0;36mbfs\u001b[1;34m(start, end)\u001b[0m\n\u001b[0;32m     20\u001b[0m \u001b[1;32mdef\u001b[0m \u001b[0mbfs\u001b[0m\u001b[1;33m(\u001b[0m\u001b[0mstart\u001b[0m\u001b[1;33m,\u001b[0m\u001b[0mend\u001b[0m\u001b[1;33m)\u001b[0m\u001b[1;33m:\u001b[0m\u001b[1;33m\u001b[0m\u001b[1;33m\u001b[0m\u001b[0m\n\u001b[0;32m     21\u001b[0m     \u001b[0mstart_point\u001b[0m \u001b[1;33m=\u001b[0m \u001b[0mdeque\u001b[0m\u001b[1;33m(\u001b[0m\u001b[1;33m[\u001b[0m\u001b[0mstart\u001b[0m\u001b[1;33m]\u001b[0m\u001b[1;33m)\u001b[0m\u001b[1;33m\u001b[0m\u001b[1;33m\u001b[0m\u001b[0m\n\u001b[1;32m---> 22\u001b[1;33m     \u001b[1;32mwhile\u001b[0m \u001b[0mqueue\u001b[0m\u001b[1;33m:\u001b[0m\u001b[1;33m\u001b[0m\u001b[1;33m\u001b[0m\u001b[0m\n\u001b[0m\u001b[0;32m     23\u001b[0m         \u001b[0mnow\u001b[0m \u001b[1;33m=\u001b[0m \u001b[0mqueue\u001b[0m\u001b[1;33m.\u001b[0m\u001b[0mplopleft\u001b[0m\u001b[1;33m(\u001b[0m\u001b[1;33m)\u001b[0m\u001b[1;33m\u001b[0m\u001b[1;33m\u001b[0m\u001b[0m\n\u001b[0;32m     24\u001b[0m \u001b[1;33m\u001b[0m\u001b[0m\n",
      "\u001b[1;31mNameError\u001b[0m: name 'queue' is not defined"
     ]
    }
   ],
   "source": [
    "from collections import deque\n",
    "\n",
    "nums = int(input())\n",
    "start,end= map(int,input().split())\n",
    "if p>c:\n",
    "    c,p=p,c\n",
    "relation = int(input())\n",
    "graph={}\n",
    "\n",
    "for i in range(1,nums+1):\n",
    "    graph[i]=[]\n",
    "\n",
    "for _ in range(0,relation):\n",
    "    input_p,input_c=map(int,input().split())\n",
    "    graph[input_p].append(input_c)\n",
    "    graph[input_c].append(input_p)\n",
    "    \n",
    "\n",
    "\n",
    "def bfs(start,end):\n",
    "    start_point = deque([start])\n",
    "    while start_point:\n",
    "        now = start_point.plopleft()\n",
    "        \n",
    "        for i in graph[now]:\n",
    "            if visited[i]==9:\n",
    "                start_point.append(i)\n",
    "                visited[i]=visited[now]+1\n",
    "        \n",
    "        if visited[end]>0:\n",
    "            return visited[end]\n",
    "    \n",
    "    if visited[end] == 0:\n",
    "        return -1\n",
    "\n",
    "print(bfs(start,end))"
   ]
  },
  {
   "cell_type": "code",
   "execution_count": null,
   "id": "638bad0c-cf1d-49a3-8697-a8611da0339a",
   "metadata": {},
   "outputs": [],
   "source": []
  }
 ],
 "metadata": {
  "kernelspec": {
   "display_name": "Python 3 (ipykernel)",
   "language": "python",
   "name": "python3"
  },
  "language_info": {
   "codemirror_mode": {
    "name": "ipython",
    "version": 3
   },
   "file_extension": ".py",
   "mimetype": "text/x-python",
   "name": "python",
   "nbconvert_exporter": "python",
   "pygments_lexer": "ipython3",
   "version": "3.9.7"
  },
  "widgets": {
   "application/vnd.jupyter.widget-state+json": {
    "state": {},
    "version_major": 2,
    "version_minor": 0
   }
  }
 },
 "nbformat": 4,
 "nbformat_minor": 5
}
