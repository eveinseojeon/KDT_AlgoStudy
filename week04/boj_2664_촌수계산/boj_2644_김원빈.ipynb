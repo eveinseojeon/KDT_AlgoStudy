{
 "cells": [
  {
   "cell_type": "markdown",
   "id": "cafa4f15",
   "metadata": {},
   "source": [
    "참고: 못풀어서 다른 사람답 참고"
   ]
  },
  {
   "cell_type": "code",
   "execution_count": 5,
   "id": "0effcff6",
   "metadata": {},
   "outputs": [
    {
     "name": "stdout",
     "output_type": "stream",
     "text": [
      "9\n",
      "8 6\n",
      "7\n",
      "1 2\n",
      "1 3\n",
      "2 7\n",
      "2 8\n",
      "2 9\n",
      "4 5\n",
      "4 6\n",
      "-1\n"
     ]
    }
   ],
   "source": [
    "# dfs로 풀기\n",
    "n = int(input())\n",
    "man1, man2 = map(int, input().split())\n",
    "m = int(input())\n",
    "graph = list([] for _ in range(n+1))\n",
    "visited = list(0 for _ in range(n+1))\n",
    "for i in range(m):\n",
    "    x, y = map(int, input().split())\n",
    "    graph[x].append(y)\n",
    "    graph[y].append(x)\n",
    "    \n",
    "# man1번과 나머지 사람들과 거리가 얼마인지를 visited에 넣어주게 만든다\n",
    "def dfs(num1):\n",
    "    for i in graph[num1]:\n",
    "        if visited[i] == 0:\n",
    "            visited[i] = visited[num1] + 1\n",
    "            dfs(i)\n",
    "\n",
    "dfs(man1)\n",
    "print(visited[man2] if visited[man2] > 0 else -1)"
   ]
  },
  {
   "cell_type": "code",
   "execution_count": 8,
   "id": "a128eae1",
   "metadata": {
    "scrolled": true
   },
   "outputs": [
    {
     "name": "stdout",
     "output_type": "stream",
     "text": [
      "9\n",
      "8 6\n",
      "7\n",
      "1 2\n",
      "1 3\n",
      "2 7\n",
      "2 8\n",
      "2 9\n",
      "4 5\n",
      "4 6\n",
      "-1\n"
     ]
    }
   ],
   "source": [
    "# bfs로 풀기\n",
    "n = int(input())\n",
    "man1, man2 = map(int, input().split())\n",
    "m = int(input())\n",
    "graph = list([] for _ in range(n+1))\n",
    "visited = list(0 for _ in range(n+1))\n",
    "for i in range(m):\n",
    "    x, y = map(int, input().split())\n",
    "    graph[x].append(y)\n",
    "    graph[y].append(x)\n",
    "    \n",
    "from collections import deque\n",
    "q = deque()\n",
    "q.append(man1)\n",
    "# bfs로 했을분 원리는 dfs와 똑같다.\n",
    "def bfs():\n",
    "    while q:\n",
    "        num = q.popleft()\n",
    "        for i in graph[num]:\n",
    "            if visited[i] == 0:\n",
    "                q.append(i)\n",
    "                visited[i] = visited[num] + 1\n",
    "                \n",
    "\n",
    "bfs()\n",
    "print(visited[man2] if visited[man2] > 0 else -1)                "
   ]
  }
 ],
 "metadata": {
  "kernelspec": {
   "display_name": "Python 3 (ipykernel)",
   "language": "python",
   "name": "python3"
  },
  "language_info": {
   "codemirror_mode": {
    "name": "ipython",
    "version": 3
   },
   "file_extension": ".py",
   "mimetype": "text/x-python",
   "name": "python",
   "nbconvert_exporter": "python",
   "pygments_lexer": "ipython3",
   "version": "3.9.7"
  }
 },
 "nbformat": 4,
 "nbformat_minor": 5
}
