{
 "cells": [
  {
   "cell_type": "code",
   "execution_count": 39,
   "id": "44abc75f",
   "metadata": {
    "collapsed": true
   },
   "outputs": [
    {
     "name": "stdout",
     "output_type": "stream",
     "text": [
      "2\n",
      "10 8 17\n",
      "0 0\n",
      "1 0\n",
      "1 1\n",
      "4 2\n",
      "4 3\n",
      "4 5\n",
      "2 4\n",
      "3 4\n",
      "7 4\n",
      "8 4\n",
      "9 4\n",
      "7 5\n",
      "8 5\n",
      "9 5\n",
      "7 6\n",
      "8 6\n",
      "9 6\n",
      "5\n",
      "10 10 1\n",
      "5 5\n",
      "1\n"
     ]
    }
   ],
   "source": [
    "# dfs\n",
    "import sys\n",
    "sys.setrecursionlimit(10**7) # dfs로 푸니 재귀함수 에러떠서 이걸로 해결\n",
    "\n",
    "dx = [-1, 1, 0, 0]\n",
    "dy = [0, 0, -1, 1]\n",
    "\n",
    "def dfs(x, y):    \n",
    "    graph[x][y] = 0 # bfs 무힌 반복 방지로 visited 대신 그래프에 다녀간 표시를 0으로 표시\n",
    "    for z in range(4):\n",
    "        nx = x + dx[z]\n",
    "        ny = y + dy[z]\n",
    "        if (0 <= nx < M) and (0 <= ny < N):\n",
    "            if graph[nx][ny] == 1:\n",
    "                graph[nx][ny] = 0\n",
    "                dfs(nx, ny)\n",
    "    return\n",
    "\n",
    "for _ in range(int(input())): # 1번 입력값\n",
    "    cnt = 0   \n",
    "    M, N, K = map(int, input().split()) # 2번 입력값   \n",
    "    graph = [[0 for _ in range(N)] for _ in range(M)]   \n",
    "    for _ in range(K): # K번까지 입력값        \n",
    "        x, y = map(int, input().split())\n",
    "        graph[x][y] = 1        \n",
    "    \n",
    "    # 모든 구간 탐색하며 1일 경우 dfs 실행\n",
    "    for i in range(M):\n",
    "        for j in range(N):\n",
    "            if graph[i][j] == 1:\n",
    "                dfs(i, j)\n",
    "                cnt += 1\n",
    "    print(cnt)   "
   ]
  },
  {
   "cell_type": "code",
   "execution_count": null,
   "id": "7c2ed28d",
   "metadata": {},
   "outputs": [],
   "source": [
    "# bfs\n",
    "dx = [-1, 1, 0, 0]\n",
    "dy = [0, 0, -1, 1]\n",
    "\n",
    "def bfs(x, y):\n",
    "    from collections import deque\n",
    "    queue = deque()\n",
    "    queue.append((x,y))\n",
    "    graph[x][y] = 0\n",
    "    \n",
    "    while queue:\n",
    "        x, y = queue.popleft()\n",
    "        for z in range(4):\n",
    "            nx = x + dx[z]\n",
    "            ny = y + dy[z]\n",
    "            if 0 > nx or nx >= M or 0 > ny or ny >= N:\n",
    "                continue\n",
    "            \n",
    "            if graph[nx][ny] == 1:\n",
    "                graph[nx][ny] = 0                \n",
    "                queue.append((nx, ny))\n",
    "    return\n",
    "\n",
    "for _ in range(int(input())):\n",
    "    cnt = 0   \n",
    "    M, N, K = map(int, input().split())    \n",
    "    graph = [[0 for _ in range(N)] for _ in range(M)]\n",
    "    \n",
    "    for _ in range(K):        \n",
    "        x, y = map(int, input().split())\n",
    "        graph[x][y] = 1        \n",
    "    \n",
    "    for i in range(M):\n",
    "        for j in range(N):\n",
    "            if graph[i][j] == 1:\n",
    "                bfs(i, j)\n",
    "                cnt += 1\n",
    "    print(cnt)   "
   ]
  }
 ],
 "metadata": {
  "kernelspec": {
   "display_name": "Python 3 (ipykernel)",
   "language": "python",
   "name": "python3"
  },
  "language_info": {
   "codemirror_mode": {
    "name": "ipython",
    "version": 3
   },
   "file_extension": ".py",
   "mimetype": "text/x-python",
   "name": "python",
   "nbconvert_exporter": "python",
   "pygments_lexer": "ipython3",
   "version": "3.9.7"
  }
 },
 "nbformat": 4,
 "nbformat_minor": 5
}
