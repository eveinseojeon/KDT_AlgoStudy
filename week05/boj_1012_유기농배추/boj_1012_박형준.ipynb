{
 "cells": [
  {
   "cell_type": "markdown",
   "id": "99327710",
   "metadata": {},
   "source": [
    "# boj_1012_유기농 배추"
   ]
  },
  {
   "cell_type": "code",
   "execution_count": null,
   "id": "7f089e26",
   "metadata": {},
   "outputs": [],
   "source": [
    "# 구글링\n",
    "\n",
    "from collections import deque\n",
    "import sys\n",
    "\n",
    "read = sys.stdin.readline\n",
    "t = int(read())\n",
    "result_list = []\n",
    "\n",
    "# 상하좌우\n",
    "dx = [1, -1, 0, 0]\n",
    "dy = [0, 0, -1, 1]\n",
    "\n",
    "# 배추 위치 그래프 \n",
    "def make_graph(m, n, k):\n",
    "    graph = [[0] * m for i in range(n)]\n",
    "    for _ in range(k):\n",
    "        x, y = map(int, read().split())\n",
    "        graph[y][x] = 1\n",
    "    return graph\n",
    "\n",
    "# bfs\n",
    "def bfs(y, x):\n",
    "    queue = deque([])\n",
    "    queue.append([y, x])\n",
    "    \n",
    "    while queue:\n",
    "        y, x = queue.pop()\n",
    "        for d in range(4):\n",
    "            xx = dx[d] + x\n",
    "            yy = dy[d] + y\n",
    "            if 0 <= xx < m and 0 <= yy < n:\n",
    "                if graph[yy][xx] == 1:\n",
    "                    graph[yy][xx] = 0\n",
    "                    queue.append([yy, xx])\n",
    "\n",
    "for _ in range(t):\n",
    "    result = 0\n",
    "    m, n, k = map(int, read().split())\n",
    "    graph = make_graph(m, n, k)\n",
    "    for i in range(n):\n",
    "        for j in range(m):\n",
    "            if graph[i][j] == 1:\n",
    "                bfs(i, j)\n",
    "                result += 1\n",
    "    result_list.append(result)\n",
    "\n",
    "print(*result_list, sep='\\n')\n"
   ]
  }
 ],
 "metadata": {
  "kernelspec": {
   "display_name": "Python 3 (ipykernel)",
   "language": "python",
   "name": "python3"
  },
  "language_info": {
   "codemirror_mode": {
    "name": "ipython",
    "version": 3
   },
   "file_extension": ".py",
   "mimetype": "text/x-python",
   "name": "python",
   "nbconvert_exporter": "python",
   "pygments_lexer": "ipython3",
   "version": "3.9.7"
  }
 },
 "nbformat": 4,
 "nbformat_minor": 5
}
