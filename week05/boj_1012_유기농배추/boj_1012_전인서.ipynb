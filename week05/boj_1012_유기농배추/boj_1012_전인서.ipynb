{
 "cells": [
  {
   "cell_type": "markdown",
   "id": "5a203d20",
   "metadata": {},
   "source": [
    "# bfs\n",
    "- 구글링하며 코드 뜯어보며 이해"
   ]
  },
  {
   "cell_type": "code",
   "execution_count": 1,
   "id": "10031932",
   "metadata": {},
   "outputs": [
    {
     "name": "stdout",
     "output_type": "stream",
     "text": [
      "1\n",
      "5 3 6\n",
      "0 2\n",
      "1 2\n",
      "2 2\n",
      "3 2\n",
      "4 2\n",
      "4 0\n",
      "2\n"
     ]
    }
   ],
   "source": [
    "from collections import deque\n",
    "\n",
    "def bfs(x, y):\n",
    "    queue = deque()\n",
    "    queue.append((x,y))\n",
    "    graph[x][y]==0\n",
    "    \n",
    "    while queue:\n",
    "        x, y = queue.popleft()\n",
    "        \n",
    "        for i in range(4):\n",
    "            nx = x + dx[i]\n",
    "            ny = y + dy[i]\n",
    "            \n",
    "            if nx<0 or nx>=m or ny<0 or ny>=n:\n",
    "                continue\n",
    "            \n",
    "            if graph[nx][ny] == 1:\n",
    "                graph[nx][ny] = 0\n",
    "                queue.append((nx, ny))\n",
    "    return\n",
    "\n",
    "#t = int(sys.stdin.readline().strip())\n",
    "t = int(input())\n",
    "\n",
    "for _ in range(t):\n",
    "#    m, n, k = map(int, sys.stdin.readline().strip().split())\n",
    "    m, n, k = map(int, input().split())\n",
    "    graph = [[0 for _ in range(n)] for _ in range(m)]\n",
    "    \n",
    "    for _ in range(k):\n",
    "        x, y = map(int, input().split())\n",
    "        graph[x][y] = 1\n",
    "    \n",
    "    dx = [-1, 1, 0, 0]\n",
    "    dy = [0, 0, -1, 1]\n",
    "    \n",
    "    result = 0\n",
    "    for i in range(m):\n",
    "        for j in range(n):\n",
    "            if graph[i][j] == 1:\n",
    "                bfs(i, j)\n",
    "                result += 1\n",
    "\n",
    "    print(result)\n"
   ]
  }
 ],
 "metadata": {
  "kernelspec": {
   "display_name": "Python 3 (ipykernel)",
   "language": "python",
   "name": "python3"
  },
  "language_info": {
   "codemirror_mode": {
    "name": "ipython",
    "version": 3
   },
   "file_extension": ".py",
   "mimetype": "text/x-python",
   "name": "python",
   "nbconvert_exporter": "python",
   "pygments_lexer": "ipython3",
   "version": "3.9.7"
  }
 },
 "nbformat": 4,
 "nbformat_minor": 5
}
