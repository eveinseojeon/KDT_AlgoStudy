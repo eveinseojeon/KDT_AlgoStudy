{
 "cells": [
  {
   "cell_type": "code",
   "execution_count": null,
   "id": "df991f00-f03d-4a87-a441-7513bb706484",
   "metadata": {},
   "outputs": [],
   "source": [
    "test_case = int(input())\n"
   ]
  },
  {
   "cell_type": "code",
   "execution_count": 6,
   "id": "d5eb8d27-c467-4698-aafa-dceccb2b30f3",
   "metadata": {
    "tags": []
   },
   "outputs": [
    {
     "name": "stdin",
     "output_type": "stream",
     "text": [
      " 10 8 17\n"
     ]
    }
   ],
   "source": [
    "test_case = int(input())\n",
    "x_shape,y_shape,cabbage = map(int,input().split())\n",
    "farm = [[0 for _ in range(x_shape)] for _ in range(y_shape)]"
   ]
  },
  {
   "cell_type": "code",
   "execution_count": 7,
   "id": "dcfce61d-d77b-4a34-8d1e-8edb9b43c6d6",
   "metadata": {
    "collapsed": true,
    "jupyter": {
     "outputs_hidden": true
    },
    "tags": []
   },
   "outputs": [
    {
     "name": "stdin",
     "output_type": "stream",
     "text": [
      " 0 0\n",
      " 1 0\n",
      " 1 1\n",
      " 4 2\n",
      " 4 3\n",
      " 4 5\n",
      " 2 4\n",
      " 3 4\n",
      " 7 4\n",
      " 8 4\n",
      " 9 4\n",
      " 7 5\n",
      " 8 5\n",
      " 9 5\n",
      " 7 6\n",
      " 8 6\n",
      " 9 6\n"
     ]
    }
   ],
   "source": [
    "for _ in range(cabbage):\n",
    "    x,y=map(int,input().split())\n",
    "    farm[y][x]=1\n",
    "    \n",
    "    "
   ]
  },
  {
   "cell_type": "code",
   "execution_count": 17,
   "id": "e1ea5c7f-a8ed-47e1-a47c-f86cf45bd4be",
   "metadata": {},
   "outputs": [
    {
     "data": {
      "text/plain": [
       "8"
      ]
     },
     "execution_count": 17,
     "metadata": {},
     "output_type": "execute_result"
    }
   ],
   "source": [
    "y_shape"
   ]
  },
  {
   "cell_type": "code",
   "execution_count": 19,
   "id": "1a731460-9974-4250-a734-e9df45b52f5a",
   "metadata": {},
   "outputs": [],
   "source": [
    "dire=[(1,0),(0,1),(-1,0),(0,-1)]\n",
    "def  DFS(farm,i,j):\n",
    "    if farm[i][j]==0:\n",
    "        return #바다는 아무것도 리턴하지 않는다.\n",
    "    \n",
    "    farm[i][j] = 0 #방문한곳은 0으로 처리하여 다시 섬으로 가는 것을 방지\n",
    "    \n",
    "    for d in dire: #현재 위치에서 갈 수 있는 범위\n",
    "        ny = i + d[0]\n",
    "        nx = j + d[1]\n",
    "        if nx <0 or ny < 0 or nx >= x_shape or ny >= y_shape:\n",
    "            continue #다시 for문으로 돌아가 다음 방향 탐색\n",
    "        if farm[ny][nx]==1:\n",
    "            DFS(matrix,ny,nx)\n",
    "\n",
    "\n",
    "def count_bug(x_shape,y_shape,farm):\n",
    "    count = 0\n",
    "    for i in range(y_shape):\n",
    "        for j in range(x_shape):\n",
    "            if farm[i][j]==1:\n",
    "                count +=1\n",
    "                DFS(matrix,i,j)\n",
    "    return count"
   ]
  },
  {
   "cell_type": "code",
   "execution_count": null,
   "id": "23d97ec2-084e-4c7e-a4bc-718d9b5e2054",
   "metadata": {},
   "outputs": [],
   "source": [
    "print(count(x_"
   ]
  }
 ],
 "metadata": {
  "kernelspec": {
   "display_name": "Python 3 (ipykernel)",
   "language": "python",
   "name": "python3"
  },
  "language_info": {
   "codemirror_mode": {
    "name": "ipython",
    "version": 3
   },
   "file_extension": ".py",
   "mimetype": "text/x-python",
   "name": "python",
   "nbconvert_exporter": "python",
   "pygments_lexer": "ipython3",
   "version": "3.9.7"
  },
  "widgets": {
   "application/vnd.jupyter.widget-state+json": {
    "state": {},
    "version_major": 2,
    "version_minor": 0
   }
  }
 },
 "nbformat": 4,
 "nbformat_minor": 5
}
