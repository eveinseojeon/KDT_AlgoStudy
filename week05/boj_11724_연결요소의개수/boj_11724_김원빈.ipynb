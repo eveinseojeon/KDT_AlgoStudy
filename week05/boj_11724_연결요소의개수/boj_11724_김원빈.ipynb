{
 "cells": [
  {
   "cell_type": "code",
   "execution_count": 36,
   "id": "20e7793c",
   "metadata": {},
   "outputs": [
    {
     "name": "stdout",
     "output_type": "stream",
     "text": [
      "6 8\n",
      "1 2\n",
      "2 5\n",
      "5 1\n",
      "3 4\n",
      "4 6\n",
      "5 4\n",
      "2 4\n",
      "2 3\n",
      "1\n"
     ]
    }
   ],
   "source": [
    "# bfs\n",
    "import sys\n",
    "from collections import deque\n",
    "input = sys.stdin.readline # 이거 안해주면 시간초과됨\n",
    "\n",
    "N, M = map(int, input().split())\n",
    "\n",
    "visited = [0] * (N+1)\n",
    "graph = [[] for _ in range(N+1)]\n",
    "for i in range(M):\n",
    "    u, v = map(int, input().split())\n",
    "    graph[u].append(v)\n",
    "    graph[v].append(u)\n",
    "    \n",
    "queue = deque()\n",
    "def bfs():\n",
    "    cnt = 0\n",
    "    for i in range(1, N+1):\n",
    "        if visited[i] == 0: # 시간복잡도 줄이기위해 방문하지 않은 것만 bfs 실행\n",
    "            visited[i] = 1\n",
    "            queue.append(i)\n",
    "            while queue: # 연결된 애들 전부 방문으로 1 처리\n",
    "                q = queue.popleft()                \n",
    "                for j in graph[q]:\n",
    "                    if visited[j] == 0:\n",
    "                        visited[j] = 1\n",
    "                        queue.append(j)\n",
    "            cnt += 1 # bfs 실행된 애들만 +1 해주면 연결요소 개수 나옴\n",
    "    return print(cnt)\n",
    "bfs()"
   ]
  },
  {
   "cell_type": "code",
   "execution_count": 39,
   "id": "b32ce092",
   "metadata": {
    "collapsed": true
   },
   "outputs": [
    {
     "ename": "ValueError",
     "evalue": "not enough values to unpack (expected 2, got 0)",
     "output_type": "error",
     "traceback": [
      "\u001b[1;31m---------------------------------------------------------------------------\u001b[0m",
      "\u001b[1;31mValueError\u001b[0m                                Traceback (most recent call last)",
      "\u001b[1;32m~\\AppData\\Local\\Temp/ipykernel_5852/3438933810.py\u001b[0m in \u001b[0;36m<module>\u001b[1;34m\u001b[0m\n\u001b[0;32m      2\u001b[0m \u001b[1;33m\u001b[0m\u001b[0m\n\u001b[0;32m      3\u001b[0m \u001b[1;33m\u001b[0m\u001b[0m\n\u001b[1;32m----> 4\u001b[1;33m \u001b[0mN\u001b[0m\u001b[1;33m,\u001b[0m \u001b[0mM\u001b[0m \u001b[1;33m=\u001b[0m \u001b[0mmap\u001b[0m\u001b[1;33m(\u001b[0m\u001b[0mint\u001b[0m\u001b[1;33m,\u001b[0m \u001b[0minput\u001b[0m\u001b[1;33m(\u001b[0m\u001b[1;33m)\u001b[0m\u001b[1;33m.\u001b[0m\u001b[0msplit\u001b[0m\u001b[1;33m(\u001b[0m\u001b[1;33m)\u001b[0m\u001b[1;33m)\u001b[0m\u001b[1;33m\u001b[0m\u001b[1;33m\u001b[0m\u001b[0m\n\u001b[0m\u001b[0;32m      5\u001b[0m \u001b[1;33m\u001b[0m\u001b[0m\n\u001b[0;32m      6\u001b[0m \u001b[0mvisited\u001b[0m \u001b[1;33m=\u001b[0m \u001b[1;33m[\u001b[0m\u001b[1;36m0\u001b[0m\u001b[1;33m]\u001b[0m \u001b[1;33m*\u001b[0m \u001b[1;33m(\u001b[0m\u001b[0mN\u001b[0m\u001b[1;33m+\u001b[0m\u001b[1;36m1\u001b[0m\u001b[1;33m)\u001b[0m\u001b[1;33m\u001b[0m\u001b[1;33m\u001b[0m\u001b[0m\n",
      "\u001b[1;31mValueError\u001b[0m: not enough values to unpack (expected 2, got 0)"
     ]
    }
   ],
   "source": [
    "# dfs\n",
    "import sys\n",
    "sys.setrecursionlimit(5000) # 이거 안해주면 런타임에러\n",
    "input = sys.stdin.readline\n",
    "\n",
    "N, M = map(int, input().split())\n",
    "\n",
    "visited = [0] * (N+1)\n",
    "graph = [[] for _ in range(N+1)]\n",
    "for i in range(M):\n",
    "    u, v = map(int, input().split())\n",
    "    graph[u].append(v)\n",
    "    graph[v].append(u)\n",
    "\n",
    "def dfs(start): # dfs로 연결된 노드들 전부 방문처리 해주는 용도\n",
    "    visited[start] = 1\n",
    "    for i in graph[start]:\n",
    "        if visited[i] == 0:\n",
    "            visited[i] = 1\n",
    "            dfs(i)\n",
    "            \n",
    "cnt = 0            \n",
    "for i in range(1, N+1): # 범위 전부를 넣어줘야 연결 요소의 개수를 셀 수 있음\n",
    "    if visited[i] == 0: # dfs로 이미 방문 처리된 노드들은 더이상 실행안됨\n",
    "        dfs(i)\n",
    "        cnt += 1 # 연결된 애들 전부 방문처리가 끝나면 +1을 해줌\n",
    "        \n",
    "print(cnt)"
   ]
  }
 ],
 "metadata": {
  "kernelspec": {
   "display_name": "Python 3 (ipykernel)",
   "language": "python",
   "name": "python3"
  },
  "language_info": {
   "codemirror_mode": {
    "name": "ipython",
    "version": 3
   },
   "file_extension": ".py",
   "mimetype": "text/x-python",
   "name": "python",
   "nbconvert_exporter": "python",
   "pygments_lexer": "ipython3",
   "version": "3.9.7"
  }
 },
 "nbformat": 4,
 "nbformat_minor": 5
}
