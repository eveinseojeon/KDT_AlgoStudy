{
 "cells": [
  {
   "cell_type": "markdown",
   "id": "7cfa5f7f",
   "metadata": {},
   "source": [
    "# boj_11724_연결 요소의 개수"
   ]
  },
  {
   "cell_type": "code",
   "execution_count": 1,
   "id": "b092962e",
   "metadata": {
    "collapsed": true
   },
   "outputs": [
    {
     "ename": "ValueError",
     "evalue": "not enough values to unpack (expected 2, got 0)",
     "output_type": "error",
     "traceback": [
      "\u001b[1;31m---------------------------------------------------------------------------\u001b[0m",
      "\u001b[1;31mValueError\u001b[0m                                Traceback (most recent call last)",
      "\u001b[1;32m~\\AppData\\Local\\Temp/ipykernel_1688/1018919009.py\u001b[0m in \u001b[0;36m<module>\u001b[1;34m\u001b[0m\n\u001b[0;32m      6\u001b[0m \u001b[0mread\u001b[0m \u001b[1;33m=\u001b[0m \u001b[0msys\u001b[0m\u001b[1;33m.\u001b[0m\u001b[0mstdin\u001b[0m\u001b[1;33m.\u001b[0m\u001b[0mreadline\u001b[0m\u001b[1;33m\u001b[0m\u001b[1;33m\u001b[0m\u001b[0m\n\u001b[0;32m      7\u001b[0m \u001b[1;33m\u001b[0m\u001b[0m\n\u001b[1;32m----> 8\u001b[1;33m \u001b[0mn\u001b[0m\u001b[1;33m,\u001b[0m \u001b[0mm\u001b[0m \u001b[1;33m=\u001b[0m \u001b[0mmap\u001b[0m\u001b[1;33m(\u001b[0m\u001b[0mint\u001b[0m\u001b[1;33m,\u001b[0m \u001b[0mread\u001b[0m\u001b[1;33m(\u001b[0m\u001b[1;33m)\u001b[0m\u001b[1;33m.\u001b[0m\u001b[0msplit\u001b[0m\u001b[1;33m(\u001b[0m\u001b[1;33m)\u001b[0m\u001b[1;33m)\u001b[0m\u001b[1;33m\u001b[0m\u001b[1;33m\u001b[0m\u001b[0m\n\u001b[0m\u001b[0;32m      9\u001b[0m \u001b[1;33m\u001b[0m\u001b[0m\n\u001b[0;32m     10\u001b[0m \u001b[0mgraph\u001b[0m \u001b[1;33m=\u001b[0m \u001b[1;33m[\u001b[0m\u001b[1;33m[\u001b[0m\u001b[1;33m]\u001b[0m \u001b[1;32mfor\u001b[0m \u001b[0m_\u001b[0m \u001b[1;32min\u001b[0m \u001b[0mrange\u001b[0m\u001b[1;33m(\u001b[0m\u001b[0mn\u001b[0m \u001b[1;33m+\u001b[0m \u001b[1;36m1\u001b[0m\u001b[1;33m)\u001b[0m\u001b[1;33m]\u001b[0m\u001b[1;33m\u001b[0m\u001b[1;33m\u001b[0m\u001b[0m\n",
      "\u001b[1;31mValueError\u001b[0m: not enough values to unpack (expected 2, got 0)"
     ]
    }
   ],
   "source": [
    "# 구글링\n",
    "\n",
    "import sys\n",
    "# 재귀 깊이 크게\n",
    "sys.setrecursionlimit(5000)\n",
    "read = sys.stdin.readline\n",
    "\n",
    "n, m = map(int, read().split())\n",
    "\n",
    "graph = [[] for _ in range(n + 1)]\n",
    "for _ in range(m):\n",
    "    x, y = map(int, read().split())\n",
    "    graph[x].append(y)\n",
    "    graph[y].append(x)\n",
    "    \n",
    "for g in graph:\n",
    "    g.sort()\n",
    "\n",
    "visited = [False] * (n + 1)\n",
    "# dfs\n",
    "def dfs(start, depth):\n",
    "    # 방문 체크\n",
    "    visited[start] = True\n",
    "    for i in graph[start]:\n",
    "        if not visited[i]:\n",
    "            dfs(i, depth + 1)\n",
    "\n",
    "# 연결요소 개수\n",
    "count = 0\n",
    "\n",
    "# 1 ~ n번 노드 돌기\n",
    "for i in range(1, n + 1):\n",
    "    if not visited[i]: # i번째 노드 방문 안했다면\n",
    "        if not graph[i]: # 연결된 그래프 없다면\n",
    "            count += 1 # 개수 +1\n",
    "            visited[i] = True \n",
    "        else: # 연결된 그래프 있다면\n",
    "            dfs(i, 0) # dfs돌고 개수 +1\n",
    "            count += 1\n",
    "\n",
    "print(count)"
   ]
  },
  {
   "cell_type": "code",
   "execution_count": null,
   "id": "dddd2377",
   "metadata": {},
   "outputs": [],
   "source": [
    "# 구글링\n",
    "\n",
    "import sys\n",
    "from collections import deque\n",
    "\n",
    "read = sys.stdin.readline\n",
    "\n",
    "n, m = map(int, read().split())\n",
    "\n",
    "graph = [[] for _ in range(n + 1)]\n",
    "for _ in range(m):\n",
    "    x, y = map(int, read().split())\n",
    "    graph[x].append(y)\n",
    "    graph[y].append(x)\n",
    "\n",
    "visited = [False] * (n + 1)\n",
    "# bfs\n",
    "def bfs(start):\n",
    "    queue = deque([start])\n",
    "    visited[start] = True\n",
    "    while queue:\n",
    "        node = queue.popleft()\n",
    "        for i in graph[node]:\n",
    "            if not visited[i]:\n",
    "                visited[i] = True\n",
    "                queue.append(i)\n",
    "                \n",
    "count = 0\n",
    "\n",
    "for i in range(1, n+1):\n",
    "    if not visited[i]: # 방문하지 않았다면\n",
    "        if not graph[i]: # 그래프 비어있으면\n",
    "            count += 1\n",
    "            visited[i] = True\n",
    "        else: # 그래프 비어있지 않으면\n",
    "            bfs(i) # i를 시작점으로 bfs\n",
    "            count += 1\n",
    "            \n",
    "print(count)"
   ]
  }
 ],
 "metadata": {
  "kernelspec": {
   "display_name": "Python 3 (ipykernel)",
   "language": "python",
   "name": "python3"
  },
  "language_info": {
   "codemirror_mode": {
    "name": "ipython",
    "version": 3
   },
   "file_extension": ".py",
   "mimetype": "text/x-python",
   "name": "python",
   "nbconvert_exporter": "python",
   "pygments_lexer": "ipython3",
   "version": "3.9.7"
  }
 },
 "nbformat": 4,
 "nbformat_minor": 5
}
