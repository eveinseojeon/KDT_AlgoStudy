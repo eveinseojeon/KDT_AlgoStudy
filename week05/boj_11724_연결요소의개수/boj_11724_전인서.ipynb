{
 "cells": [
  {
   "cell_type": "markdown",
   "id": "5a203d20",
   "metadata": {},
   "source": [
    "# bfs\n",
    "- 이전 코드 복붙해서 사용"
   ]
  },
  {
   "cell_type": "code",
   "execution_count": 20,
   "id": "9cb3884d",
   "metadata": {},
   "outputs": [
    {
     "name": "stdout",
     "output_type": "stream",
     "text": [
      "6 5\n",
      "1 2\n",
      "2 5\n",
      "1 5\n",
      "3 4\n",
      "4 6\n",
      "2\n"
     ]
    }
   ],
   "source": [
    "from collections import deque\n",
    "\n",
    "def bfs(x):\n",
    "    queue = deque()\n",
    "    queue.append(x)\n",
    "    \n",
    "    while queue:\n",
    "        z = queue.popleft()\n",
    "\n",
    "        for i in graph[z]:\n",
    "            if visited[i] == 0:\n",
    "                visited[i] = 1\n",
    "                queue.append(i)\n",
    "\n",
    "\n",
    "n, m = map(int, sys.stdin.readline().strip().split()) # input() 함수로는 시간 초과 떠서 바꿈\n",
    "\n",
    "graph = [[] for _ in range(n+1)]\n",
    "for _ in range(m):\n",
    "    u, v = map(int, sys.stdin.readline().strip().split()) # input() 함수로는 시간 초과 떠서 바꿈\n",
    "    graph[u].append(v)\n",
    "    graph[v].append(u)\n",
    "\n",
    "visited = [0 for _ in range(n+1)] \n",
    "\n",
    "result = 0\n",
    "for i in range(1, n+1):\n",
    "    if visited[i] == 0:\n",
    "        bfs(i)\n",
    "        result += 1\n",
    "\n",
    "print(result)"
   ]
  }
 ],
 "metadata": {
  "kernelspec": {
   "display_name": "Python 3 (ipykernel)",
   "language": "python",
   "name": "python3"
  },
  "language_info": {
   "codemirror_mode": {
    "name": "ipython",
    "version": 3
   },
   "file_extension": ".py",
   "mimetype": "text/x-python",
   "name": "python",
   "nbconvert_exporter": "python",
   "pygments_lexer": "ipython3",
   "version": "3.9.7"
  }
 },
 "nbformat": 4,
 "nbformat_minor": 5
}
