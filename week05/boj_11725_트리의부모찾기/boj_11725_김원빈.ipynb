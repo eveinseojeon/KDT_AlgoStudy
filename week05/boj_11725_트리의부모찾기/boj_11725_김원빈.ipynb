{
 "cells": [
  {
   "cell_type": "markdown",
   "id": "bdc79970",
   "metadata": {},
   "source": [
    "문제이해못해서 다른 답 참고"
   ]
  },
  {
   "cell_type": "code",
   "execution_count": 7,
   "id": "2690d448",
   "metadata": {
    "collapsed": true
   },
   "outputs": [
    {
     "ename": "ValueError",
     "evalue": "invalid literal for int() with base 10: ''",
     "output_type": "error",
     "traceback": [
      "\u001b[1;31m---------------------------------------------------------------------------\u001b[0m",
      "\u001b[1;31mValueError\u001b[0m                                Traceback (most recent call last)",
      "\u001b[1;32m~\\AppData\\Local\\Temp/ipykernel_4408/1037841903.py\u001b[0m in \u001b[0;36m<module>\u001b[1;34m\u001b[0m\n\u001b[0;32m      1\u001b[0m \u001b[1;32mimport\u001b[0m \u001b[0msys\u001b[0m\u001b[1;33m\u001b[0m\u001b[1;33m\u001b[0m\u001b[0m\n\u001b[0;32m      2\u001b[0m \u001b[0minput\u001b[0m \u001b[1;33m=\u001b[0m \u001b[0msys\u001b[0m\u001b[1;33m.\u001b[0m\u001b[0mstdin\u001b[0m\u001b[1;33m.\u001b[0m\u001b[0mreadline\u001b[0m\u001b[1;33m\u001b[0m\u001b[1;33m\u001b[0m\u001b[0m\n\u001b[1;32m----> 3\u001b[1;33m \u001b[0mN\u001b[0m \u001b[1;33m=\u001b[0m \u001b[0mint\u001b[0m\u001b[1;33m(\u001b[0m\u001b[0minput\u001b[0m\u001b[1;33m(\u001b[0m\u001b[1;33m)\u001b[0m\u001b[1;33m)\u001b[0m\u001b[1;33m\u001b[0m\u001b[1;33m\u001b[0m\u001b[0m\n\u001b[0m\u001b[0;32m      4\u001b[0m \u001b[1;33m\u001b[0m\u001b[0m\n\u001b[0;32m      5\u001b[0m \u001b[1;31m# 트리\u001b[0m\u001b[1;33m\u001b[0m\u001b[1;33m\u001b[0m\u001b[0m\n",
      "\u001b[1;31mValueError\u001b[0m: invalid literal for int() with base 10: ''"
     ]
    }
   ],
   "source": [
    "# dfs 사용\n",
    "import sys\n",
    "sys.setrecursionlimit(10**9) # 회귀 문제해결용\n",
    "input = sys.stdin.readline # 런타임 에러용\n",
    "N = int(input())\n",
    "\n",
    "# 트리\n",
    "Tree = [[] for _ in range(N+1)]\n",
    "\n",
    "# 부모 노드 저장\n",
    "Parents = [0 for _ in range(N+1)]\n",
    "\n",
    "# 트리 구조 입력\n",
    "for i in range(N-1):\n",
    "    a, b = map(int, input().split())\n",
    "    Tree[a].append(b)\n",
    "    Tree[b].append(a)\n",
    "\n",
    "# 부모 적어주기\n",
    "def dfs(start):\n",
    "    for i in Tree[start]:\n",
    "        if Parents[i] == 0:\n",
    "            Parents[i] = start\n",
    "            dfs(i)\n",
    "            \n",
    "dfs(1) \n",
    "for i in range(2, N+1):\n",
    "    print(Parents[i])"
   ]
  }
 ],
 "metadata": {
  "kernelspec": {
   "display_name": "Python 3 (ipykernel)",
   "language": "python",
   "name": "python3"
  },
  "language_info": {
   "codemirror_mode": {
    "name": "ipython",
    "version": 3
   },
   "file_extension": ".py",
   "mimetype": "text/x-python",
   "name": "python",
   "nbconvert_exporter": "python",
   "pygments_lexer": "ipython3",
   "version": "3.9.7"
  }
 },
 "nbformat": 4,
 "nbformat_minor": 5
}
