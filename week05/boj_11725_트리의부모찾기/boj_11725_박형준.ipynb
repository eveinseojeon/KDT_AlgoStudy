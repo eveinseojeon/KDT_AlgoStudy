{
 "cells": [
  {
   "cell_type": "markdown",
   "id": "561c9a4c",
   "metadata": {},
   "source": [
    "# boj_11725_트리의부모찾기"
   ]
  },
  {
   "cell_type": "code",
   "execution_count": null,
   "id": "111a5a84",
   "metadata": {},
   "outputs": [],
   "source": [
    "# 구글링\n",
    "\n",
    "import sys\n",
    "sys.setrecursionlimit(10 ** 9)\n",
    "read = sys.stdin.readline\n",
    "\n",
    "n = int(read())\n",
    "graph = [[] for _ in range(n + 1)]\n",
    "for _ in range(n - 1):\n",
    "    x, y = map(int, read().split())\n",
    "    graph[x].append(y)\n",
    "    graph[y].append(x)\n",
    "\n",
    "# 부모노드\n",
    "parents = [0 for _ in range(n + 1)]\n",
    "def dfs(start, graph, parents):\n",
    "    for i in graph[start]:\n",
    "        if not parents[i]:\n",
    "            parents[i] = start\n",
    "            dfs(i, graph, parents)\n",
    "\n",
    "dfs(1, graph, parents)\n",
    "\n",
    "for i in range(2, n+1):\n",
    "    print(parents[i])\n",
    "    "
   ]
  },
  {
   "cell_type": "code",
   "execution_count": null,
   "id": "3103cda7",
   "metadata": {},
   "outputs": [],
   "source": [
    "# 구글링\n",
    "\n",
    "import sys\n",
    "from collections import deque\n",
    "\n",
    "read = sys.stdin.readline\n",
    "\n",
    "n = int(read())\n",
    "graph = [[] for _ in range(n + 1)]\n",
    "for _ in range(n - 1):\n",
    "    x, y = map(int, read().split())\n",
    "    graph[x].append(y)\n",
    "    graph[y].append(x)\n",
    "\n",
    "parents = [0 for _ in range(n + 1)]\n",
    "def bfs(start, graph, parents):\n",
    "    queue = deque([start])\n",
    "    while queue:\n",
    "        node = queue.popleft()\n",
    "        for i in graph[node]:\n",
    "            if not parents[i]:\n",
    "                parents[i] = node\n",
    "                queue.append(i)\n",
    "\n",
    "bfs(1, graph, parents)\n",
    "for i in range(2, n+1):\n",
    "    print(parents[i])\n",
    "    "
   ]
  }
 ],
 "metadata": {
  "kernelspec": {
   "display_name": "Python 3 (ipykernel)",
   "language": "python",
   "name": "python3"
  },
  "language_info": {
   "codemirror_mode": {
    "name": "ipython",
    "version": 3
   },
   "file_extension": ".py",
   "mimetype": "text/x-python",
   "name": "python",
   "nbconvert_exporter": "python",
   "pygments_lexer": "ipython3",
   "version": "3.9.7"
  }
 },
 "nbformat": 4,
 "nbformat_minor": 5
}
