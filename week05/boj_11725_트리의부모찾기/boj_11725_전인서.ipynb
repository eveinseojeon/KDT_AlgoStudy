{
 "cells": [
  {
   "cell_type": "markdown",
   "id": "5a203d20",
   "metadata": {},
   "source": [
    "# bfs\n",
    "- 처음으로 bfs 혼자 풀었다!"
   ]
  },
  {
   "cell_type": "code",
   "execution_count": 4,
   "id": "9cb3884d",
   "metadata": {},
   "outputs": [
    {
     "name": "stdout",
     "output_type": "stream",
     "text": [
      "7\n",
      "1 6\n",
      "6 3\n",
      "3 5\n",
      "4 1\n",
      "2 4\n",
      "4 7\n",
      "4\n",
      "6\n",
      "1\n",
      "3\n",
      "1\n",
      "4\n"
     ]
    }
   ],
   "source": [
    "from collections import deque\n",
    "import sys\n",
    "\n",
    "def bfs(x):\n",
    "    queue = deque()\n",
    "    queue.append(x)\n",
    "    \n",
    "    while queue:\n",
    "        z = queue.popleft()\n",
    "        \n",
    "        for i in graph[z]:\n",
    "            if parents[i] == 0:\n",
    "                parents[i] = z\n",
    "                queue.append(i)\n",
    "\n",
    "\n",
    "n = int(sys.stdin.readline().strip())\n",
    "\n",
    "graph = [[] for _ in range(n+1)]\n",
    "\n",
    "for _ in range(n-1):\n",
    "    x, y = map(int, sys.stdin.readline().strip().split())\n",
    "    graph[x].append(y)\n",
    "    graph[y].append(x)\n",
    "\n",
    "parents = [0 for _ in range(n+1)]\n",
    "\n",
    "bfs(1)\n",
    "\n",
    "for i in range(2, n+1):\n",
    "    print(parents[i])"
   ]
  }
 ],
 "metadata": {
  "kernelspec": {
   "display_name": "Python 3 (ipykernel)",
   "language": "python",
   "name": "python3"
  },
  "language_info": {
   "codemirror_mode": {
    "name": "ipython",
    "version": 3
   },
   "file_extension": ".py",
   "mimetype": "text/x-python",
   "name": "python",
   "nbconvert_exporter": "python",
   "pygments_lexer": "ipython3",
   "version": "3.9.7"
  }
 },
 "nbformat": 4,
 "nbformat_minor": 5
}
