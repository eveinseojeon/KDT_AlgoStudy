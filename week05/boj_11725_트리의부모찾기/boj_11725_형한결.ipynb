{
 "cells": [
  {
   "cell_type": "code",
   "execution_count": 4,
   "id": "44731ed9-74e6-4e15-9536-139647391930",
   "metadata": {
    "jp-MarkdownHeadingCollapsed": true,
    "tags": []
   },
   "outputs": [
    {
     "name": "stdin",
     "output_type": "stream",
     "text": [
      " 7\n",
      " 1 6\n",
      " 6 3\n",
      " 3 5\n",
      " 4 1\n",
      " 2 4\n",
      " 4 7\n"
     ]
    }
   ],
   "source": [
    "N = int(input())\n",
    "\n",
    "graph={}\n",
    "for i in range(1,N+1):\n",
    "    graph[i]=[]\n",
    "\n",
    "\n",
    "for _ in range(0,N-1):\n",
    "    a,b= map(int,input().split())\n",
    "    if a==1:\n",
    "        graph[1].append(b)\n",
    "    elif b==1:\n",
    "        graph[1].append(a)\n",
    "    else:\n",
    "        graph[a].append(b)\n",
    "        graph[b].append(a)      "
   ]
  },
  {
   "cell_type": "code",
   "execution_count": 16,
   "id": "58374233-2a5b-413a-89f2-d0dad396dde3",
   "metadata": {},
   "outputs": [],
   "source": [
    "from collections import deque\n",
    "family=[]\n",
    "def DFS(start,discovered=deque([])):\n",
    "    discovered.append(start)\n",
    "    for child in graph[start]:\n",
    "        if child not in discovered:\n",
    "            family.append((start,child))\n",
    "            discovered= DFS(child,discovered)\n",
    "    return discovered"
   ]
  },
  {
   "cell_type": "code",
   "execution_count": 15,
   "id": "478cc3de-1455-481a-8ba7-182fd21338fa",
   "metadata": {},
   "outputs": [
    {
     "data": {
      "text/plain": [
       "{1: [6, 4], 2: [4], 3: [6, 5], 4: [2, 7], 5: [3], 6: [3], 7: [4]}"
      ]
     },
     "execution_count": 15,
     "metadata": {},
     "output_type": "execute_result"
    }
   ],
   "source": [
    "graph"
   ]
  },
  {
   "cell_type": "code",
   "execution_count": 17,
   "id": "43a2b7dd-ba24-4074-8ec4-745a54cd18e6",
   "metadata": {},
   "outputs": [
    {
     "data": {
      "text/plain": [
       "deque([1, 6, 3, 5, 4, 2, 7])"
      ]
     },
     "execution_count": 17,
     "metadata": {},
     "output_type": "execute_result"
    }
   ],
   "source": [
    "DFS(1)"
   ]
  },
  {
   "cell_type": "code",
   "execution_count": 34,
   "id": "9c3ff13e-c465-4947-8869-85f58d17e8ca",
   "metadata": {},
   "outputs": [],
   "source": [
    "family.sort(key=lambda x : (x[1]))"
   ]
  },
  {
   "cell_type": "code",
   "execution_count": 35,
   "id": "8ef09f74-1b39-4963-8c53-bc44a6f21055",
   "metadata": {},
   "outputs": [
    {
     "data": {
      "text/plain": [
       "[(4, 2), (6, 3), (1, 4), (3, 5), (1, 6), (4, 7)]"
      ]
     },
     "execution_count": 35,
     "metadata": {},
     "output_type": "execute_result"
    }
   ],
   "source": [
    "family"
   ]
  },
  {
   "cell_type": "code",
   "execution_count": 37,
   "id": "35c91c27-dc01-4bee-92f0-bf042ee80462",
   "metadata": {},
   "outputs": [
    {
     "name": "stdout",
     "output_type": "stream",
     "text": [
      "4\n",
      "6\n",
      "1\n",
      "3\n",
      "1\n",
      "4\n"
     ]
    }
   ],
   "source": [
    "for answer in family:\n",
    "    print(answer[0])"
   ]
  },
  {
   "cell_type": "code",
   "execution_count": null,
   "id": "64e17f12-5aed-414f-8fae-be09b35800af",
   "metadata": {},
   "outputs": [],
   "source": [
    "N = int(input())\n",
    "\n",
    "graph={}\n",
    "for i in range(1,N+1):\n",
    "    graph[i]=[]\n",
    "\n",
    "\n",
    "for _ in range(0,N-1):\n",
    "    a,b= map(int,input().split())\n",
    "    if a==1:\n",
    "        graph[1].append(b)\n",
    "    elif b==1:\n",
    "        graph[1].append(a)\n",
    "    else:\n",
    "        graph[a].append(b)\n",
    "        graph[b].append(a)  \n",
    "        \n",
    "        \n",
    "from collections import deque\n",
    "family=[]\n",
    "def DFS(start,discovered=deque([])):\n",
    "    discovered.append(start)\n",
    "    for child in graph[start]:\n",
    "        if child not in discovered:\n",
    "            family.append((start,child))\n",
    "            discovered= DFS(child,discovered)\n",
    "    return discovered \n",
    "\n",
    "DFS(1)"
   ]
  }
 ],
 "metadata": {
  "kernelspec": {
   "display_name": "Python 3 (ipykernel)",
   "language": "python",
   "name": "python3"
  },
  "language_info": {
   "codemirror_mode": {
    "name": "ipython",
    "version": 3
   },
   "file_extension": ".py",
   "mimetype": "text/x-python",
   "name": "python",
   "nbconvert_exporter": "python",
   "pygments_lexer": "ipython3",
   "version": "3.9.7"
  },
  "widgets": {
   "application/vnd.jupyter.widget-state+json": {
    "state": {},
    "version_major": 2,
    "version_minor": 0
   }
  }
 },
 "nbformat": 4,
 "nbformat_minor": 5
}
