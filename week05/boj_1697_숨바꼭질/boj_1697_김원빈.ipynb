{
 "cells": [
  {
   "cell_type": "markdown",
   "id": "53e4edf9",
   "metadata": {},
   "source": [
    "못풀어서 다른 답 참고"
   ]
  },
  {
   "cell_type": "code",
   "execution_count": 2,
   "id": "be8f0817",
   "metadata": {},
   "outputs": [
    {
     "name": "stdout",
     "output_type": "stream",
     "text": [
      "5 17\n",
      "4\n"
     ]
    }
   ],
   "source": [
    "import sys\n",
    "from collections import deque\n",
    "input = sys.stdin.readline\n",
    "\n",
    "def bfs():\n",
    "    queue = deque()\n",
    "    queue.append(N)\n",
    "    while queue:\n",
    "        x = queue.popleft()\n",
    "        if x == K:\n",
    "            print(dist[x])\n",
    "            break\n",
    "        for i in (x-1, x+1, x*2):\n",
    "            if 0 <= i <= Max and not dist[i]:\n",
    "                dist[i] = dist[x] + 1\n",
    "                queue.append(i)\n",
    "\n",
    "Max = 10 ** 5\n",
    "dist = [0] * (Max+1)\n",
    "N, K = map(int, input().split())\n",
    "\n",
    "bfs()"
   ]
  }
 ],
 "metadata": {
  "kernelspec": {
   "display_name": "Python 3 (ipykernel)",
   "language": "python",
   "name": "python3"
  },
  "language_info": {
   "codemirror_mode": {
    "name": "ipython",
    "version": 3
   },
   "file_extension": ".py",
   "mimetype": "text/x-python",
   "name": "python",
   "nbconvert_exporter": "python",
   "pygments_lexer": "ipython3",
   "version": "3.9.7"
  }
 },
 "nbformat": 4,
 "nbformat_minor": 5
}
