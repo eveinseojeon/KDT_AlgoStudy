{
 "cells": [
  {
   "cell_type": "markdown",
   "id": "c24691de",
   "metadata": {},
   "source": [
    "# boj_1697_숨바꼭질"
   ]
  },
  {
   "cell_type": "code",
   "execution_count": null,
   "id": "454943df",
   "metadata": {},
   "outputs": [],
   "source": [
    "# 오답\n",
    "# import sys\n",
    "# from collections import deque\n",
    "# read = sys.stdin.readline\n",
    "\n",
    "# n, k = map(int, read().split())\n",
    "\n",
    "# visited = [False for _ in range(k * 2)]\n",
    "\n",
    "# road = [[] for _ in range(k - n)]\n",
    "# for i in range(k - n):\n",
    "#     road[i].append(i - 1)\n",
    "#     road[i].append(i + 1)\n",
    "#     road[i].append(i * 2)\n",
    "\n",
    "# count = 0\n",
    "# def bfs(start, end):\n",
    "#     queue = deque([start])\n",
    "#     while end not in queue:\n",
    "#         node = queue.popleft()\n",
    "#         for i in road[node]:\n",
    "#             if not visited[i]:\n",
    "#                 visited[i] = True\n",
    "#                 count += 1\n",
    "#                 queue.append(i)\n",
    "\n",
    "# bfs(n, k)\n",
    "# print(count + 1)"
   ]
  },
  {
   "cell_type": "code",
   "execution_count": null,
   "id": "dc937eb3",
   "metadata": {},
   "outputs": [],
   "source": [
    "# 구글링\n",
    "\n",
    "from collections import deque\n",
    "import sys\n",
    "read = sys.stdin.readline\n",
    "\n",
    "def bfs():\n",
    "    q = deque()\n",
    "    q.append(n)\n",
    "    while q:\n",
    "        x = q.popleft()\n",
    "        if x == k:\n",
    "            print(dist[x])\n",
    "            break\n",
    "        for nx in (x -1, x + 1, x * 2):\n",
    "            if 0 <= nx <= MAX and not dist[nx]:\n",
    "                dist[nx] = dist[x] + 1\n",
    "                q.append(nx)\n",
    "# 시간초과 안나게\n",
    "MAX = 10 ** 5\n",
    "dist = [0] * (MAX + 1)\n",
    "n, k = map(int, read().split())\n",
    "\n",
    "bfs()\n"
   ]
  }
 ],
 "metadata": {
  "kernelspec": {
   "display_name": "Python 3 (ipykernel)",
   "language": "python",
   "name": "python3"
  },
  "language_info": {
   "codemirror_mode": {
    "name": "ipython",
    "version": 3
   },
   "file_extension": ".py",
   "mimetype": "text/x-python",
   "name": "python",
   "nbconvert_exporter": "python",
   "pygments_lexer": "ipython3",
   "version": "3.9.7"
  }
 },
 "nbformat": 4,
 "nbformat_minor": 5
}
