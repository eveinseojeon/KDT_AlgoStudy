{
 "cells": [
  {
   "cell_type": "markdown",
   "id": "5a203d20",
   "metadata": {},
   "source": [
    "# bfs\n",
    "- 구글링하며 코드 뜯어보며 이해"
   ]
  },
  {
   "cell_type": "code",
   "execution_count": 4,
   "id": "9cb3884d",
   "metadata": {},
   "outputs": [
    {
     "name": "stdout",
     "output_type": "stream",
     "text": [
      "5 17\n",
      "4\n"
     ]
    }
   ],
   "source": [
    "from collections import deque\n",
    "\n",
    "def bfs(n, k, limit):\n",
    "    queue = deque()\n",
    "    queue.append(n)\n",
    "    \n",
    "    while queue:\n",
    "        x = queue.popleft()\n",
    "        \n",
    "        if x==k:\n",
    "            return dist[x]\n",
    "        \n",
    "        for i in [x-1, x+1, x*2]:\n",
    "            if 0<=i<=limit and dist[i]==0:\n",
    "                dist[i] = dist[x] + 1\n",
    "                queue.append(i)\n",
    "\n",
    "                \n",
    "n, k = map(int, input().split())\n",
    "limit = 10**5\n",
    "dist = [0 for _ in range(limit+1)]\n",
    "\n",
    "print(bfs(n, k, limit))\n"
   ]
  }
 ],
 "metadata": {
  "kernelspec": {
   "display_name": "Python 3 (ipykernel)",
   "language": "python",
   "name": "python3"
  },
  "language_info": {
   "codemirror_mode": {
    "name": "ipython",
    "version": 3
   },
   "file_extension": ".py",
   "mimetype": "text/x-python",
   "name": "python",
   "nbconvert_exporter": "python",
   "pygments_lexer": "ipython3",
   "version": "3.9.7"
  }
 },
 "nbformat": 4,
 "nbformat_minor": 5
}
