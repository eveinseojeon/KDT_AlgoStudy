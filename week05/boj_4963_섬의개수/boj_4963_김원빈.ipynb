{
 "cells": [
  {
   "cell_type": "markdown",
   "id": "341f6dec",
   "metadata": {},
   "source": [
    "참고: 풀다 머리터짐"
   ]
  },
  {
   "cell_type": "code",
   "execution_count": 1,
   "id": "f21a68f9",
   "metadata": {},
   "outputs": [
    {
     "ename": "ValueError",
     "evalue": "not enough values to unpack (expected 2, got 0)",
     "output_type": "error",
     "traceback": [
      "\u001b[1;31m---------------------------------------------------------------------------\u001b[0m",
      "\u001b[1;31mValueError\u001b[0m                                Traceback (most recent call last)",
      "\u001b[1;32m~\\AppData\\Local\\Temp/ipykernel_16492/3114289043.py\u001b[0m in \u001b[0;36m<module>\u001b[1;34m\u001b[0m\n\u001b[0;32m     20\u001b[0m \u001b[1;33m\u001b[0m\u001b[0m\n\u001b[0;32m     21\u001b[0m \u001b[1;32mwhile\u001b[0m \u001b[1;32mTrue\u001b[0m\u001b[1;33m:\u001b[0m\u001b[1;33m\u001b[0m\u001b[1;33m\u001b[0m\u001b[0m\n\u001b[1;32m---> 22\u001b[1;33m     \u001b[0mw\u001b[0m\u001b[1;33m,\u001b[0m \u001b[0mh\u001b[0m \u001b[1;33m=\u001b[0m \u001b[0mmap\u001b[0m\u001b[1;33m(\u001b[0m\u001b[0mint\u001b[0m\u001b[1;33m,\u001b[0m \u001b[0minput\u001b[0m\u001b[1;33m(\u001b[0m\u001b[1;33m)\u001b[0m\u001b[1;33m.\u001b[0m\u001b[0msplit\u001b[0m\u001b[1;33m(\u001b[0m\u001b[1;33m)\u001b[0m\u001b[1;33m)\u001b[0m\u001b[1;33m\u001b[0m\u001b[1;33m\u001b[0m\u001b[0m\n\u001b[0m\u001b[0;32m     23\u001b[0m     \u001b[1;32mif\u001b[0m \u001b[0mw\u001b[0m \u001b[1;33m==\u001b[0m \u001b[1;36m0\u001b[0m \u001b[1;32mor\u001b[0m \u001b[0mh\u001b[0m \u001b[1;33m==\u001b[0m \u001b[1;36m0\u001b[0m\u001b[1;33m:\u001b[0m\u001b[1;33m\u001b[0m\u001b[1;33m\u001b[0m\u001b[0m\n\u001b[0;32m     24\u001b[0m         \u001b[1;32mbreak\u001b[0m\u001b[1;33m\u001b[0m\u001b[1;33m\u001b[0m\u001b[0m\n",
      "\u001b[1;31mValueError\u001b[0m: not enough values to unpack (expected 2, got 0)"
     ]
    }
   ],
   "source": [
    "from collections import deque\n",
    "import sys\n",
    "input = sys.stdin.readline\n",
    "\n",
    "def bfs(x, y):\n",
    "    dx = [1, -1, 1, -1, 0, 0, 1, -1]\n",
    "    dy = [1, 1, -1, -1, 1, -1, 0, 0]\n",
    "    q = deque() \n",
    "    \n",
    "    q.append([x,y])\n",
    "    while q:        \n",
    "        a, b = q.popleft()\n",
    "        \n",
    "        for i in range(8):\n",
    "            nx = a + dx[i]\n",
    "            ny = b + dy[i]\n",
    "            if 0<=nx<h and 0<=ny<w and graph[nx][ny]==1:                \n",
    "                graph[nx][ny] = 0 \n",
    "                q.append([nx,ny]) \n",
    "\n",
    "while True:   \n",
    "    w, h = map(int, input().split())\n",
    "    if w == 0 or h == 0:\n",
    "        break\n",
    "    graph = []\n",
    "    cnt = 0\n",
    "    for _ in range(h):\n",
    "        graph.append(list(map(int, input().split())))   \n",
    "    for i in range(h):\n",
    "        for j in range(w):\n",
    "            if graph[i][j] == 1:            \n",
    "                bfs(i, j)\n",
    "                cnt += 1\n",
    "\n",
    "    print(cnt)"
   ]
  }
 ],
 "metadata": {
  "kernelspec": {
   "display_name": "Python 3 (ipykernel)",
   "language": "python",
   "name": "python3"
  },
  "language_info": {
   "codemirror_mode": {
    "name": "ipython",
    "version": 3
   },
   "file_extension": ".py",
   "mimetype": "text/x-python",
   "name": "python",
   "nbconvert_exporter": "python",
   "pygments_lexer": "ipython3",
   "version": "3.9.7"
  }
 },
 "nbformat": 4,
 "nbformat_minor": 5
}
