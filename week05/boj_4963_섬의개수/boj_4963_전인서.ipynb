{
 "cells": [
  {
   "cell_type": "code",
   "execution_count": null,
   "id": "d1e62ff1",
   "metadata": {},
   "outputs": [],
   "source": [
    "import sys\n",
    "sys.setrecursionlimit(10000)\n",
    "read = sys.stdin.readline\n",
    "\n",
    "dx = [0, 1, 1, 1, 0, -1, -1, -1]\n",
    "dy = [1, 1, 0, -1, -1, -1, 0, 1]\n",
    "\n",
    "def dfs(x, y):\n",
    "    graph[x][y] = 0\n",
    "    for i in range(8):\n",
    "        nx = x + dx[i]\n",
    "        ny = y + dy[i]\n",
    "        if 0<=nx<h and 0<=ny<w and graph[nx][ny]==1:\n",
    "            dfs(nx, ny)\n",
    "\n",
    "while 1:\n",
    "    w, h = map(int, read().split())\n",
    "    if w==0 and h==0:\n",
    "        break\n",
    "    \n",
    "    graph = []\n",
    "    for _ in range(h):\n",
    "        graph.append(list(map(int, read().split())))\n",
    "    \n",
    "    cnt = 0\n",
    "    for i in range(h):\n",
    "        for j in range(w):\n",
    "            if graph[i][j]==1:\n",
    "                dfs(i, j)\n",
    "                cnt += 1\n",
    "    print(cnt)\n"
   ]
  },
  {
   "cell_type": "code",
   "execution_count": null,
   "id": "a3a076e2",
   "metadata": {},
   "outputs": [],
   "source": []
  }
 ],
 "metadata": {
  "kernelspec": {
   "display_name": "Python 3 (ipykernel)",
   "language": "python",
   "name": "python3"
  },
  "language_info": {
   "codemirror_mode": {
    "name": "ipython",
    "version": 3
   },
   "file_extension": ".py",
   "mimetype": "text/x-python",
   "name": "python",
   "nbconvert_exporter": "python",
   "pygments_lexer": "ipython3",
   "version": "3.9.7"
  }
 },
 "nbformat": 4,
 "nbformat_minor": 5
}
