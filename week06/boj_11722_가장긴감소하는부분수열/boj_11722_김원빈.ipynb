{
 "cells": [
  {
   "cell_type": "markdown",
   "id": "8d2b90a7",
   "metadata": {},
   "source": [
    "전부 이해했지만 어떻게 이런생각을 했을지가 궁금하당"
   ]
  },
  {
   "cell_type": "code",
   "execution_count": null,
   "id": "e3b19da8",
   "metadata": {},
   "outputs": [],
   "source": [
    "# 못풀어서 구글링\n",
    "import sys\n",
    "\n",
    "n = int(sys.stdin.readline())\n",
    "nums = list(map(int, sys.stdin.readline().split()))\n",
    "\n",
    "d = [1] * n\n",
    "for i in range(1, n):\n",
    "    for j in range(i):\n",
    "        if nums[j] > nums[i]:\n",
    "            d[i] = max(d[i], d[j] + 1)\n",
    "\n",
    "print(max(d))"
   ]
  }
 ],
 "metadata": {
  "kernelspec": {
   "display_name": "Python 3 (ipykernel)",
   "language": "python",
   "name": "python3"
  },
  "language_info": {
   "codemirror_mode": {
    "name": "ipython",
    "version": 3
   },
   "file_extension": ".py",
   "mimetype": "text/x-python",
   "name": "python",
   "nbconvert_exporter": "python",
   "pygments_lexer": "ipython3",
   "version": "3.9.7"
  }
 },
 "nbformat": 4,
 "nbformat_minor": 5
}
