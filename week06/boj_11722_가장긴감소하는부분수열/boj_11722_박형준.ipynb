{
 "cells": [
  {
   "cell_type": "markdown",
   "id": "38f32c31",
   "metadata": {},
   "source": [
    "# boj_11722_가장 긴 감소하는 부분 수열"
   ]
  },
  {
   "cell_type": "code",
   "execution_count": 5,
   "id": "cd369299",
   "metadata": {},
   "outputs": [
    {
     "name": "stdout",
     "output_type": "stream",
     "text": [
      "6\n",
      "10 30 10 20 20 10\n",
      "3\n"
     ]
    }
   ],
   "source": [
    "import sys\n",
    "input = sys.stdin.readline\n",
    "\n",
    "n = int(input())\n",
    "A = list(map(int, input().split()))\n",
    "\n",
    "dp = [0 for i in range(n)]\n",
    "\n",
    "dp[0] = 1\n",
    "\n",
    "for i in range(n):\n",
    "    dp[i] = 1\n",
    "    for j in range(i):\n",
    "        if A[j] > A[i]:\n",
    "            dp[i] = max(dp[i], dp[j] + 1)\n",
    "        \n",
    "print(max(dp))"
   ]
  },
  {
   "cell_type": "code",
   "execution_count": 6,
   "id": "da112512",
   "metadata": {},
   "outputs": [
    {
     "data": {
      "text/plain": [
       "[1, 1, 2, 2, 2, 3]"
      ]
     },
     "execution_count": 6,
     "metadata": {},
     "output_type": "execute_result"
    }
   ],
   "source": [
    "dp"
   ]
  }
 ],
 "metadata": {
  "kernelspec": {
   "display_name": "Python 3 (ipykernel)",
   "language": "python",
   "name": "python3"
  },
  "language_info": {
   "codemirror_mode": {
    "name": "ipython",
    "version": 3
   },
   "file_extension": ".py",
   "mimetype": "text/x-python",
   "name": "python",
   "nbconvert_exporter": "python",
   "pygments_lexer": "ipython3",
   "version": "3.9.12"
  }
 },
 "nbformat": 4,
 "nbformat_minor": 5
}
