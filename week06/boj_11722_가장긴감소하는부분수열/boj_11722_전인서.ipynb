{
 "cells": [
  {
   "cell_type": "markdown",
   "id": "079dc584",
   "metadata": {},
   "source": [
    "- 중요 아이디어<br>\n",
    "    : i번째 숫자가 꼭 들어가는, 가장 긴 감소 수열의 길이를 dp 테이블의 i번째 인덱스에 넣어주는 것<br>\n",
    "    (구글링해서 코드를 찾고도 이해하는 데 한참 걸림)"
   ]
  },
  {
   "cell_type": "code",
   "execution_count": null,
   "id": "50212347",
   "metadata": {},
   "outputs": [],
   "source": [
    "import sys\n",
    "\n",
    "n = int(sys.stdin.readline())\n",
    "nums = list(map(int, sys.stdin.readline().split()))\n",
    "\n",
    "d = [1] * n\n",
    "for i in range(1, n):\n",
    "    for j in range(i):\n",
    "        if nums[j] > nums[i]:\n",
    "            d[i] = max(d[i], d[j] + 1)\n",
    "\n",
    "print(max(d))"
   ]
  }
 ],
 "metadata": {
  "kernelspec": {
   "display_name": "Python 3 (ipykernel)",
   "language": "python",
   "name": "python3"
  },
  "language_info": {
   "codemirror_mode": {
    "name": "ipython",
    "version": 3
   },
   "file_extension": ".py",
   "mimetype": "text/x-python",
   "name": "python",
   "nbconvert_exporter": "python",
   "pygments_lexer": "ipython3",
   "version": "3.9.7"
  }
 },
 "nbformat": 4,
 "nbformat_minor": 5
}
