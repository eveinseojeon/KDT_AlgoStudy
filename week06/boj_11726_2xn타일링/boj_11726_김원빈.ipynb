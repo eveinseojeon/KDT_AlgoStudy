{
 "cells": [
  {
   "cell_type": "code",
   "execution_count": 13,
   "id": "e37fe3c8",
   "metadata": {},
   "outputs": [
    {
     "name": "stdout",
     "output_type": "stream",
     "text": [
      "10007\n",
      "0\n"
     ]
    }
   ],
   "source": [
    "import sys\n",
    "input = sys.stdin.readline\n",
    "\n",
    "n = int(input())\n",
    "dp = [0] * n\n",
    "\n",
    "dp[0] = 1\n",
    "dp[1] = 2\n",
    "for i in range(2, n):\n",
    "    dp[i] = dp[i-1] + dp[i-2]\n",
    "    \n",
    "print(dp[n-1] % 10007)"
   ]
  }
 ],
 "metadata": {
  "kernelspec": {
   "display_name": "Python 3 (ipykernel)",
   "language": "python",
   "name": "python3"
  },
  "language_info": {
   "codemirror_mode": {
    "name": "ipython",
    "version": 3
   },
   "file_extension": ".py",
   "mimetype": "text/x-python",
   "name": "python",
   "nbconvert_exporter": "python",
   "pygments_lexer": "ipython3",
   "version": "3.9.7"
  }
 },
 "nbformat": 4,
 "nbformat_minor": 5
}
