{
 "cells": [
  {
   "cell_type": "code",
   "execution_count": null,
   "id": "50212347",
   "metadata": {},
   "outputs": [],
   "source": [
    "import sys\n",
    "\n",
    "n = int(sys.stdin.readline())\n",
    "\n",
    "d = [0]*1001\n",
    "d[1] = 1\n",
    "d[2] = 2\n",
    "for i in range(3, n+1):\n",
    "    d[i] = d[i-2] + d[i-1]\n",
    "\n",
    "print(d[n]%10007)"
   ]
  }
 ],
 "metadata": {
  "kernelspec": {
   "display_name": "Python 3 (ipykernel)",
   "language": "python",
   "name": "python3"
  },
  "language_info": {
   "codemirror_mode": {
    "name": "ipython",
    "version": 3
   },
   "file_extension": ".py",
   "mimetype": "text/x-python",
   "name": "python",
   "nbconvert_exporter": "python",
   "pygments_lexer": "ipython3",
   "version": "3.9.7"
  }
 },
 "nbformat": 4,
 "nbformat_minor": 5
}
