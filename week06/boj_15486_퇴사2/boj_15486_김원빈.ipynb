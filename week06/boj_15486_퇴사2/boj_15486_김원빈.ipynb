{
 "cells": [
  {
   "cell_type": "code",
   "execution_count": 6,
   "id": "86c17d1e",
   "metadata": {},
   "outputs": [
    {
     "name": "stdout",
     "output_type": "stream",
     "text": [
      "7\n",
      "3 10\n",
      "5 20\n",
      "1 10\n",
      "1 20\n",
      "2 15\n",
      "4 40\n",
      "2 200\n",
      "1 [0, 0, 0, 10, 0, 0, 0, 0]\n",
      "2 [0, 0, 0, 10, 0, 0, 0, 0]\n",
      "1 [0, 0, 0, 10, 0, 0, 20, 0]\n",
      "2 [0, 0, 0, 10, 0, 0, 20, 0]\n",
      "1 [0, 0, 0, 10, 0, 0, 20, 0]\n",
      "2 [0, 0, 0, 10, 0, 0, 20, 0]\n",
      "1 [0, 0, 0, 10, 30, 0, 20, 0]\n",
      "2 [0, 0, 0, 10, 30, 0, 20, 0]\n",
      "1 [0, 0, 0, 10, 30, 0, 45, 0]\n",
      "2 [0, 0, 0, 10, 30, 30, 45, 0]\n",
      "2 [0, 0, 0, 10, 30, 30, 45, 0]\n",
      "2 [0, 0, 0, 10, 30, 30, 45, 45]\n",
      "45\n"
     ]
    }
   ],
   "source": [
    "import sys\n",
    "input = sys.stdin.readline\n",
    "\n",
    "n = int(input())\n",
    "t, p = [], []\n",
    "\n",
    "for _ in range(n):\n",
    "    a, b = map(int, input().split())\n",
    "    t.append(a)\n",
    "    p.append(b)\n",
    "    \n",
    "dp = [0] * (n+1)\n",
    "for i in range(n):\n",
    "    if n >= i + t[i]:\n",
    "        dp[i+t[i]] = max(dp[i]+p[i], dp[i+t[i]])       \n",
    "    dp[i+1] = max(dp[i], dp[i+1])\n",
    "    \n",
    "    \n",
    "print(dp[n])"
   ]
  }
 ],
 "metadata": {
  "kernelspec": {
   "display_name": "Python 3 (ipykernel)",
   "language": "python",
   "name": "python3"
  },
  "language_info": {
   "codemirror_mode": {
    "name": "ipython",
    "version": 3
   },
   "file_extension": ".py",
   "mimetype": "text/x-python",
   "name": "python",
   "nbconvert_exporter": "python",
   "pygments_lexer": "ipython3",
   "version": "3.9.7"
  }
 },
 "nbformat": 4,
 "nbformat_minor": 5
}
