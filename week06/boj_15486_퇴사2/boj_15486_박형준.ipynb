{
 "cells": [
  {
   "cell_type": "markdown",
   "id": "18f792b2",
   "metadata": {},
   "source": [
    "# boj_15486_퇴사2"
   ]
  },
  {
   "cell_type": "code",
   "execution_count": 14,
   "id": "0a697b68",
   "metadata": {},
   "outputs": [],
   "source": [
    "# 해결 못함\n",
    "# # import sys\n",
    "# # input = sys.stdin.readline\n",
    "\n",
    "\n",
    "\n",
    "# # d[1] = c[0][0] + 1, c[0][1]\n",
    "\n",
    "# # k = d[1][0]\n",
    "# # d[k] = k + c[k-1][0], c[k-1][1]\n",
    "\n",
    "\n",
    "\n",
    "# n = int(input())\n",
    "# counsel = [[] for _ in range(n)]\n",
    "\n",
    "# for i in range(n):\n",
    "#     a, b = map(int, input().split())\n",
    "#     counsel[i] = (a, b)\n",
    "\n",
    "# d = [(0, 0) for i in range(n+1)]    \n",
    "   \n",
    "# i = 0\n",
    "# while i < counsel[0][0]:\n",
    "#     i += 1\n",
    "#     d[i] = (i + counsel[i-1][0], counsel[i-1][1])\n",
    "\n",
    "# for i in range(1, n+1):\n",
    "#     x = d[i][0]\n",
    "#     if x > n:\n",
    "#         continue\n",
    "#     else:\n",
    "#         if d[i][0] + counsel[i-1][1] >= d[x][1]:\n",
    "#             d[x] = ((d[i][0] + counsel[i-1][0], d[i][1] + counsel[i-1][1]))\n",
    "\n",
    "# print(d[n][1])"
   ]
  },
  {
   "cell_type": "code",
   "execution_count": 15,
   "id": "d7312fa6",
   "metadata": {},
   "outputs": [],
   "source": [
    "# 구글링\n",
    "\n",
    "import sys\n",
    "input = sys.stdin.readline\n",
    "\n",
    "n = int(input())\n",
    "\n",
    "# t=기간  p=금액\n",
    "t, p = [], []\n",
    "# 최대 상담금액 기록\n",
    "dp = [0] * (n + 1)\n",
    "\n",
    "for i in range(n):\n",
    "    k = list(map(int, input().split()))\n",
    "    t.append(k[0])\n",
    "    p.append(k[1])\n",
    "\n",
    "for i in range(n):\n",
    "    # 상담기간이 남은 기간보다 작으면\n",
    "    if t[i] <= n - i:\n",
    "        # dp[상담 시작일 + 상담기간 =>> 상담 끝나는 일자] \n",
    "        # 기존 값과 비교해서 더 큰 값으로 채우기\n",
    "        dp[i + t[i]] = max(dp[i + t[i]], dp[i] + p[i])\n",
    "    \n",
    "    # 항상 다음 날은 전날과 비교해서 더 큰 값으로 채우기\n",
    "    # 다음 날 금액이 더 작은 경우\n",
    "    # 그 전까지만 일하는 방법이 돈 더 많이 벌기 때문\n",
    "    dp[i + 1] = max(dp[i + 1], dp[i])\n",
    "\n",
    "print(dp[n])"
   ]
  }
 ],
 "metadata": {
  "kernelspec": {
   "display_name": "Python 3 (ipykernel)",
   "language": "python",
   "name": "python3"
  },
  "language_info": {
   "codemirror_mode": {
    "name": "ipython",
    "version": 3
   },
   "file_extension": ".py",
   "mimetype": "text/x-python",
   "name": "python",
   "nbconvert_exporter": "python",
   "pygments_lexer": "ipython3",
   "version": "3.9.12"
  }
 },
 "nbformat": 4,
 "nbformat_minor": 5
}
