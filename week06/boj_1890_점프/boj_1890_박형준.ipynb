{
 "cells": [
  {
   "cell_type": "markdown",
   "id": "667687a3",
   "metadata": {},
   "source": [
    "# boj_1890_점프"
   ]
  },
  {
   "cell_type": "code",
   "execution_count": null,
   "id": "e065fc83",
   "metadata": {},
   "outputs": [],
   "source": [
    "# 해결 못함\n",
    "\n",
    "import sys\n",
    "input = sys.stdin.readline\n",
    "\n",
    "n = int(input())\n",
    "matrix = [[] for _ in range(n)]\n",
    "for i in range(n):\n",
    "    temp = list(map(int, input().split()))\n",
    "    matrix[i] = temp\n",
    "    \n",
    "d = [[0 for i in range(n)] for i in range(n)]\n",
    "\n",
    "d[0][0] = 1\n",
    "\n",
    "for i in range(n):\n",
    "    for j in range(n):\n",
    "        k = matrix[i][j]\n",
    "        if k < n - i and k >= n - j:\n",
    "            d[i + k][j] += 1\n",
    "        elif k < n - j and k >= n - i:\n",
    "            d[i][j + k] += 1\n",
    "        elif k < n - i and k < n - j:\n",
    "            d[i + k][k] += 1\n",
    "            d[i][j + k] += 1"
   ]
  },
  {
   "cell_type": "code",
   "execution_count": null,
   "id": "94dbe801",
   "metadata": {},
   "outputs": [],
   "source": [
    "# 구글링\n",
    "\n",
    "import sys\n",
    "input = sys.stdin.readline\n",
    "\n",
    "n = int(input())\n",
    "\n",
    "matrix = [list(map(int, input().split())) for _ in range(n)]\n",
    "dp = [[0] * n for _ in range(n)]\n",
    "\n",
    "dp[0][0] = 1\n",
    "\n",
    "for i in range(n):\n",
    "    for j in range(n):\n",
    "        # dp[i][j] != 0 >> 이미 한 번 이상 도착한 곳이고 \n",
    "        # matrix[i][j] != 0 >> 끝에 도착한 것도 아니면\n",
    "        if dp[i][j] != 0 and matrix[i][j] != 0:\n",
    "            \n",
    "            # matrix 가로 세로 범위 내에서 점프할 수 있는 곳에 \n",
    "            # 방금 점프 출발한  지점의 경로횟수 더해주기\n",
    "            if j + matrix[i][j] < n:\n",
    "                dp[i][j + matrix[i][j]] += dp[i][j]\n",
    "            if i + matrix[i][j] < n:\n",
    "                dp[i + matrix[i][j]][j] += dp[i][j]\n",
    "                \n",
    "print(dp[n-1][n-1])"
   ]
  }
 ],
 "metadata": {
  "kernelspec": {
   "display_name": "Python 3 (ipykernel)",
   "language": "python",
   "name": "python3"
  },
  "language_info": {
   "codemirror_mode": {
    "name": "ipython",
    "version": 3
   },
   "file_extension": ".py",
   "mimetype": "text/x-python",
   "name": "python",
   "nbconvert_exporter": "python",
   "pygments_lexer": "ipython3",
   "version": "3.9.12"
  }
 },
 "nbformat": 4,
 "nbformat_minor": 5
}
