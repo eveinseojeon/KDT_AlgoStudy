{
 "cells": [
  {
   "cell_type": "code",
   "execution_count": 3,
   "id": "fbeb556b",
   "metadata": {
    "scrolled": true
   },
   "outputs": [
    {
     "name": "stdout",
     "output_type": "stream",
     "text": [
      "6\n",
      "10\n",
      "20\n",
      "15\n",
      "25\n",
      "10\n",
      "20\n",
      "75\n"
     ]
    }
   ],
   "source": [
    "import sys \n",
    "input = sys.stdin.readline\n",
    "\n",
    "N = int(input())\n",
    "arr = [0] * 300\n",
    "dp = [0] * 300\n",
    "for i in range(N):\n",
    "    arr[i] = (int(input()))\n",
    "    \n",
    "dp[0] = arr[0]\n",
    "dp[1] = max(arr[0]+arr[1], arr[1])\n",
    "dp[2] = max(arr[0]+arr[2], arr[1]+arr[2])\n",
    "for i in range(3, N):\n",
    "    dp[i] = max(dp[i-2]+arr[i], dp[i-3]+arr[i-1]+arr[i])\n",
    "    \n",
    "print(dp[N-1])"
   ]
  }
 ],
 "metadata": {
  "kernelspec": {
   "display_name": "Python 3 (ipykernel)",
   "language": "python",
   "name": "python3"
  },
  "language_info": {
   "codemirror_mode": {
    "name": "ipython",
    "version": 3
   },
   "file_extension": ".py",
   "mimetype": "text/x-python",
   "name": "python",
   "nbconvert_exporter": "python",
   "pygments_lexer": "ipython3",
   "version": "3.9.7"
  }
 },
 "nbformat": 4,
 "nbformat_minor": 5
}
