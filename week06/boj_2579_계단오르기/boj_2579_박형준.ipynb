{
 "cells": [
  {
   "cell_type": "markdown",
   "id": "ef433363",
   "metadata": {},
   "source": [
    "# boj_2579_계단 오르기"
   ]
  },
  {
   "cell_type": "code",
   "execution_count": 18,
   "id": "34d31c3c",
   "metadata": {},
   "outputs": [
    {
     "name": "stdout",
     "output_type": "stream",
     "text": [
      "2\n",
      "30\n",
      "40\n"
     ]
    },
    {
     "ename": "TypeError",
     "evalue": "'list' object is not callable",
     "output_type": "error",
     "traceback": [
      "\u001b[1;31m---------------------------------------------------------------------------\u001b[0m",
      "\u001b[1;31mTypeError\u001b[0m                                 Traceback (most recent call last)",
      "Input \u001b[1;32mIn [18]\u001b[0m, in \u001b[0;36m<cell line: 22>\u001b[1;34m()\u001b[0m\n\u001b[0;32m     27\u001b[0m     d[\u001b[38;5;241m0\u001b[39m] \u001b[38;5;241m=\u001b[39m (s[\u001b[38;5;241m0\u001b[39m], \u001b[38;5;241m0\u001b[39m)\n\u001b[0;32m     28\u001b[0m     d[\u001b[38;5;241m1\u001b[39m] \u001b[38;5;241m=\u001b[39m (d[\u001b[38;5;241m0\u001b[39m][\u001b[38;5;241m0\u001b[39m] \u001b[38;5;241m+\u001b[39m s[\u001b[38;5;241m1\u001b[39m], s[\u001b[38;5;241m1\u001b[39m])\n\u001b[1;32m---> 29\u001b[0m     \u001b[38;5;28mprint\u001b[39m(\u001b[38;5;28mmax\u001b[39m(\u001b[43md\u001b[49m\u001b[43m(\u001b[49m\u001b[43mn\u001b[49m\u001b[38;5;241;43m-\u001b[39;49m\u001b[38;5;241;43m1\u001b[39;49m\u001b[43m)\u001b[49m))\n\u001b[0;32m     31\u001b[0m \u001b[38;5;28;01melse\u001b[39;00m:\n\u001b[0;32m     32\u001b[0m     \u001b[38;5;66;03m# 첫 번째 계단 \u001b[39;00m\n\u001b[0;32m     33\u001b[0m     d[\u001b[38;5;241m0\u001b[39m] \u001b[38;5;241m=\u001b[39m (s[\u001b[38;5;241m0\u001b[39m], \u001b[38;5;241m0\u001b[39m)\n",
      "\u001b[1;31mTypeError\u001b[0m: 'list' object is not callable"
     ]
    }
   ],
   "source": [
    "import sys\n",
    "input = sys.stdin.readline\n",
    "n = int(input())\n",
    "s = []\n",
    "for _ in range(n):\n",
    "    k = int(input())\n",
    "    s.append(k)\n",
    "\n",
    "d = [0] * 300\n",
    "\n",
    "\n",
    "# # 첫 번째 계단 \n",
    "# d[0] = (s[0], 0)\n",
    "# # 두 번째 계단\n",
    "# d[1] = (d[0][0] + s[1], s[1])\n",
    "# # 세 번째 계단\n",
    "# d[2] = (d[1][1] + s[2], max(d[0]) + s[2])\n",
    "\n",
    "\n",
    "# d[n] = (d[n-1][1] + s[n], max(d[n-2]) + s[n])\n",
    "\n",
    "if n == 1:\n",
    "    d[0] = (s[0], 0)\n",
    "    print(max(d[n-1]))\n",
    "\n",
    "elif n == 2:\n",
    "    d[0] = (s[0], 0)\n",
    "    d[1] = (d[0][0] + s[1], s[1])\n",
    "    print(max(d[n-1]))\n",
    "\n",
    "else:\n",
    "    # 첫 번째 계단 \n",
    "    d[0] = (s[0], 0)\n",
    "    # 두 번째 계단\n",
    "    d[1] = (d[0][0] + s[1], s[1])\n",
    "    # 세 번째 계단\n",
    "    d[2] = (d[1][1] + s[2], max(d[0]) + s[2])\n",
    "    \n",
    "    for i in range(3, n):\n",
    "        d[i] = (d[i-1][1] + s[i], max(d[i-2]) + s[i])\n",
    "    print(max(d[n-1]))"
   ]
  }
 ],
 "metadata": {
  "kernelspec": {
   "display_name": "Python 3 (ipykernel)",
   "language": "python",
   "name": "python3"
  },
  "language_info": {
   "codemirror_mode": {
    "name": "ipython",
    "version": 3
   },
   "file_extension": ".py",
   "mimetype": "text/x-python",
   "name": "python",
   "nbconvert_exporter": "python",
   "pygments_lexer": "ipython3",
   "version": "3.9.12"
  }
 },
 "nbformat": 4,
 "nbformat_minor": 5
}
