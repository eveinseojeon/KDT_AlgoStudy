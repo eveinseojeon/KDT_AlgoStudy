{
 "cells": [
  {
   "cell_type": "markdown",
   "id": "69806762",
   "metadata": {},
   "source": [
    "- 풀이 방법 구글링 힌트"
   ]
  },
  {
   "cell_type": "code",
   "execution_count": null,
   "id": "a5ce0d74",
   "metadata": {},
   "outputs": [],
   "source": [
    "import sys\n",
    "\n",
    "n = int(sys.stdin.readline())\n",
    "\n",
    "scores = [0]*300 # 이 부분을 빈 리스트 선언하고 int(input())을 받아서 append로 추가하니 런타임 에러 남\n",
    "for i in range(n):\n",
    "    scores[i] = int(sys.stdin.readline())\n",
    "\n",
    "d = [0]*300\n",
    "d[0] = scores[0]\n",
    "d[1] = scores[0] + scores[1]\n",
    "d[2] = max((scores[0] + scores[2]), (scores[1] + scores[2]))\n",
    "\n",
    "for i in range(3, n):\n",
    "    d[i] = max((d[i-2] + scores[i]), (d[i-3] + scores[i-1] + scores[i])) # 마지막 계단은 꼭 밟되 이전 계단을 밟느냐 안 밟느냐\n",
    "\n",
    "print(d[n-1])"
   ]
  }
 ],
 "metadata": {
  "kernelspec": {
   "display_name": "Python 3 (ipykernel)",
   "language": "python",
   "name": "python3"
  },
  "language_info": {
   "codemirror_mode": {
    "name": "ipython",
    "version": 3
   },
   "file_extension": ".py",
   "mimetype": "text/x-python",
   "name": "python",
   "nbconvert_exporter": "python",
   "pygments_lexer": "ipython3",
   "version": "3.9.7"
  }
 },
 "nbformat": 4,
 "nbformat_minor": 5
}
