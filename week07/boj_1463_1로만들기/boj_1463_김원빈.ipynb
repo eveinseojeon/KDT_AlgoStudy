{
 "cells": [
  {
   "cell_type": "code",
   "execution_count": 7,
   "id": "9f28a8e0",
   "metadata": {},
   "outputs": [
    {
     "name": "stdout",
     "output_type": "stream",
     "text": [
      "10\n",
      "3\n"
     ]
    }
   ],
   "source": [
    "# import sys\n",
    "# input = sys.stdin.readline\n",
    "n = int(input())\n",
    "\n",
    "dp = [0] * (n+1) # 실제 인덱스 겸 숫자의 최적해를 표현해주기위해 n+1\n",
    "for i in range(2, n+1): # 2부터 시작하는 이유는 1까진 0번 시행이 답이기때문\n",
    "    dp[i] = dp[i-1] + 1 # 전의 최소횟수에 +1한값이 실제값에 +1한 값이랑 같으므로 초기화\n",
    "    # if를 두번 거쳐야하는 이유: 순서에 따라 2로 나눴을 때와 3으로 나눴을 때의 최솟값을 또 비교해야 하므로\n",
    "    if i % 2 == 0:\n",
    "        dp[i] = min(dp[i], dp[i//2]+1) # 전의 최솟값 +1한 횟수와 i//2한 값에 +1한 값의 최솟값과 비교\n",
    "    if i % 3 == 0:\n",
    "        dp[i] = min(dp[i], dp[i//3]+1) # 2로 나누어주거나 +1로 값과 i//3한 값에 +!한 값의 최솟값 비교\n",
    "\n",
    "print(dp[n])"
   ]
  }
 ],
 "metadata": {
  "kernelspec": {
   "display_name": "Python 3 (ipykernel)",
   "language": "python",
   "name": "python3"
  },
  "language_info": {
   "codemirror_mode": {
    "name": "ipython",
    "version": 3
   },
   "file_extension": ".py",
   "mimetype": "text/x-python",
   "name": "python",
   "nbconvert_exporter": "python",
   "pygments_lexer": "ipython3",
   "version": "3.9.7"
  }
 },
 "nbformat": 4,
 "nbformat_minor": 5
}
