{
 "cells": [
  {
   "cell_type": "markdown",
   "id": "5d49433f",
   "metadata": {},
   "source": [
    "# boj_1463_1로 만들기"
   ]
  },
  {
   "cell_type": "code",
   "execution_count": null,
   "id": "473657a6",
   "metadata": {},
   "outputs": [],
   "source": [
    "# 구글링\n",
    "import sys\n",
    "input = sys.stdin.readline\n",
    "\n",
    "n = int(input())\n",
    "\n",
    "dp = [0] * (n + 1)\n",
    "\n",
    "for i in range(2, n + 1):\n",
    "    # 처음에 1을 빼고 시작하는 이유\n",
    "    # 어차피 다음 계산하는 나누기가 1을 뺀 값보다 작거나 큼에 따라 교체되기 때문\n",
    "    # 2와 3으로 나누어 떨어지지 않는 경우 무조건 1을 빼야하기 때문에\n",
    "    d[i] = d[i - 1] + 1\n",
    "    \n",
    "    # if elif else 쓰지 않는 이유\n",
    "    # 둘 다 시도하기 위해서\n",
    "    # 2와 3으로 나누어지는 경우 1빼는 것보다 더 이득이기 때문에 min으로 작은 값 선택\n",
    "    if i % 3 == 0:\n",
    "        # 계산한 횟수 저장\n",
    "        d[i] = min(d[i], d[i // 3] + 1)\n",
    "    if i % 2 == 0:\n",
    "        d[i] = min(d[i], d[i // 2] + 1)\n",
    "        \n",
    "print(d[n])"
   ]
  }
 ],
 "metadata": {
  "kernelspec": {
   "display_name": "Python 3 (ipykernel)",
   "language": "python",
   "name": "python3"
  },
  "language_info": {
   "codemirror_mode": {
    "name": "ipython",
    "version": 3
   },
   "file_extension": ".py",
   "mimetype": "text/x-python",
   "name": "python",
   "nbconvert_exporter": "python",
   "pygments_lexer": "ipython3",
   "version": "3.9.12"
  }
 },
 "nbformat": 4,
 "nbformat_minor": 5
}
