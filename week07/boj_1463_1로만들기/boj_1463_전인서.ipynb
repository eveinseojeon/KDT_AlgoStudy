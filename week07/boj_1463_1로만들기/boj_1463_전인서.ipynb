{
 "cells": [
  {
   "cell_type": "markdown",
   "id": "ebe1070e",
   "metadata": {},
   "source": [
    "- 두 가지 방법으로 풀었는데 다 시간 초과, 메모리 초과, 런타임 에러 남"
   ]
  },
  {
   "cell_type": "code",
   "execution_count": 50,
   "id": "d4384a18",
   "metadata": {},
   "outputs": [
    {
     "name": "stdout",
     "output_type": "stream",
     "text": [
      "10\n",
      "3\n"
     ]
    }
   ],
   "source": [
    "# 첫 번째 풀이\n",
    "\n",
    "import sys\n",
    "read = sys.stdin.readline\n",
    "\n",
    "n = int(input())\n",
    "d = [[]]\n",
    "d[0].append(n)\n",
    "\n",
    "k = 0\n",
    "while 1:\n",
    "    d.append([])\n",
    "    for x in d[k]:\n",
    "        if (x%3 == 0) and (x/3 >= 1):\n",
    "            d[k+1].append(x/3)\n",
    "        if (x%2 == 0) and (x/2 >= 1):\n",
    "            d[k+1].append(x/2)\n",
    "        if (x-1 >= 1):\n",
    "            d[k+1].append(x-1)\n",
    "    if 1 in d[k+1]:\n",
    "        print(k+1)\n",
    "        break\n",
    "    k += 1\n"
   ]
  },
  {
   "cell_type": "code",
   "execution_count": 52,
   "id": "43a60297",
   "metadata": {},
   "outputs": [
    {
     "name": "stdout",
     "output_type": "stream",
     "text": [
      "10\n",
      "3\n"
     ]
    }
   ],
   "source": [
    "# 두 번째 풀이\n",
    "\n",
    "from collections import deque\n",
    "import sys\n",
    "read = sys.stdin.readline()\n",
    "\n",
    "n = int(input())\n",
    "\n",
    "d = [[] for _ in range(n+1)]\n",
    "d[n].append(0)\n",
    "\n",
    "q = deque()\n",
    "q.append(n)\n",
    "\n",
    "while 1:\n",
    "    x = q.popleft()\n",
    "    if x==1:\n",
    "        break\n",
    "    if x%3 == 0:\n",
    "        d[x//3].append(min(d[x])+1)\n",
    "        q.append(x//3)\n",
    "    if x%2 == 0:\n",
    "        d[x//2].append(min(d[x])+1)\n",
    "        q.append(x//2)\n",
    "    d[x-1].append(min(d[x])+1)\n",
    "    q.append(x-1)\n",
    "      \n",
    "print(min(d[1]))\n"
   ]
  },
  {
   "cell_type": "markdown",
   "id": "2bde5b2c",
   "metadata": {},
   "source": [
    "- 아래는 구글링해서 찾은 풀이<br>\n",
    "    계산 과정을 거꾸로 생각해야 했음"
   ]
  },
  {
   "cell_type": "code",
   "execution_count": 56,
   "id": "5ae597e0",
   "metadata": {},
   "outputs": [
    {
     "name": "stdout",
     "output_type": "stream",
     "text": [
      "10\n",
      "3\n"
     ]
    }
   ],
   "source": [
    "import sys\n",
    "read = sys.stdin.readline\n",
    "\n",
    "n = int(input())\n",
    "d = [0 for _ in range(n+1)]\n",
    "\n",
    "for i in range(2, n+1):\n",
    "    d[i] = d[i-1] + 1\n",
    "    if i%2==0:\n",
    "        d[i] = min(d[i], d[i//2]+1)\n",
    "    if i%3==0:\n",
    "        d[i] = min(d[i], d[i//3]+1)\n",
    "\n",
    "print(d[n])"
   ]
  },
  {
   "cell_type": "code",
   "execution_count": null,
   "id": "cccd8422",
   "metadata": {},
   "outputs": [],
   "source": []
  }
 ],
 "metadata": {
  "kernelspec": {
   "display_name": "Python 3 (ipykernel)",
   "language": "python",
   "name": "python3"
  },
  "language_info": {
   "codemirror_mode": {
    "name": "ipython",
    "version": 3
   },
   "file_extension": ".py",
   "mimetype": "text/x-python",
   "name": "python",
   "nbconvert_exporter": "python",
   "pygments_lexer": "ipython3",
   "version": "3.9.7"
  }
 },
 "nbformat": 4,
 "nbformat_minor": 5
}
