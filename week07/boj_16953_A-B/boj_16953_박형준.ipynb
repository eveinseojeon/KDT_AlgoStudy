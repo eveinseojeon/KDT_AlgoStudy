{
 "cells": [
  {
   "cell_type": "markdown",
   "id": "c8b86155",
   "metadata": {},
   "source": [
    "# boj_16953_A -> B"
   ]
  },
  {
   "cell_type": "code",
   "execution_count": null,
   "id": "791b7e2c",
   "metadata": {},
   "outputs": [],
   "source": [
    "# 구글링\n",
    "import sys\n",
    "from collections import deque\n",
    "\n",
    "input = sys.stdin.readline\n",
    "\n",
    "a, b = map(int, input().split())\n",
    "result = -1\n",
    "\n",
    "# queue에 (a, 1)\n",
    "queue = deque([(a, 1)])\n",
    "while queue:\n",
    "    # popleft로 뽑은 수로 연산하기\n",
    "    i, cnt = queue.popleft()\n",
    "    if i == b:\n",
    "        result = cnt\n",
    "        break\n",
    "    # i * 2 가능하면 연산하고 queue에 추가\n",
    "    if i * 2 <= b:\n",
    "        queue.append((i*2, cnt+1))   \n",
    "    # i + 1 가능하면 연산하고 queue에 추가\n",
    "    if int(str(i)+'1') <= b:\n",
    "        queue.append((int(str(i)+'1'), cnt+1))\n",
    "\n",
    "print(result)"
   ]
  },
  {
   "cell_type": "code",
   "execution_count": null,
   "id": "16fef7cc",
   "metadata": {},
   "outputs": [],
   "source": [
    "# 구글링\n",
    "import sys\n",
    "input = sys.stdin.readline\n",
    "\n",
    "a, b = map(int, input().split())\n",
    "cnt = 1\n",
    "while True:\n",
    "    if b == a:\n",
    "        break\n",
    "    # b가 2로 나누어 떨어지지 않고 마지막 자리가 1이 아닌 경우 or\n",
    "    # a가 b보다 큰 경우 답은 -1\n",
    "    elif (b % 2 != 0 and b % 10 != 1) or (b < a):\n",
    "        cnt = -1\n",
    "        break   \n",
    "    else:\n",
    "        # 마지막 자리가 1인 경우\n",
    "        if b % 10 == 1:\n",
    "            b //= 10\n",
    "            cnt += 1\n",
    "        # 2로 나누어 떨어지는 경우\n",
    "        else:\n",
    "            b //= 2\n",
    "            cnt+= 1\n",
    "\n",
    "print(cnt)"
   ]
  },
  {
   "cell_type": "code",
   "execution_count": null,
   "id": "012b5283",
   "metadata": {},
   "outputs": [],
   "source": []
  }
 ],
 "metadata": {
  "kernelspec": {
   "display_name": "Python 3 (ipykernel)",
   "language": "python",
   "name": "python3"
  },
  "language_info": {
   "codemirror_mode": {
    "name": "ipython",
    "version": 3
   },
   "file_extension": ".py",
   "mimetype": "text/x-python",
   "name": "python",
   "nbconvert_exporter": "python",
   "pygments_lexer": "ipython3",
   "version": "3.9.12"
  }
 },
 "nbformat": 4,
 "nbformat_minor": 5
}
