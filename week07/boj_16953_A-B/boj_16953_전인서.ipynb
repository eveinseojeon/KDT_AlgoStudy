{
 "cells": [
  {
   "cell_type": "markdown",
   "id": "b920c7ed",
   "metadata": {},
   "source": [
    "- 구글링<br>\n",
    "    숫자와 함께 count(깊이)를 묶어서 넣어주는 아이디어를 생각 못했음. 이 아이디어만 받고 나머진 혼자 풀었다."
   ]
  },
  {
   "cell_type": "code",
   "execution_count": null,
   "id": "0ad07033",
   "metadata": {},
   "outputs": [],
   "source": [
    "from collections import deque\n",
    "import sys\n",
    "read = sys.stdin.readline\n",
    "\n",
    "def bfs(a, b):\n",
    "    q = deque()\n",
    "    q.append([a, 1]) # 이 부분을 생각 못했음\n",
    "    while q:\n",
    "        x, cnt = q.popleft()\n",
    "        if x == b:\n",
    "            return cnt\n",
    "        if (2*x) <= b:\n",
    "            q.append([(2*x), cnt+1])\n",
    "        if (10*x + 1) <= b:\n",
    "            q.append([(10*x + 1), cnt+1])\n",
    "    return -1\n",
    "\n",
    "a, b = map(int, read().split())\n",
    "print(bfs(a, b))\n"
   ]
  }
 ],
 "metadata": {
  "kernelspec": {
   "display_name": "Python 3 (ipykernel)",
   "language": "python",
   "name": "python3"
  },
  "language_info": {
   "codemirror_mode": {
    "name": "ipython",
    "version": 3
   },
   "file_extension": ".py",
   "mimetype": "text/x-python",
   "name": "python",
   "nbconvert_exporter": "python",
   "pygments_lexer": "ipython3",
   "version": "3.9.7"
  }
 },
 "nbformat": 4,
 "nbformat_minor": 5
}
