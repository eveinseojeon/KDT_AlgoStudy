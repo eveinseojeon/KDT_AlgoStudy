{
 "cells": [
  {
   "cell_type": "markdown",
   "id": "60cf5a68",
   "metadata": {},
   "source": [
    "# boj_1912_연속합"
   ]
  },
  {
   "cell_type": "code",
   "execution_count": null,
   "id": "68e23cad",
   "metadata": {},
   "outputs": [],
   "source": [
    "# 시간 초과\n",
    "import sys\n",
    "input = sys.stdin.readline\n",
    "\n",
    "n = int(input())\n",
    "seq = list(map(int, input().split()))\n",
    "\n",
    "dp = [0] * n\n",
    "\n",
    "# 1개인 수열\n",
    "# 2개인 수열\n",
    "# 3개인 수열\n",
    "# ... n개인 수열\n",
    "\n",
    "for i in range(n):\n",
    "    dp[i] = seq[i]\n",
    "    for j in range(i, n):\n",
    "        if dp[i] < sum(seq[i+1:j]):\n",
    "            dp[i] = sum(seq[i+1:j])\n",
    "\n",
    "print(max(dp))"
   ]
  },
  {
   "cell_type": "code",
   "execution_count": 17,
   "id": "dc304369",
   "metadata": {
    "scrolled": true
   },
   "outputs": [
    {
     "name": "stdout",
     "output_type": "stream",
     "text": [
      "5\n",
      "-1 -2 -3 -4 -5\n",
      "-1\n"
     ]
    }
   ],
   "source": [
    "# 시간 초과\n",
    "import sys\n",
    "input = sys.stdin.readline\n",
    "\n",
    "n = int(input())\n",
    "seq = list(map(int, input().split()))\n",
    "\n",
    "dp = [0] * n\n",
    "\n",
    "def count(x, n):\n",
    "    if x + 1 < n:\n",
    "        if seq[x + 1] > 0:\n",
    "            x += 1\n",
    "            count(x, n)\n",
    "        else:\n",
    "            return x\n",
    "    else:\n",
    "        return x\n",
    "\n",
    "for i in range(n):\n",
    "    dp[i] = seq[i]\n",
    "    if i != count(i, n):\n",
    "        dp[i] = sum(seq[i:count(i, n)])\n",
    "        \n",
    "\n",
    "print(max(dp))"
   ]
  },
  {
   "cell_type": "code",
   "execution_count": null,
   "id": "a2e4c287",
   "metadata": {},
   "outputs": [],
   "source": [
    "# 구글링\n",
    "import sys\n",
    "input = sys.stdin.readline\n",
    "\n",
    "n = int(input())\n",
    "\n",
    "seq = list(map(int, input().split()))\n",
    "dp = [0] * n\n",
    "dp[0] = seq[0]\n",
    "\n",
    "for i in range(1, n):\n",
    "    dp[i] = max(seq[i], dp[i-1] + seq[i])\n",
    "    \n",
    "print(max(dp))"
   ]
  }
 ],
 "metadata": {
  "kernelspec": {
   "display_name": "Python 3 (ipykernel)",
   "language": "python",
   "name": "python3"
  },
  "language_info": {
   "codemirror_mode": {
    "name": "ipython",
    "version": 3
   },
   "file_extension": ".py",
   "mimetype": "text/x-python",
   "name": "python",
   "nbconvert_exporter": "python",
   "pygments_lexer": "ipython3",
   "version": "3.9.12"
  }
 },
 "nbformat": 4,
 "nbformat_minor": 5
}
