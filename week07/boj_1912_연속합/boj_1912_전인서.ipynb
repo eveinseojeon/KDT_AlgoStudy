{
 "cells": [
  {
   "cell_type": "markdown",
   "id": "e769b932",
   "metadata": {},
   "source": [
    "- 구글링"
   ]
  },
  {
   "cell_type": "code",
   "execution_count": 81,
   "id": "3413a023",
   "metadata": {},
   "outputs": [
    {
     "name": "stdout",
     "output_type": "stream",
     "text": [
      "10\n",
      "10 -4 3 1 5 6 -35 12 21 -1\n",
      "33\n"
     ]
    }
   ],
   "source": [
    "import sys\n",
    "read = sys.stdin.readline\n",
    "\n",
    "n = int(input())\n",
    "nums = list(map(int, input().split()))\n",
    "\n",
    "dp = [0 for _ in range(n)]\n",
    "dp[0] = nums[0]\n",
    "\n",
    "for i in range(1, n):\n",
    "    dp[i] = max(nums[i], nums[i] + dp[i-1])\n",
    "\n",
    "print(max(dp))"
   ]
  },
  {
   "cell_type": "code",
   "execution_count": null,
   "id": "df17d97b",
   "metadata": {},
   "outputs": [],
   "source": []
  }
 ],
 "metadata": {
  "kernelspec": {
   "display_name": "Python 3 (ipykernel)",
   "language": "python",
   "name": "python3"
  },
  "language_info": {
   "codemirror_mode": {
    "name": "ipython",
    "version": 3
   },
   "file_extension": ".py",
   "mimetype": "text/x-python",
   "name": "python",
   "nbconvert_exporter": "python",
   "pygments_lexer": "ipython3",
   "version": "3.9.7"
  }
 },
 "nbformat": 4,
 "nbformat_minor": 5
}
