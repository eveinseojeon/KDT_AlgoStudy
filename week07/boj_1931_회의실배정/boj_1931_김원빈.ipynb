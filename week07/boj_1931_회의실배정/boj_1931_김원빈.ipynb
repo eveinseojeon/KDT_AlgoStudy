{
 "cells": [
  {
   "cell_type": "markdown",
   "id": "65263b79",
   "metadata": {},
   "source": [
    "못풀어서 구글링"
   ]
  },
  {
   "cell_type": "code",
   "execution_count": null,
   "id": "9a971e82",
   "metadata": {},
   "outputs": [],
   "source": [
    "import sys\n",
    "input = sys.stdin.readline\n",
    "\n",
    "N = int(input())\n",
    "arr = []\n",
    "for i in range(N):\n",
    "    temp = list(map(int, input().split()))\n",
    "    arr.append(temp)\n",
    "\n",
    "# 2,3 / 3,3 이 있을 경우 2, 3 부터 봐줘야하므로 앞정렬 후 뒷정렬\n",
    "arr = sorted(arr, key=lambda a: a[0])\n",
    "arr = sorted(arr, key=lambda a: a[1])\n",
    "\n",
    "cnt = 0\n",
    "last = 0\n",
    "for i in range(N):\n",
    "    if arr[i][0] >= last: # 끝날 시간보다 시작 시간이 더 일찍이거나 같으면\n",
    "        cnt += 1\n",
    "        last = arr[i][1] #  끝나는 시간을 last에 초기화    \n",
    "\n",
    "print(cnt)"
   ]
  },
  {
   "cell_type": "code",
   "execution_count": 18,
   "id": "c81f6875",
   "metadata": {},
   "outputs": [
    {
     "name": "stdout",
     "output_type": "stream",
     "text": [
      "11\n",
      "1 4\n",
      "3 5\n",
      "0 6\n",
      "5 7\n",
      "3 8\n",
      "5 9\n",
      "6 10\n",
      "8 11\n",
      "8 12\n",
      "2 13\n",
      "12 14\n",
      "4\n"
     ]
    }
   ],
   "source": [
    "# 다이내막 프로그래밍으로 풀기 -> 시간초과\n",
    "# import sys\n",
    "# input = sys.stdin.readline\n",
    "\n",
    "# N = int(input())\n",
    "# arr = list([0, 0] for _ in range(N))\n",
    "# for i in range(N):\n",
    "#     a, b = map(int, input().split())\n",
    "#     arr[i] = a, b\n",
    "\n",
    "# arr = sorted(arr, key=lambda a: a[0])\n",
    "# arr = sorted(arr, key=lambda a: a[1])\n",
    "# dp = [1] * N\n",
    "# for i in range(1, N):\n",
    "#     for j in range(0, i):\n",
    "#         if arr[i][0] >= arr[j][1]:\n",
    "#             dp[i] = max(dp[j]+1, dp[i])\n",
    "            \n",
    "# print(max(dp))"
   ]
  }
 ],
 "metadata": {
  "kernelspec": {
   "display_name": "Python 3 (ipykernel)",
   "language": "python",
   "name": "python3"
  },
  "language_info": {
   "codemirror_mode": {
    "name": "ipython",
    "version": 3
   },
   "file_extension": ".py",
   "mimetype": "text/x-python",
   "name": "python",
   "nbconvert_exporter": "python",
   "pygments_lexer": "ipython3",
   "version": "3.9.7"
  }
 },
 "nbformat": 4,
 "nbformat_minor": 5
}
