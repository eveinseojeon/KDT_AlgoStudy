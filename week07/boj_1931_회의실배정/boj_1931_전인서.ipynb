{
 "cells": [
  {
   "cell_type": "markdown",
   "id": "6e9e5a89",
   "metadata": {},
   "source": [
    "- 구글링"
   ]
  },
  {
   "cell_type": "code",
   "execution_count": null,
   "id": "d80adc72",
   "metadata": {},
   "outputs": [],
   "source": [
    "import sys\n",
    "read = sys.stdin.readline\n",
    "\n",
    "n = int(read())\n",
    "meetings = []\n",
    "for _ in range(n):\n",
    "    meetings.append(list(map(int, read().split())))\n",
    "meetings = sorted(meetings, key=lambda x: x[0])\n",
    "meetings = sorted(meetings, key=lambda x: x[1])\n",
    "\n",
    "cnt = 0\n",
    "last = 0\n",
    "\n",
    "for i, j in meetings:\n",
    "    if last <= i:\n",
    "        last = j\n",
    "        cnt += 1\n",
    "\n",
    "print(cnt)"
   ]
  }
 ],
 "metadata": {
  "kernelspec": {
   "display_name": "Python 3 (ipykernel)",
   "language": "python",
   "name": "python3"
  },
  "language_info": {
   "codemirror_mode": {
    "name": "ipython",
    "version": 3
   },
   "file_extension": ".py",
   "mimetype": "text/x-python",
   "name": "python",
   "nbconvert_exporter": "python",
   "pygments_lexer": "ipython3",
   "version": "3.9.7"
  }
 },
 "nbformat": 4,
 "nbformat_minor": 5
}
