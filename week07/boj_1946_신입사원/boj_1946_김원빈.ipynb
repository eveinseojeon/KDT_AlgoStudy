{
 "cells": [
  {
   "cell_type": "markdown",
   "id": "b84b7ae7",
   "metadata": {},
   "source": [
    "참고: 문제이해를 못해서 구글링하여 참고하여 풀음"
   ]
  },
  {
   "cell_type": "code",
   "execution_count": 3,
   "id": "f56d2ea4",
   "metadata": {},
   "outputs": [
    {
     "name": "stdout",
     "output_type": "stream",
     "text": [
      "1\n",
      "7\n",
      "3 6\n",
      "7 3\n",
      "4 2\n",
      "1 4\n",
      "5 7\n",
      "2 5\n",
      "6 1\n",
      "3\n"
     ]
    }
   ],
   "source": [
    "for _ in range(int(input())):\n",
    "    n = int(input())\n",
    "    people = []\n",
    "    for _ in range(n):\n",
    "        p, i = map(int, input().split()) # 서류, 면접 등수 기록\n",
    "        people.append([p, i])\n",
    "        \n",
    "    people.sort() # 서류에서 순위 세우기\n",
    "    cnt, Max = 0, 100001 # max값은 최대 10만까지 이므로 최댓값 10만 1로 설정\n",
    "    for i in range(n): # 서류 순서는 나열되어 있으니 면접만 비교하여 더 낮으면 카운트 세어줌\n",
    "        if Max > people[i][1]:\n",
    "            Max = people[i][1]\n",
    "            cnt += 1\n",
    "            \n",
    "    print(cnt)"
   ]
  }
 ],
 "metadata": {
  "kernelspec": {
   "display_name": "Python 3 (ipykernel)",
   "language": "python",
   "name": "python3"
  },
  "language_info": {
   "codemirror_mode": {
    "name": "ipython",
    "version": 3
   },
   "file_extension": ".py",
   "mimetype": "text/x-python",
   "name": "python",
   "nbconvert_exporter": "python",
   "pygments_lexer": "ipython3",
   "version": "3.9.7"
  }
 },
 "nbformat": 4,
 "nbformat_minor": 5
}
