{
 "cells": [
  {
   "cell_type": "markdown",
   "id": "3a542770",
   "metadata": {},
   "source": [
    "# boj_1946_신입사원"
   ]
  },
  {
   "cell_type": "code",
   "execution_count": null,
   "id": "29a814f8",
   "metadata": {},
   "outputs": [],
   "source": [
    "# 시간 초과\n",
    "\n",
    "import sys\n",
    "input = sys.stdin.readline\n",
    "\n",
    "t = int(input())\n",
    "\n",
    "for _ in range(t):\n",
    "    n = int(input())\n",
    "    score = []\n",
    "    for _ in range(n):\n",
    "        a, b = map(int, input().split())\n",
    "        score.append((a, b))\n",
    "\n",
    "    score.sort(key=lambda x:(-x[0], -x[1]))\n",
    "    cancel = []\n",
    "    for i in range(n):\n",
    "        for j in range(i+1, n):\n",
    "            if score[i][1] > score[j][1]:\n",
    "                cancel.append(i)\n",
    "                break\n",
    "        \n",
    "    \n",
    "    print(n - len(cancel))"
   ]
  },
  {
   "cell_type": "code",
   "execution_count": null,
   "id": "ddf1c751",
   "metadata": {},
   "outputs": [],
   "source": [
    "import sys\n",
    "input = sys.stdin.readline\n",
    "\n",
    "t = int(input())\n",
    "\n",
    "for _ in range(t):\n",
    "    n = int(input())\n",
    "    score = []\n",
    "    for _ in range(n):\n",
    "        a, b = map(int, input().split())\n",
    "        score.append((a, b))\n",
    "        \n",
    "    # a 등수 낮은 순서대로 정렬 \n",
    "    score.sort(key=lambda x:(x[0]))\n",
    "    \n",
    "    # 기준 등수 score[0]\n",
    "    mark = score[0]\n",
    "    \n",
    "    # 합격 못한 사원 목록\n",
    "    cancel = []\n",
    "    # 사원들 한 명씩 그 다음 사원과 b등수 비교\n",
    "    for i in score:\n",
    "        # a 등수는 이미 낮은 순서대로 되어 있기 때문에 \n",
    "        # b 등수가 기준보다 높으면 탈락자 명단에 추가 \n",
    "        if i[1] > mark[1]:\n",
    "            cancel.append(i)\n",
    "        # b 등수가 기준보다 낮으면 기준 변경\n",
    "        else:\n",
    "            mark = i\n",
    "\n",
    "    print(n - len(cancel))"
   ]
  }
 ],
 "metadata": {
  "kernelspec": {
   "display_name": "Python 3 (ipykernel)",
   "language": "python",
   "name": "python3"
  },
  "language_info": {
   "codemirror_mode": {
    "name": "ipython",
    "version": 3
   },
   "file_extension": ".py",
   "mimetype": "text/x-python",
   "name": "python",
   "nbconvert_exporter": "python",
   "pygments_lexer": "ipython3",
   "version": "3.9.12"
  }
 },
 "nbformat": 4,
 "nbformat_minor": 5
}
