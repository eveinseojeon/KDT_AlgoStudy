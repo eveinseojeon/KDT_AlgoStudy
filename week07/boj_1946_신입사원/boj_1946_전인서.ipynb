{
 "cells": [
  {
   "cell_type": "markdown",
   "id": "2a0f52a2",
   "metadata": {},
   "source": [
    "- 처음에 푼 방법. 맞게 풀었으나 시간 초과"
   ]
  },
  {
   "cell_type": "code",
   "execution_count": 17,
   "id": "f254d0c6",
   "metadata": {},
   "outputs": [
    {
     "name": "stdout",
     "output_type": "stream",
     "text": [
      "2\n",
      "5\n",
      "3 2\n",
      "1 4\n",
      "4 1\n",
      "2 3\n",
      "5 5\n",
      "4\n",
      "7\n",
      "3 6\n",
      "7 3\n",
      "4 2\n",
      "1 4\n",
      "5 7\n",
      "2 5\n",
      "6 1\n",
      "3\n"
     ]
    }
   ],
   "source": [
    "import sys\n",
    "read = sys.stdin.readline\n",
    "\n",
    "t = int(input())\n",
    "\n",
    "for _ in range(t):\n",
    "    n = int(input())\n",
    "    rank = []\n",
    "    for _ in range(n):\n",
    "        rank.append(list(map(int, input().split())))\n",
    "        \n",
    "    result = rank.copy()\n",
    "    for i in rank:\n",
    "        for j in rank:\n",
    "            if i[0]>j[0] and i[1]>j[1]:\n",
    "                result.remove(i)\n",
    "                break\n",
    "            \n",
    "    print(len(result))"
   ]
  },
  {
   "cell_type": "markdown",
   "id": "df2c6fb4",
   "metadata": {},
   "source": [
    "- 아래는 구글링해서 찾은 방법"
   ]
  },
  {
   "cell_type": "code",
   "execution_count": null,
   "id": "196d5ecf",
   "metadata": {},
   "outputs": [],
   "source": [
    "import sys\n",
    "read = sys.stdin.readline\n",
    "\n",
    "t = int(input())\n",
    "\n",
    "for _ in range(t):\n",
    "    n = int(input())\n",
    "    rank = []\n",
    "    for _ in range(n):\n",
    "        rank.append(list(map(int, input().split())))\n",
    "    rank = sorted(rank)\n",
    "    \n",
    "    cnt = 1 # 오름차순 정렬하면 맨 첫 번째 사람은 서류 1등이라서 무조건 합격\n",
    "    std = rank[0][1] # 서류 1등의 면접 순위를 비교 기준으로 시작\n",
    "    for i in range(1, n): # 두 번째 사람부터 첫 번째 사람의 면접 순위와 비교해서 더 높으면 합격\n",
    "        if std > rank[i][1]:\n",
    "            cnt += 1\n",
    "            std = rank[i][1] # 면접 순위 비교 기준 업데이트\n",
    "            \n",
    "    print(cnt)\n"
   ]
  }
 ],
 "metadata": {
  "kernelspec": {
   "display_name": "Python 3 (ipykernel)",
   "language": "python",
   "name": "python3"
  },
  "language_info": {
   "codemirror_mode": {
    "name": "ipython",
    "version": 3
   },
   "file_extension": ".py",
   "mimetype": "text/x-python",
   "name": "python",
   "nbconvert_exporter": "python",
   "pygments_lexer": "ipython3",
   "version": "3.9.7"
  }
 },
 "nbformat": 4,
 "nbformat_minor": 5
}
