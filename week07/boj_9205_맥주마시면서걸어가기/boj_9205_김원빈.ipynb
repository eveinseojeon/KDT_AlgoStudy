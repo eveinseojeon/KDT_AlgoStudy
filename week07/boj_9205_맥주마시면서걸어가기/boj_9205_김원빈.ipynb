{
 "cells": [
  {
   "cell_type": "markdown",
   "id": "db5e3d9e",
   "metadata": {},
   "source": [
    "풀긴한거같은데 시간초과.."
   ]
  },
  {
   "cell_type": "code",
   "execution_count": 5,
   "id": "ab5ba87a",
   "metadata": {},
   "outputs": [
    {
     "name": "stdout",
     "output_type": "stream",
     "text": [
      "2\n",
      "2\n",
      "0 0\n",
      "1000 0\n",
      "1000 1000\n",
      "2000 1000\n",
      "happy\n",
      "2\n",
      "0 0\n",
      "1000 0\n",
      "2000 1000\n",
      "2000 2000\n",
      "sad\n"
     ]
    }
   ],
   "source": [
    "from collections import deque\n",
    "# import sys\n",
    "# input = sys.stdin.readline\n",
    "\n",
    "def bfs():\n",
    "    q = deque()\n",
    "    q.append(home)\n",
    "    while q:\n",
    "        x, y = q.popleft() # 집위치에서 시작\n",
    "        if abs(fest_xy[0] - x) + abs(fest_xy[1] - y) <= 1000: # 만약 페스티벌 바로갈수있는 거리면\n",
    "            return print(\"happy\")\n",
    "        for sx, sy in store_xy: # 편의점 위치를 넣어줘서\n",
    "            if 0 < (abs(sx - x) + abs(sy - y)) <= 1000: # 편의점 위치가 1000이하면\n",
    "                q.append([sx, sy]) # 편의점위치로 초기화\n",
    "    return print(\"sad\") # 편의점위치로 이동하고도 도착을 못하면 sad반환           \n",
    "\n",
    "for _ in range(int(input())): # 몇 번 실행 할 것인지\n",
    "    store_cnt = int(input())\n",
    "    home = list(map(int, input().split()))\n",
    "    store_xy = []\n",
    "    for _ in range(store_cnt):\n",
    "        store_xy.append(list(map(int, input().split())))\n",
    "    fest_xy = list(map(int, input().split()))\n",
    "    bfs()\n",
    "    "
   ]
  },
  {
   "cell_type": "markdown",
   "id": "761066f0",
   "metadata": {},
   "source": [
    "## 다른 사람 정답 참고하여 수정"
   ]
  },
  {
   "cell_type": "code",
   "execution_count": 14,
   "id": "42757812",
   "metadata": {},
   "outputs": [
    {
     "name": "stdout",
     "output_type": "stream",
     "text": [
      "1\n",
      "2\n",
      "0 0 \n",
      "1000 0\n",
      "1000 1000\n",
      "2000 1000\n",
      "happy\n"
     ]
    }
   ],
   "source": [
    "from collections import deque\n",
    "import sys\n",
    "input = sys.stdin.readline\n",
    "\n",
    "def bfs():\n",
    "    q = deque()\n",
    "    q.append(home)\n",
    "    while q:\n",
    "        x, y = q.popleft()\n",
    "        if abs(fest_xy[0] - x) + abs(fest_xy[1] - y) <= 1000:\n",
    "            return print(\"happy\")\n",
    "        for i in range(store_cnt):\n",
    "            if not visited[i+1]:\n",
    "                if abs(store_xy[i][0] - x) + abs(store_xy[i][1] - y) <= 1000:\n",
    "                    visited[i+1] = 1\n",
    "                    q.append(store_xy[i])\n",
    "    return print(\"sad\")           \n",
    "\n",
    "for _ in range(int(input())): # 몇 번 실행 할 것인지\n",
    "    store_cnt = int(input())\n",
    "    home = list(map(int, input().split()))\n",
    "    store_xy = []\n",
    "    for _ in range(store_cnt):\n",
    "        store_xy.append(list(map(int, input().split())))\n",
    "    fest_xy = list(map(int, input().split()))\n",
    "    visited = [0 for i in range(store_cnt+1)]\n",
    "    bfs()"
   ]
  }
 ],
 "metadata": {
  "kernelspec": {
   "display_name": "Python 3 (ipykernel)",
   "language": "python",
   "name": "python3"
  },
  "language_info": {
   "codemirror_mode": {
    "name": "ipython",
    "version": 3
   },
   "file_extension": ".py",
   "mimetype": "text/x-python",
   "name": "python",
   "nbconvert_exporter": "python",
   "pygments_lexer": "ipython3",
   "version": "3.9.7"
  }
 },
 "nbformat": 4,
 "nbformat_minor": 5
}
