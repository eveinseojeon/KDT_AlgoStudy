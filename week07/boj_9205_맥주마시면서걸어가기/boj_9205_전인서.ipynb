{
 "cells": [
  {
   "cell_type": "markdown",
   "id": "885370e7",
   "metadata": {},
   "source": [
    "- 구글링해서 이해 ㅠㅠ"
   ]
  },
  {
   "cell_type": "code",
   "execution_count": null,
   "id": "ecc3e2a7",
   "metadata": {},
   "outputs": [],
   "source": [
    "from collections import deque\n",
    "import sys\n",
    "read = sys.stdin.readline\n",
    "\n",
    "\n",
    "def bfs():\n",
    "    visited = [0 for _ in range(n)]\n",
    "    q = deque()\n",
    "    q.append(start)\n",
    "    while q:\n",
    "        x, y = q.popleft()\n",
    "        if abs(x-end[0]) + abs(y-end[1]) <= 1000:\n",
    "            return 'happy'\n",
    "        for i in range(n): # 편의점 수만큼 반복\n",
    "            if visited[i]==0: # 방문하지 않은 곳만\n",
    "                nx, ny = stores[i]\n",
    "                if abs(x-nx) + abs(y-ny) <= 1000: # 맨해튼 거리가 1000 이하면 방문한 곳으로 추가\n",
    "                    q.append(stores[i])\n",
    "                    visited[i] = 1\n",
    "    return 'sad'\n",
    "\n",
    "\n",
    "t = int(read())\n",
    "for _ in range(t):\n",
    "    n = int(read())\n",
    "    start = list(map(int, read().split()))\n",
    "    stores = []\n",
    "    for _ in range(n):\n",
    "        stores.append(list(map(int, read().split())))\n",
    "    end = list(map(int, read().split()))\n",
    "\n",
    "    print(bfs())"
   ]
  }
 ],
 "metadata": {
  "kernelspec": {
   "display_name": "Python 3 (ipykernel)",
   "language": "python",
   "name": "python3"
  },
  "language_info": {
   "codemirror_mode": {
    "name": "ipython",
    "version": 3
   },
   "file_extension": ".py",
   "mimetype": "text/x-python",
   "name": "python",
   "nbconvert_exporter": "python",
   "pygments_lexer": "ipython3",
   "version": "3.9.7"
  }
 },
 "nbformat": 4,
 "nbformat_minor": 5
}
