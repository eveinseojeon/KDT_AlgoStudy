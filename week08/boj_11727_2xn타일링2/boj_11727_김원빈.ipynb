{
 "cells": [
  {
   "cell_type": "markdown",
   "id": "3c3be37f",
   "metadata": {},
   "source": [
    "### 아이디어: 타일링 문제는 규칙만 찾으면되니 몇개그려보면서 규칙을 찾자\n",
    "- 규칙: 원하는위치값 = 전전값 x 2 + 전값"
   ]
  },
  {
   "cell_type": "code",
   "execution_count": 8,
   "id": "9c05aea6",
   "metadata": {},
   "outputs": [
    {
     "name": "stdout",
     "output_type": "stream",
     "text": [
      "12\n",
      "2731\n"
     ]
    }
   ],
   "source": [
    "n = int(input())\n",
    "d = [0] * 1001\n",
    "\n",
    "d[1] = 1\n",
    "d[2] = 3\n",
    "for i in range(3, n+1):\n",
    "    d[i] = d[i-2] * 2 + d[i-1]\n",
    "    \n",
    "print(d[n]%10007)"
   ]
  }
 ],
 "metadata": {
  "kernelspec": {
   "display_name": "Python 3 (ipykernel)",
   "language": "python",
   "name": "python3"
  },
  "language_info": {
   "codemirror_mode": {
    "name": "ipython",
    "version": 3
   },
   "file_extension": ".py",
   "mimetype": "text/x-python",
   "name": "python",
   "nbconvert_exporter": "python",
   "pygments_lexer": "ipython3",
   "version": "3.9.7"
  }
 },
 "nbformat": 4,
 "nbformat_minor": 5
}
