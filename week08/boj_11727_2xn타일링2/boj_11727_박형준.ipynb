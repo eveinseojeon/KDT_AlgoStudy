{
 "cells": [
  {
   "cell_type": "markdown",
   "id": "ed042f93",
   "metadata": {},
   "source": [
    "# boj_11727_2xn타일링2"
   ]
  },
  {
   "cell_type": "code",
   "execution_count": null,
   "id": "c4e86c30",
   "metadata": {},
   "outputs": [],
   "source": [
    "# 구글링\n",
    "import sys\n",
    "input = sys.stdin.readline\n",
    "\n",
    "# n = 1\n",
    "# 1\n",
    "# n = 2\n",
    "# 3\n",
    "# n = 3\n",
    "# 5\n",
    "# n = 4\n",
    "# 11\n",
    "# n = 5\n",
    "\n",
    "# n - 1 + (n - 2) * 2\n",
    "    \n",
    "\n",
    "n = int(input())\n",
    "d = [0] * 1001\n",
    "d[1] = 1\n",
    "d[2] = 3\n",
    "\n",
    "if n <= 2:\n",
    "    print(d[n] % 10007)\n",
    "else:\n",
    "    for i in range(3, n + 1):\n",
    "        d[i] = d[i - 1] + d[i - 2] * 2\n",
    "    print(d[n] % 10007)"
   ]
  }
 ],
 "metadata": {
  "kernelspec": {
   "display_name": "Python 3 (ipykernel)",
   "language": "python",
   "name": "python3"
  },
  "language_info": {
   "codemirror_mode": {
    "name": "ipython",
    "version": 3
   },
   "file_extension": ".py",
   "mimetype": "text/x-python",
   "name": "python",
   "nbconvert_exporter": "python",
   "pygments_lexer": "ipython3",
   "version": "3.9.12"
  }
 },
 "nbformat": 4,
 "nbformat_minor": 5
}
