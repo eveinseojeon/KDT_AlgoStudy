{
 "cells": [
  {
   "cell_type": "markdown",
   "id": "cbc0f209",
   "metadata": {},
   "source": [
    "- 런타임 에러"
   ]
  },
  {
   "cell_type": "code",
   "execution_count": 16,
   "id": "ea2402c5",
   "metadata": {},
   "outputs": [
    {
     "name": "stdout",
     "output_type": "stream",
     "text": [
      "12\n",
      "2731\n"
     ]
    }
   ],
   "source": [
    "import sys\n",
    "read = sys.stdin.readline\n",
    "\n",
    "n = int(read())\n",
    "\n",
    "d = [0]*(n+1)\n",
    "d[1] = 1\n",
    "d[2] = 3 # 이 부분 때문에 런타임 에러 남. n이 1일 때 d[2]가 존재하지 않음\n",
    "for i in range(3, n+1):\n",
    "    d[i] = d[i-1] + 2*d[i-2]\n",
    "\n",
    "print(d[n]%10007)\n"
   ]
  },
  {
   "cell_type": "markdown",
   "id": "76333ec0",
   "metadata": {},
   "source": [
    "- 구글링"
   ]
  },
  {
   "cell_type": "code",
   "execution_count": 17,
   "id": "6a62261c",
   "metadata": {},
   "outputs": [
    {
     "name": "stdout",
     "output_type": "stream",
     "text": [
      "12\n",
      "2731\n"
     ]
    }
   ],
   "source": [
    "import sys\n",
    "read = sys.stdin.readline\n",
    "\n",
    "n = int(read())\n",
    "\n",
    "d = [0, 1, 3] # 이 부분과\n",
    "for i in range(3, n+1):\n",
    "    d.append(d[i-1] + 2*d[i-2]) # 이 부분을 바꿨더니 런타임 에러 안 남\n",
    "\n",
    "print(d[n]%10007)\n"
   ]
  },
  {
   "cell_type": "code",
   "execution_count": null,
   "id": "04f2c1bb",
   "metadata": {},
   "outputs": [],
   "source": []
  }
 ],
 "metadata": {
  "kernelspec": {
   "display_name": "Python 3 (ipykernel)",
   "language": "python",
   "name": "python3"
  },
  "language_info": {
   "codemirror_mode": {
    "name": "ipython",
    "version": 3
   },
   "file_extension": ".py",
   "mimetype": "text/x-python",
   "name": "python",
   "nbconvert_exporter": "python",
   "pygments_lexer": "ipython3",
   "version": "3.9.7"
  }
 },
 "nbformat": 4,
 "nbformat_minor": 5
}
