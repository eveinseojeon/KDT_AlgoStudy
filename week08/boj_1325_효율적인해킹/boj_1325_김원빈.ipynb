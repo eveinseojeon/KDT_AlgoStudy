{
 "cells": [
  {
   "cell_type": "markdown",
   "id": "12076961",
   "metadata": {},
   "source": [
    "메모리초과"
   ]
  },
  {
   "cell_type": "code",
   "execution_count": 3,
   "id": "48fcbbfe",
   "metadata": {},
   "outputs": [
    {
     "name": "stdout",
     "output_type": "stream",
     "text": [
      "5 4\n",
      "3 1\n",
      "3 2\n",
      "4 3\n",
      "5 3\n",
      "1 2 "
     ]
    }
   ],
   "source": [
    "# import sys\n",
    "# input = sys.stdin.readline\n",
    "from collections import deque\n",
    "sys.setrecursionlimit(10**6)\n",
    "\n",
    "N, M = map(int, input().split())\n",
    "trust = [list(map(int, input().split())) for _ in range(M)]\n",
    "\n",
    "tree = [[] for i in range(N+1)]\n",
    "for i in range(M):\n",
    "    tree[trust[i][1]].append(trust[i][0])\n",
    "\n",
    "result = [0] * (N+1)\n",
    "q = deque()\n",
    "def bfs(i):    \n",
    "    while q:\n",
    "        temp = q.popleft()\n",
    "        if bool(tree[temp]):\n",
    "            for z in tree[temp]:\n",
    "                q.append(z)\n",
    "                result[i] += 1\n",
    "\n",
    "for i in range(1, N+1):\n",
    "    if bool(tree[i]):\n",
    "        for j in tree[i]:\n",
    "            q.append(j)\n",
    "            bfs(i)    \n",
    "\n",
    "for i in range(1, len(result)):\n",
    "    if max(result) == result[i]:\n",
    "        print(i, end=' ')"
   ]
  },
  {
   "cell_type": "markdown",
   "id": "e0ce3e06",
   "metadata": {},
   "source": [
    "메모리 초과로 구글링: 다른 사람 정답 pypy로해야함"
   ]
  },
  {
   "cell_type": "code",
   "execution_count": null,
   "id": "8b0df41d",
   "metadata": {},
   "outputs": [],
   "source": [
    "from collections import deque\n",
    "import sys\n",
    "\n",
    "r = sys.stdin.readline\n",
    "\n",
    "n, m = map(int, r().split())\n",
    "\n",
    "array = [[] for _ in range(n+1)]\n",
    "\n",
    "\n",
    "def bfs(v):\n",
    "    q = deque([v])\n",
    "    visited = [False] * (n+1)\n",
    "    visited[v] = True\n",
    "    cnt = 1\n",
    "    while q:\n",
    "        v = q.popleft()\n",
    "        for node in array[v]:\n",
    "            if not visited[node]:\n",
    "                q.append(node)\n",
    "                visited[node] = True\n",
    "                cnt += 1\n",
    "\n",
    "    return cnt\n",
    "\n",
    "for _ in range(m):\n",
    "    a, b = map(int, r().split())\n",
    "    array[b].append(a)\n",
    "\n",
    "results = []\n",
    "max_value = -1\n",
    "for i in range(1, n+1):\n",
    "    result = bfs(i)\n",
    "    if result > max_value:\n",
    "        results = [i]\n",
    "        max_value = result\n",
    "    elif result == max_value:\n",
    "        results.append(i)\n",
    "\n",
    "for re in results:\n",
    "    print(re, end=\" \")"
   ]
  }
 ],
 "metadata": {
  "kernelspec": {
   "display_name": "Python 3 (ipykernel)",
   "language": "python",
   "name": "python3"
  },
  "language_info": {
   "codemirror_mode": {
    "name": "ipython",
    "version": 3
   },
   "file_extension": ".py",
   "mimetype": "text/x-python",
   "name": "python",
   "nbconvert_exporter": "python",
   "pygments_lexer": "ipython3",
   "version": "3.9.7"
  }
 },
 "nbformat": 4,
 "nbformat_minor": 5
}
