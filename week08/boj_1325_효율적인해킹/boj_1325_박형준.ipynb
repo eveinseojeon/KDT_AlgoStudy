{
 "cells": [
  {
   "cell_type": "markdown",
   "id": "f29f5f89",
   "metadata": {},
   "source": [
    "# boj_1325_효율적인 해킹"
   ]
  },
  {
   "cell_type": "code",
   "execution_count": null,
   "id": "6266b25c",
   "metadata": {},
   "outputs": [],
   "source": [
    "# 구글링\n",
    "from collections import deque\n",
    "import sys\n",
    "input = sys.stdin.readline\n",
    "\n",
    "n, m = map(int, input().split())\n",
    "graph = [[] for _ in range(n + 1)]\n",
    "for _ in range(m):\n",
    "    a, b = map(int, input().split())\n",
    "    graph[b].append(a)\n",
    "\n",
    "def bfs(x):\n",
    "    queue = deque([x])\n",
    "    cnt = 1\n",
    "    visited = [0] * (n + 1)\n",
    "    visited[x] = True\n",
    "    while queue:\n",
    "        v = queue.popleft()\n",
    "        for i in graph[v]:\n",
    "            if not visited[i]:\n",
    "                visited[i] = True\n",
    "                cnt += 1\n",
    "                queue.append(i)\n",
    "    return cnt\n",
    "\n",
    "ans = [0] * (n + 1)\n",
    "\n",
    "for i in range(1, n+1):\n",
    "    ans[i] = bfs(i)\n",
    "\n",
    "for i in range(1, n+1):\n",
    "    if ans[i] == max(ans):\n",
    "        print(i, end=' ')"
   ]
  }
 ],
 "metadata": {
  "kernelspec": {
   "display_name": "Python 3 (ipykernel)",
   "language": "python",
   "name": "python3"
  },
  "language_info": {
   "codemirror_mode": {
    "name": "ipython",
    "version": 3
   },
   "file_extension": ".py",
   "mimetype": "text/x-python",
   "name": "python",
   "nbconvert_exporter": "python",
   "pygments_lexer": "ipython3",
   "version": "3.9.12"
  }
 },
 "nbformat": 4,
 "nbformat_minor": 5
}
