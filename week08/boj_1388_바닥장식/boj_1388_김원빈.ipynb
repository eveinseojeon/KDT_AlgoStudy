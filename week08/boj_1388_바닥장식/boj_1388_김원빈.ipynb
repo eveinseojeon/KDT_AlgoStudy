{
 "cells": [
  {
   "cell_type": "markdown",
   "id": "b2a11775",
   "metadata": {},
   "source": [
    "## 아이디어\n",
    "1. '-'는 0으로 변경, '|'는 1로 변경 후 \n",
    "2. 이중for문으로 전체를 탐색해주며, 이어진 나무 판자이면 2(방문표시)로 전부 변경한 후 cnt에 +1을 해준다. \n",
    "3. 0,0 부터 탐색시 2(방문)가 아닐 시에 실행하여 0 일 경우 오른쪽이 0이면 그다음 오른쪽까지 확인하여\n",
    "   0인 판자를 전부 2로 바꿔주고 cnt +1,\n",
    "   반대로 1일 경우는 아래가 1일 경우로 0과 같은 방법으로 실행\n",
    "4. cnt값 == 판자의 개수"
   ]
  },
  {
   "cell_type": "code",
   "execution_count": 26,
   "id": "b2144d93",
   "metadata": {},
   "outputs": [
    {
     "name": "stdout",
     "output_type": "stream",
     "text": [
      "10 10\n",
      "||-||-|||-\n",
      "||--||||||\n",
      "-|-|||||||\n",
      "-|-||-||-|\n",
      "||--|-||||\n",
      "||||||-||-\n",
      "|-||||||||\n",
      "||||||||||\n",
      "||---|--||\n",
      "-||-||||||\n",
      "41\n"
     ]
    }
   ],
   "source": [
    "# dfs\n",
    "import sys\n",
    "input = sys.stdin.readline\n",
    "# 입력구간\n",
    "N, M = map(int, input().split())\n",
    "matrix = []\n",
    "for _ in range(N):\n",
    "    temp = list(input())\n",
    "    # '-'을 0으로, 나머지를 1로 변경\n",
    "    for i in range(M):\n",
    "        if temp[i] == '-':\n",
    "            temp[i] = 0\n",
    "        else:\n",
    "            temp[i] = 1\n",
    "    matrix.append(temp)\n",
    "\n",
    "def dfs(x, y):\n",
    "    if matrix[x][y] == 0: # '-' 일 경우\n",
    "        if y == M-1 or matrix[x][y] != matrix[x][y+1]: # 범위를 넘거나 or 오른쪽 판자와 다를 경우에\n",
    "            matrix[x][y] = 2 # 현재위치 방문처리\n",
    "        else: # 범위를 넘지않을 경우 실행\n",
    "            if matrix[x][y] == matrix[x][y+1]: # 오른쪽 판자가 같은 '-'일 경우\n",
    "                matrix[x][y] = 2 # 현재위치 방문처리\n",
    "                dfs(x, y+1) # 오른쪽 판자에 대해서도 dfs 실행\n",
    "    elif matrix[x][y] == 1: # '|' 일 경우\n",
    "        if x == N-1 or matrix[x][y] != matrix[x+1][y]: # 범위를 넘거나 or 아래쪽 판자와 다를 경우에\n",
    "            matrix[x][y] = 2 # 현재위치 방문처리\n",
    "        else: # # 범위를 넘지않을 경우 실행\n",
    "            if matrix[x][y] == matrix[x+1][y]: # 아래쪽 판자가 같은 '|'일 경우\n",
    "                matrix[x][y] = 2 # 현재위치 방문처리\n",
    "                dfs(x+1, y) # # 아래쪽 판자에 대해서도 dfs 실행\n",
    "                \n",
    "cnt = 0\n",
    "# 전체 매트릭스 범위를 돌려줌\n",
    "for i in range(N):\n",
    "    for j in range(M):\n",
    "        if matrix[i][j] != 2: # 방문이 이미된건 cnt에 추가되었으므로 방문이 안되었을 시에만 시행\n",
    "            dfs(i, j)\n",
    "            cnt += 1\n",
    "\n",
    "print(cnt)"
   ]
  },
  {
   "cell_type": "code",
   "execution_count": 29,
   "id": "6ec1bacd",
   "metadata": {},
   "outputs": [
    {
     "name": "stdout",
     "output_type": "stream",
     "text": [
      "4 4\n",
      "----\n",
      "----\n",
      "----\n",
      "----\n",
      "4\n"
     ]
    }
   ],
   "source": [
    "# bfs: 위와 원리는 같음\n",
    "import sys\n",
    "input = sys.stdin.readline\n",
    "N, M = map(int, input().split())\n",
    "matrix = []\n",
    "for _ in range(N):\n",
    "    temp = list(input())\n",
    "    for i in range(M):\n",
    "        if temp[i] == '-':\n",
    "            temp[i] = 0\n",
    "        else:\n",
    "            temp[i] = 1\n",
    "    matrix.append(temp)\n",
    "\n",
    "from collections import deque\n",
    "q = deque()\n",
    "def bfs():    \n",
    "    while q:\n",
    "        x, y = q.popleft()\n",
    "        if matrix[x][y] == 0:\n",
    "            if y == M-1 or matrix[x][y] != matrix[x][y+1]:\n",
    "                matrix[x][y] = 2\n",
    "            else:\n",
    "                if matrix[x][y] == matrix[x][y+1]:\n",
    "                    matrix[x][y] = 2\n",
    "                    q.append((x, y+1))\n",
    "        elif matrix[x][y] == 1:\n",
    "            if x == N-1 or matrix[x][y] != matrix[x+1][y]:\n",
    "                matrix[x][y] = 2\n",
    "            else:\n",
    "                if matrix[x][y] == matrix[x+1][y]:\n",
    "                    matrix[x][y] = 2\n",
    "                    q.append((x+1, y))\n",
    "                \n",
    "cnt = 0\n",
    "for i in range(N):\n",
    "    for j in range(M):\n",
    "        if matrix[i][j] != 2:\n",
    "            q.append((i, j))    \n",
    "            bfs()\n",
    "            cnt += 1\n",
    "\n",
    "print(cnt)"
   ]
  }
 ],
 "metadata": {
  "kernelspec": {
   "display_name": "Python 3 (ipykernel)",
   "language": "python",
   "name": "python3"
  },
  "language_info": {
   "codemirror_mode": {
    "name": "ipython",
    "version": 3
   },
   "file_extension": ".py",
   "mimetype": "text/x-python",
   "name": "python",
   "nbconvert_exporter": "python",
   "pygments_lexer": "ipython3",
   "version": "3.9.7"
  }
 },
 "nbformat": 4,
 "nbformat_minor": 5
}
