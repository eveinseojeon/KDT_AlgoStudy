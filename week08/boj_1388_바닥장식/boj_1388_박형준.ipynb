{
 "cells": [
  {
   "cell_type": "markdown",
   "id": "9e83103a",
   "metadata": {},
   "source": [
    "# boj_1388_바닥 장식"
   ]
  },
  {
   "cell_type": "code",
   "execution_count": null,
   "id": "68d171b3",
   "metadata": {},
   "outputs": [],
   "source": [
    "import sys\n",
    "input = sys.stdin.readline\n",
    "sys.setrecursionlimit(10 ** 9)\n",
    "\n",
    "\n",
    "\n",
    "n, m = map(int, input().split())\n",
    "\n",
    "graph = [[] for _ in range(n)]\n",
    "for i in range(n):\n",
    "    temp = list(input())\n",
    "    graph[i] = temp\n",
    "\n",
    "visited = [[0] * m for _ in range(n)]\n",
    "\n",
    "def dfs(x, y):\n",
    "    k = graph[x][y]\n",
    "    visited[x][y] = True\n",
    "    global cnt\n",
    "    if k == '-' and y + 1 < m:\n",
    "        if graph[x][y + 1] == '-':\n",
    "            y = y + 1\n",
    "            dfs(x, y)\n",
    "        else:\n",
    "            cnt += 1\n",
    "    \n",
    "    elif k == '|' and  x + 1 < n:\n",
    "        if graph[x + 1][y] == '|':\n",
    "            x = x + 1\n",
    "            dfs(x, y)\n",
    "        else:\n",
    "            cnt += 1\n",
    "    else:\n",
    "        cnt += 1\n",
    "\n",
    "cnt = 0\n",
    "for i in range(n):\n",
    "    for j in range(m):\n",
    "        if visited[i][j] != True:\n",
    "            dfs(i, j)\n",
    "            \n",
    "print(cnt)"
   ]
  },
  {
   "cell_type": "code",
   "execution_count": null,
   "id": "ac546f38",
   "metadata": {},
   "outputs": [],
   "source": [
    "# global 변수 없이\n",
    "# 구글링\n",
    "import sys\n",
    "input = sys.stdin.readline\n",
    "\n",
    "n, m = map(int, input().split())\n",
    "\n",
    "graph = []\n",
    "\n",
    "for _ in range(n):\n",
    "    graph.append(list(input()))\n",
    "\n",
    "count = 0\n",
    "\n",
    "# '-' 확인\n",
    "for i in range(n):\n",
    "    mark = '|'\n",
    "    for j in range(m):\n",
    "        if graph[i][j] == '-':\n",
    "            if graph[i][j] != mark:\n",
    "                count += 1\n",
    "        mark = graph[i][j]\n",
    "\n",
    "# '|' 확인\n",
    "for i in range(m):\n",
    "    mark = '-'\n",
    "    for j in range(n):\n",
    "        if graph[j][i] == '|':\n",
    "            if graph[j][i] != mark:\n",
    "                count += 1\n",
    "        mark = graph[j][i]\n",
    "            \n",
    "print(count)"
   ]
  }
 ],
 "metadata": {
  "kernelspec": {
   "display_name": "Python 3 (ipykernel)",
   "language": "python",
   "name": "python3"
  },
  "language_info": {
   "codemirror_mode": {
    "name": "ipython",
    "version": 3
   },
   "file_extension": ".py",
   "mimetype": "text/x-python",
   "name": "python",
   "nbconvert_exporter": "python",
   "pygments_lexer": "ipython3",
   "version": "3.9.12"
  }
 },
 "nbformat": 4,
 "nbformat_minor": 5
}
