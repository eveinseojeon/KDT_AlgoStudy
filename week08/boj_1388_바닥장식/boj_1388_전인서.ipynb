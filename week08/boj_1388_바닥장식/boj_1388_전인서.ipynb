{
 "cells": [
  {
   "cell_type": "code",
   "execution_count": 12,
   "id": "84b416d6",
   "metadata": {},
   "outputs": [
    {
     "name": "stdout",
     "output_type": "stream",
     "text": [
      "6 9\n",
      "-||--||--\n",
      "--||--||-\n",
      "|--||--||\n",
      "||--||--|\n",
      "-||--||--\n",
      "--||--||-\n",
      "31\n"
     ]
    }
   ],
   "source": [
    "import sys\n",
    "read = sys.stdin.readline\n",
    "\n",
    "n, m = map(int, read().split())\n",
    "graph = []\n",
    "for _ in range(n):\n",
    "    new = list(read())\n",
    "    graph.append(new)\n",
    "\n",
    "cnt = 0\n",
    "\n",
    "# 가로 '-' 탐색\n",
    "for i in range(n):\n",
    "    if graph[i][0]=='-': # 행이 '-'로 시작하는 경우\n",
    "        cnt += 1 # 카운트\n",
    "        for j in range(1, m): # 그다음 인덱스 1부터 살펴보는데\n",
    "            if graph[i][j]=='-': # 원소가 '-'인데\n",
    "                if graph[i][j-1]=='|': # 이전 원소가 '|'인 경우만 카운트\n",
    "                    cnt += 1\n",
    "    else: # 행이 '|'로 시작하는 경우\n",
    "        for j in range(1, m):\n",
    "            if graph[i][j]=='-':\n",
    "                if graph[i][j-1]=='|':\n",
    "                    cnt += 1\n",
    "\n",
    "# 세로 '|' 탐색\n",
    "for i in range(m):\n",
    "    if graph[0][i]=='|': # 열이 '|'로 시작하는 경우\n",
    "        cnt += 1 # 카운트\n",
    "        for j in range(1, n): # 그다음 인덱스 1부터 살펴보는데\n",
    "            if graph[j][i]=='|': # 원소가 '|'인데\n",
    "                if graph[j-1][i]=='-': # 이전 원소가 '-'인 경우만 카운트\n",
    "                    cnt += 1\n",
    "    else: # 열이 '-'로 시작하는 경우\n",
    "        for j in range(1, n):\n",
    "            if graph[j][i]=='|':\n",
    "                if graph[j-1][i]=='-':\n",
    "                    cnt += 1\n",
    "\n",
    "print(cnt)\n"
   ]
  },
  {
   "cell_type": "code",
   "execution_count": null,
   "id": "5672765a",
   "metadata": {},
   "outputs": [],
   "source": []
  }
 ],
 "metadata": {
  "kernelspec": {
   "display_name": "Python 3 (ipykernel)",
   "language": "python",
   "name": "python3"
  },
  "language_info": {
   "codemirror_mode": {
    "name": "ipython",
    "version": 3
   },
   "file_extension": ".py",
   "mimetype": "text/x-python",
   "name": "python",
   "nbconvert_exporter": "python",
   "pygments_lexer": "ipython3",
   "version": "3.9.7"
  }
 },
 "nbformat": 4,
 "nbformat_minor": 5
}
