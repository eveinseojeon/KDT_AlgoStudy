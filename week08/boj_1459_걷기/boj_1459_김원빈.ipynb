{
 "cells": [
  {
   "cell_type": "code",
   "execution_count": 28,
   "id": "469d91c0",
   "metadata": {},
   "outputs": [
    {
     "name": "stdout",
     "output_type": "stream",
     "text": [
      "24 16 12 10\n",
      "256\n"
     ]
    }
   ],
   "source": [
    "# X, Y, W, S = list(map(int, input().split()))\n",
    "\n",
    "# Dis = X+Y\n",
    "# if 2*W <= S:\n",
    "#     print(Dis*W)\n",
    "# elif 2*W > S:\n",
    "#     Dis -= (min(X, Y) * 2)\n",
    "#     time = (min(X, Y)) * S\n",
    "#     time += Dis * W\n",
    "#     print(time)\n",
    "    \n",
    "# # 반례: 2 0 12 10"
   ]
  },
  {
   "cell_type": "code",
   "execution_count": 38,
   "id": "1d7c662b",
   "metadata": {},
   "outputs": [
    {
     "name": "stdout",
     "output_type": "stream",
     "text": [
      "135 122 43 29\n",
      "4097\n"
     ]
    }
   ],
   "source": [
    "# X, Y, W, S = list(map(int, input().split()))\n",
    "\n",
    "# Dis = X+Y\n",
    "# if Dis % 2 == 0: # DIs가 짝수이면\n",
    "#     if X != Y:\n",
    "#         pre = min(Dis*W, max(X, Y) * S) # W로만 가는 값 vs \n",
    "#         Dis -= (min(X, Y) * 2)\n",
    "#         time = (min(X, Y)) * S\n",
    "#         time += Dis * W\n",
    "#         result = min(pre, time)\n",
    "#     elif X == Y:\n",
    "#         result = min(Dis*W, (Dis//2) * S)\n",
    "#     print(result)\n",
    "# else: # Dis가 홀수이면\n",
    "#     if 2*W <= S:\n",
    "#         print(Dis*W)\n",
    "#     elif 2*W > S:\n",
    "#         Dis -= (min(X, Y) * 2)\n",
    "#         time = (min(X, Y)) * S\n",
    "#         time += Dis * W\n",
    "#         print(time)"
   ]
  },
  {
   "cell_type": "markdown",
   "id": "5a51b036",
   "metadata": {},
   "source": [
    "다른 사람 정답\n",
    "- 봐도 모르겠음.."
   ]
  },
  {
   "cell_type": "code",
   "execution_count": 42,
   "id": "fe079bf4",
   "metadata": {},
   "outputs": [
    {
     "name": "stdout",
     "output_type": "stream",
     "text": [
      "135 122 43 29\n",
      "3929\n"
     ]
    }
   ],
   "source": [
    "#백준 1459(걷기)\n",
    "\n",
    "x, y, w, s = map(int, input().split())  #집의 위치(x, y), 평행, 대각선\n",
    "\n",
    "#평행 이동\n",
    "move1 = (x + y) * w\n",
    "\n",
    "#짝수, 홀수에 따른 이동\n",
    "if (x + y) % 2 == 0:  #x + y가 짝수라면\n",
    "    move2 = max(x, y) * s\n",
    "else:  #홀수라면\n",
    "    move2 = (max(x, y) - 1) * s + w\n",
    "    \n",
    "#대각선 + 평행 이동\n",
    "move3 = (min(x, y) * s) + ((max(x, y) - min(x, y)) * w)\n",
    "\n",
    "res = min(min(move1, move2), move3)\n",
    "\n",
    "print(res)"
   ]
  }
 ],
 "metadata": {
  "kernelspec": {
   "display_name": "Python 3 (ipykernel)",
   "language": "python",
   "name": "python3"
  },
  "language_info": {
   "codemirror_mode": {
    "name": "ipython",
    "version": 3
   },
   "file_extension": ".py",
   "mimetype": "text/x-python",
   "name": "python",
   "nbconvert_exporter": "python",
   "pygments_lexer": "ipython3",
   "version": "3.9.7"
  }
 },
 "nbformat": 4,
 "nbformat_minor": 5
}
