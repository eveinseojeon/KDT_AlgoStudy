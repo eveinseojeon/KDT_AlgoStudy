{
 "cells": [
  {
   "cell_type": "markdown",
   "id": "c5614860",
   "metadata": {},
   "source": [
    "# boj_1459_걷기"
   ]
  },
  {
   "cell_type": "code",
   "execution_count": 2,
   "id": "a301ec83",
   "metadata": {},
   "outputs": [
    {
     "name": "stdout",
     "output_type": "stream",
     "text": [
      "24 16 12 10\n",
      "240\n"
     ]
    }
   ],
   "source": [
    "import sys\n",
    "input = sys.stdin.readline\n",
    "\n",
    "x, y, w, s = map(int, input().split())\n",
    "\n",
    "# y축 위에 있는 경우\n",
    "if x == 0:\n",
    "    a = y % 2 # 짝수면 a = 0\n",
    "    b = y // 2\n",
    "    # 짝수만큼 대각선 왔다갔다 가능(대각선 vs 1칸 이동 더 적은 수)\n",
    "    # 홀수면 짝수만큼 최소한으로 간 다음 1칸 이동만 추가\n",
    "    result = b * min(w, s) * 2 + a * w\n",
    "# x축 위에 있는 경우\n",
    "elif y == 0:\n",
    "    a = x % 2\n",
    "    b = x // 2\n",
    "    result = b * min(w, s) * 2 + a * w\n",
    "\n",
    "else:\n",
    "    # 대각선 이동이 x, y 1칸씩 움직이는 것보다 크면 다 1칸씩 이동\n",
    "    if s > 2 * w:\n",
    "        result = (x + y) * w\n",
    "    # 대각선 이동이 x, y 1칸보다 작으면 대각선으로 최대한 이동 후 y축이나 x축 위에 있다고 생각하고 풀이\n",
    "    else:\n",
    "        k = min(x, y)\n",
    "        j = max(x, y) - k\n",
    "        a = j % 2\n",
    "        b = j // 2\n",
    "        result = b * min(w, s) * 2 + a * w + k * s\n",
    "\n",
    "print(result)"
   ]
  }
 ],
 "metadata": {
  "kernelspec": {
   "display_name": "Python 3 (ipykernel)",
   "language": "python",
   "name": "python3"
  },
  "language_info": {
   "codemirror_mode": {
    "name": "ipython",
    "version": 3
   },
   "file_extension": ".py",
   "mimetype": "text/x-python",
   "name": "python",
   "nbconvert_exporter": "python",
   "pygments_lexer": "ipython3",
   "version": "3.9.12"
  }
 },
 "nbformat": 4,
 "nbformat_minor": 5
}
