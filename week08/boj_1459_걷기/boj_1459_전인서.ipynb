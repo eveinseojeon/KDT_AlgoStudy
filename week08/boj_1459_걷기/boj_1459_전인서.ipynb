{
 "cells": [
  {
   "cell_type": "code",
   "execution_count": 25,
   "id": "51685020",
   "metadata": {},
   "outputs": [
    {
     "name": "stdout",
     "output_type": "stream",
     "text": [
      "135 122 43 29\n",
      "3929\n"
     ]
    }
   ],
   "source": [
    "import sys\n",
    "read = sys.stdin.readline\n",
    "\n",
    "x, y, w, s = map(int, read().split())\n",
    "if y > x:\n",
    "    x, y = y, x # 항상 큰 값이 x에 오도록 고정\n",
    "\n",
    "# 시간 계산\n",
    "if 2*w <= s: # 맨하탄 이동이 유클리디안 이동보다 가까울 때\n",
    "    result = (x+y) * w\n",
    "else:\n",
    "    if w > s: # 연속 가로/세로 진행보다 대각 진행 두 번이 더 가까울 때\n",
    "        if (x+y)%2 == 0: # x와 y의 합이 짝수면\n",
    "            result = x * s\n",
    "        else: # x와 y의 합이 홀수면\n",
    "            result = ((x-1) * s) + w\n",
    "    else:\n",
    "        result = (y * s) + ((x - y) * w)\n",
    "\n",
    "print(result)"
   ]
  },
  {
   "cell_type": "code",
   "execution_count": null,
   "id": "1487f2ee",
   "metadata": {},
   "outputs": [],
   "source": []
  }
 ],
 "metadata": {
  "kernelspec": {
   "display_name": "Python 3 (ipykernel)",
   "language": "python",
   "name": "python3"
  },
  "language_info": {
   "codemirror_mode": {
    "name": "ipython",
    "version": 3
   },
   "file_extension": ".py",
   "mimetype": "text/x-python",
   "name": "python",
   "nbconvert_exporter": "python",
   "pygments_lexer": "ipython3",
   "version": "3.9.7"
  }
 },
 "nbformat": 4,
 "nbformat_minor": 5
}
