{
 "cells": [
  {
   "cell_type": "markdown",
   "id": "474cda97",
   "metadata": {},
   "source": [
    "# boj_1911_흙길 보수하기"
   ]
  },
  {
   "cell_type": "code",
   "execution_count": null,
   "id": "5c09afac",
   "metadata": {},
   "outputs": [],
   "source": [
    "# 구글링\n",
    "# import sys\n",
    "# input = sys.stdin.readline\n",
    "\n",
    "n, l = map(int, input().split())\n",
    "\n",
    "pool = []\n",
    "for _ in range(n):\n",
    "    pool.append(list(map(int, input().split())))\n",
    "pool.sort(key=lambda x:x[0])\n",
    "\n",
    "# 널빤지 위치\n",
    "plank = pool[0][0]\n",
    "to_cnt = 0\n",
    "\n",
    "for start, end in pool:\n",
    "    # 널빤지 위치가 웅덩이 끝나는 점보다 크면\n",
    "    if plank > end:\n",
    "        continue\n",
    "    # 널빠진 위치가 웅덩이 시작점보다 작으면 시작점으로 변경\n",
    "    elif plank < start:\n",
    "        plank = start\n",
    "    dist = end - plank\n",
    "    remainder = 1\n",
    "    # 웅덩이가 남는 부분없이 널빤지로 완전히 덮어지면 remainder 0 \n",
    "    if dist % l == 0:\n",
    "        reaminder = 0\n",
    "    cnt = dist // l + remainder\n",
    "    \n",
    "    # 널빤지 위치를 웅덩이 덮고 난 이후 위치로 변경\n",
    "    plank += cnt * l\n",
    "    to_cnt += cnt\n",
    "    \n",
    "print(to_cnt)"
   ]
  },
  {
   "cell_type": "code",
   "execution_count": null,
   "id": "a03f1c37",
   "metadata": {},
   "outputs": [],
   "source": []
  }
 ],
 "metadata": {
  "kernelspec": {
   "display_name": "Python 3 (ipykernel)",
   "language": "python",
   "name": "python3"
  },
  "language_info": {
   "codemirror_mode": {
    "name": "ipython",
    "version": 3
   },
   "file_extension": ".py",
   "mimetype": "text/x-python",
   "name": "python",
   "nbconvert_exporter": "python",
   "pygments_lexer": "ipython3",
   "version": "3.9.12"
  }
 },
 "nbformat": 4,
 "nbformat_minor": 5
}
