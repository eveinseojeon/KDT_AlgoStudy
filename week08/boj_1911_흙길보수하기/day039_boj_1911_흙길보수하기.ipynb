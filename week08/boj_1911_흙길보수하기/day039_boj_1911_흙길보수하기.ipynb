{
 "cells": [
  {
   "cell_type": "code",
   "execution_count": 1,
   "id": "c37d1f42",
   "metadata": {},
   "outputs": [
    {
     "name": "stdout",
     "output_type": "stream",
     "text": [
      "3 3\n",
      "1 3\n",
      "5 9\n",
      "10 17\n",
      "4\n"
     ]
    }
   ],
   "source": [
    "# import sys\n",
    "# input = sys.stdin.readline\n",
    "\n",
    "# N, L = map(int, input().split())\n",
    "# puddle = [list(map(int, input().split())) for _ in range(N)]\n",
    "# puddle.sort()\n",
    "\n",
    "# cnt = 0\n",
    "# for s, e in puddle:\n",
    "#     if ((e - s) / 3) > 1:\n",
    "#         cnt += ((e - s) // 3) + 1\n",
    "# for i in range(N-1):\n",
    "#     if abs(puddle[i][1] - puddle[i+1][0]) == 1:\n",
    "#         cnt -= 1\n",
    "# print(cnt)"
   ]
  },
  {
   "cell_type": "code",
   "execution_count": 24,
   "id": "ae74fd40",
   "metadata": {},
   "outputs": [
    {
     "name": "stdout",
     "output_type": "stream",
     "text": [
      "3 1\n",
      "1 2\n",
      "3 4\n",
      "5 6\n",
      "3\n"
     ]
    }
   ],
   "source": [
    "# import sys\n",
    "# input = sys.stdin.readline\n",
    "\n",
    "# N, L = map(int, input().split())\n",
    "# puddle = [list(map(int, input().split())) for _ in range(N)]\n",
    "# puddle.sort()\n",
    "\n",
    "# cnt = 0\n",
    "# if (abs(puddle[0][0] - puddle[N-1][1]) <= L):\n",
    "#     print(1)\n",
    "# else:\n",
    "#     for s, e in puddle:\n",
    "#         if (e - s) % L >= 1:\n",
    "#             cnt += ((e - s) // L) + 1\n",
    "#         else:\n",
    "#             cnt += (e - s) // L\n",
    "\n",
    "#     for i in range(N-1):\n",
    "#         if abs(puddle[i][1] - puddle[i+1][0]) == L-2:\n",
    "#             cnt -= 1\n",
    "#     if (abs(puddle[0][1] - puddle[N-1][0]) <= L) and (N >= L):\n",
    "#         cnt += 1\n",
    "#     print(cnt)"
   ]
  },
  {
   "cell_type": "markdown",
   "id": "b2ad306c",
   "metadata": {},
   "source": [
    "구글링 찬스 사용 -> plank 널판지 위치 기록하기 스킬 획득"
   ]
  },
  {
   "cell_type": "code",
   "execution_count": 41,
   "id": "cc1aee50",
   "metadata": {},
   "outputs": [
    {
     "name": "stdout",
     "output_type": "stream",
     "text": [
      "2 5\n",
      "1 5\n",
      "10 15\n",
      "1 1\n",
      "1 6\n",
      "2 2\n",
      "2 15\n",
      "2\n"
     ]
    }
   ],
   "source": [
    "N, L = map(int, input().split())\n",
    "puddle = [list(map(int, input().split())) for _ in range(N)]\n",
    "puddle.sort(key=lambda x: x[0]) # 웅덩이 시작 순서대로 정렬\n",
    "\n",
    "cnt = 0 # 결과값\n",
    "plank = puddle[0][0] # 널판지위치 초기화\n",
    "for s, e in puddle: # 웅덩이 시작과 끝을 넣어주고\n",
    "    if plank >= s: # 만약 널판지위치가 시작과 겹칠시\n",
    "        # 현재 끝값에서 널판지위치와 1을 빼주고 //L에 +1을 하면 널판지개수가 나옴\n",
    "        # -1을 빼주는 이유는 L과 e-plank가 같을 경우 1개의 널판지가 필요한데 뒤에 +1이 있으므로\n",
    "        # 두개가 추가되기때문에 -1을 해줘서 1개 추가로 적용되게 하기위함.\n",
    "        # +1을 해주는 이유는 L보다 e-plank가 큰값이 나올 경우 그 값보다 +1개 널판지가 더 필요하기 때문\n",
    "        cnt += ((e-plank-1) // L) + 1\n",
    "        # 현재 위치에서 널판지개수 * L을 더한 값이 널판지의 위치\n",
    "        plank += (((e-plank-1) // L) + 1) * L\n",
    "        \n",
    "    elif plank < s: # 만약 널판지위치가 시작위치와 겹치지 않을 경우\n",
    "        cnt += ((e-s-1) // L) + 1 # 널판지 위치대신 시작위치를 빼준다 나머진 위 원리와 같음\n",
    "        plank = s + (((e-s-1) // L) + 1) * L # 시작위치에 널판지위치를 더해서 널판지위치 초기화\n",
    "\n",
    "print(cnt)"
   ]
  }
 ],
 "metadata": {
  "kernelspec": {
   "display_name": "Python 3 (ipykernel)",
   "language": "python",
   "name": "python3"
  },
  "language_info": {
   "codemirror_mode": {
    "name": "ipython",
    "version": 3
   },
   "file_extension": ".py",
   "mimetype": "text/x-python",
   "name": "python",
   "nbconvert_exporter": "python",
   "pygments_lexer": "ipython3",
   "version": "3.9.7"
  }
 },
 "nbformat": 4,
 "nbformat_minor": 5
}
