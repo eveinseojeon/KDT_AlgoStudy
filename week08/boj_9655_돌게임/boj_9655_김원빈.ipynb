{
 "cells": [
  {
   "cell_type": "code",
   "execution_count": 6,
   "id": "beb51c2a",
   "metadata": {},
   "outputs": [
    {
     "name": "stdout",
     "output_type": "stream",
     "text": [
      "5\n",
      "SK\n"
     ]
    }
   ],
   "source": [
    "# 그냥 풀기\n",
    "n = int(input())\n",
    "\n",
    "if n % 2  == 0: # 짝수면 \"CY\" 승\n",
    "    print(\"CY\")\n",
    "else: # 홀수면 \"SK\" 승\n",
    "    print(\"SK\")"
   ]
  },
  {
   "cell_type": "code",
   "execution_count": null,
   "id": "7226e5c0",
   "metadata": {},
   "outputs": [],
   "source": [
    "# dp로 풀기\n",
    "n = int(input())\n",
    "\n",
    "dp = [None] * (n+1)\n",
    "dp[1] = \"SK\"\n",
    "for i in range(2, n+1):\n",
    "    if dp[i-1] == \"SK\":\n",
    "        dp[i] = \"CY\"\n",
    "    else:\n",
    "        dp[i] = \"SK\"\n",
    "        \n",
    "print(dp[n])"
   ]
  }
 ],
 "metadata": {
  "kernelspec": {
   "display_name": "Python 3 (ipykernel)",
   "language": "python",
   "name": "python3"
  },
  "language_info": {
   "codemirror_mode": {
    "name": "ipython",
    "version": 3
   },
   "file_extension": ".py",
   "mimetype": "text/x-python",
   "name": "python",
   "nbconvert_exporter": "python",
   "pygments_lexer": "ipython3",
   "version": "3.9.7"
  }
 },
 "nbformat": 4,
 "nbformat_minor": 5
}
