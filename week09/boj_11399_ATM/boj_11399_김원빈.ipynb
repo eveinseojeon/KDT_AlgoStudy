{
 "cells": [
  {
   "cell_type": "markdown",
   "id": "dc30a1c8",
   "metadata": {},
   "source": [
    "## 아이디어\n",
    "- dp\n",
    " 1. dp로 이전 값을 이용해 각 사람 마다 걸리는 시간을 구한다\n",
    " 2. sum을 이용해 사람들 총걸리는 시간합을 구한다\n",
    "- Basic\n",
    " 1. 위 원리와 같다"
   ]
  },
  {
   "cell_type": "code",
   "execution_count": 8,
   "id": "e25f4ce2",
   "metadata": {},
   "outputs": [
    {
     "name": "stdout",
     "output_type": "stream",
     "text": [
      "5\n",
      "3 1 4 3 2\n",
      "32\n"
     ]
    }
   ],
   "source": [
    "# dp로 풀기\n",
    "N = int(input())\n",
    "P = list(map(int, input().split()))\n",
    "P.sort(key = lambda x: x) # 최소값을 찾는 것이므로 가장 적은 값을 앞으로 보낸다.\n",
    "\n",
    "dp = [0] * 1001\n",
    "dp[0] = P[0]\n",
    "for i in range(1, N):\n",
    "    dp[i] = dp[i-1] + P[i]\n",
    "    \n",
    "print(sum(dp))"
   ]
  },
  {
   "cell_type": "code",
   "execution_count": 17,
   "id": "9afa12e5",
   "metadata": {},
   "outputs": [
    {
     "name": "stdout",
     "output_type": "stream",
     "text": [
      "5\n",
      "3 1 4 3 2\n",
      "1\n",
      "4\n",
      "10\n",
      "19\n",
      "32\n",
      "32\n"
     ]
    }
   ],
   "source": [
    "N = int(input())\n",
    "P = list(map(int, input().split()))\n",
    "P.sort(key = lambda x: x)\n",
    "\n",
    "temp = 0\n",
    "result = 0\n",
    "for i in P:\n",
    "    temp = temp + i # 각 사람이 걸리는 시간을\n",
    "    result += temp # 결과값에 더해준다.\n",
    "    \n",
    "print(result)"
   ]
  }
 ],
 "metadata": {
  "kernelspec": {
   "display_name": "Python 3 (ipykernel)",
   "language": "python",
   "name": "python3"
  },
  "language_info": {
   "codemirror_mode": {
    "name": "ipython",
    "version": 3
   },
   "file_extension": ".py",
   "mimetype": "text/x-python",
   "name": "python",
   "nbconvert_exporter": "python",
   "pygments_lexer": "ipython3",
   "version": "3.9.7"
  }
 },
 "nbformat": 4,
 "nbformat_minor": 5
}
