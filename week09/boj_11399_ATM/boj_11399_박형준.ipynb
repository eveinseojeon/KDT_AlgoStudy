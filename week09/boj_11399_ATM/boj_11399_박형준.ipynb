{
 "cells": [
  {
   "cell_type": "markdown",
   "id": "14369d10",
   "metadata": {},
   "source": [
    "# boj_11399_ATM"
   ]
  },
  {
   "cell_type": "code",
   "execution_count": 1,
   "id": "41519fbc",
   "metadata": {},
   "outputs": [
    {
     "name": "stdout",
     "output_type": "stream",
     "text": [
      "5\n",
      "3 1 4 3 2\n",
      "32\n"
     ]
    }
   ],
   "source": [
    "import sys\n",
    "input = sys.stdin.readline\n",
    "\n",
    "n = int(input())\n",
    "temp = list(map(int, input().split()))\n",
    "\n",
    "temp.sort()\n",
    "\n",
    "result = 0\n",
    "for i in range(n):\n",
    "    result += temp[i] * (n - i)\n",
    "\n",
    "print(result)"
   ]
  }
 ],
 "metadata": {
  "kernelspec": {
   "display_name": "Python 3 (ipykernel)",
   "language": "python",
   "name": "python3"
  },
  "language_info": {
   "codemirror_mode": {
    "name": "ipython",
    "version": 3
   },
   "file_extension": ".py",
   "mimetype": "text/x-python",
   "name": "python",
   "nbconvert_exporter": "python",
   "pygments_lexer": "ipython3",
   "version": "3.9.12"
  }
 },
 "nbformat": 4,
 "nbformat_minor": 5
}
