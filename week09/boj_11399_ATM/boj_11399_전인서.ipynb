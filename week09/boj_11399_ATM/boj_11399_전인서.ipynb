{
 "cells": [
  {
   "cell_type": "markdown",
   "id": "d17b257c",
   "metadata": {},
   "source": [
    "- 오름차순 정렬"
   ]
  },
  {
   "cell_type": "code",
   "execution_count": 11,
   "id": "2a2638fd",
   "metadata": {},
   "outputs": [
    {
     "name": "stdout",
     "output_type": "stream",
     "text": [
      "5\n",
      "3 1 4 3 2\n",
      "32\n"
     ]
    }
   ],
   "source": [
    "n = int(input())\n",
    "p_list = list(map(int, input().split()))\n",
    "p_list = sorted(p_list) # 인출 시간이 짧은 사람부터 오름차순 정렬\n",
    "\n",
    "answer = 0\n",
    "for i in range(n):\n",
    "    answer += p_list[i] * (n-i)\n",
    "\n",
    "print(answer)"
   ]
  }
 ],
 "metadata": {
  "kernelspec": {
   "display_name": "Python 3 (ipykernel)",
   "language": "python",
   "name": "python3"
  },
  "language_info": {
   "codemirror_mode": {
    "name": "ipython",
    "version": 3
   },
   "file_extension": ".py",
   "mimetype": "text/x-python",
   "name": "python",
   "nbconvert_exporter": "python",
   "pygments_lexer": "ipython3",
   "version": "3.9.7"
  }
 },
 "nbformat": 4,
 "nbformat_minor": 5
}
