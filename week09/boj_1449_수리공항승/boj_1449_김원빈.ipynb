{
 "cells": [
  {
   "cell_type": "code",
   "execution_count": 4,
   "id": "6221f554",
   "metadata": {},
   "outputs": [
    {
     "name": "stdout",
     "output_type": "stream",
     "text": [
      "3 1\n",
      "3 2 1\n",
      "3\n"
     ]
    }
   ],
   "source": [
    "import sys\n",
    "input = sys.stdin.readline\n",
    "\n",
    "N, L = map(int, input().split())\n",
    "Leaks = list(map(int, input().split()))\n",
    "Leaks.sort() # 오름차순 정렬하여 아래부터 위치초기화\n",
    "\n",
    "Ps, cnt = 0, 0 # 현재 막아진 위치, 테이프 개수\n",
    "for i in Leaks:\n",
    "    if Ps >= i: # 현재 막아진 위치가 구멍뚫린 곳보다 크거나 같으면\n",
    "        continue # 다음 구멍으로\n",
    "    else: # 현재 막아진 위치가 구멍 뚫린 곳 보다 작을 경우\n",
    "        Ps = i + (L-1) # 현재 막아진 위치를 구멍뚫린 위치에 테이프길이 -1로 초기화\n",
    "        cnt += 1 # 테이프 하나 사용\n",
    "        \n",
    "print(cnt)"
   ]
  }
 ],
 "metadata": {
  "kernelspec": {
   "display_name": "Python 3 (ipykernel)",
   "language": "python",
   "name": "python3"
  },
  "language_info": {
   "codemirror_mode": {
    "name": "ipython",
    "version": 3
   },
   "file_extension": ".py",
   "mimetype": "text/x-python",
   "name": "python",
   "nbconvert_exporter": "python",
   "pygments_lexer": "ipython3",
   "version": "3.9.7"
  }
 },
 "nbformat": 4,
 "nbformat_minor": 5
}
