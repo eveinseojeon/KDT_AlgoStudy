{
 "cells": [
  {
   "cell_type": "markdown",
   "id": "763b1f48",
   "metadata": {},
   "source": [
    "# boj_1449_수리공 항승"
   ]
  },
  {
   "cell_type": "code",
   "execution_count": null,
   "id": "64b0fd54",
   "metadata": {},
   "outputs": [],
   "source": [
    "import sys\n",
    "input = sys.stdin.readline\n",
    "\n",
    "n, l = map(int, input().split())\n",
    "water = list(map(int, input().split()))\n",
    "water.sort()\n",
    "\n",
    "# 누수범위 리스트 \n",
    "leaks = []\n",
    "for i in water:\n",
    "    x = i - 0.5\n",
    "    y = i + 0.5\n",
    "    leaks.append((x, y))\n",
    "\n",
    "# 테이프 위치\n",
    "tape = leaks[0][0]\n",
    "to_cnt = 0\n",
    "for start, end in leaks:\n",
    "\n",
    "    if tape > end: # 테이프 위치가 누수 끝보다 클 때\n",
    "        continue\n",
    "        \n",
    "    elif tape <= start: # 테이프 위치가 누수 시작보다 작거나 같을 때\n",
    "        tape = start\n",
    "    \n",
    "    # 테이프 필요한 길이는 누수 끝에서 테이프 위치 뺀 길이\n",
    "    dist = end - tape\n",
    "    \n",
    "    # 필요 길이가 테이프 길이로 나눠지지 않을 때만 테이프 하나 더 필요\n",
    "    remainder = 1\n",
    "    if dist % l == 0:\n",
    "        remainder = 0\n",
    "    cnt = dist // l + remainder\n",
    "    \n",
    "    tape += cnt * l\n",
    "    to_cnt += cnt\n",
    "    \n",
    "print(int(to_cnt))"
   ]
  }
 ],
 "metadata": {
  "kernelspec": {
   "display_name": "Python 3 (ipykernel)",
   "language": "python",
   "name": "python3"
  },
  "language_info": {
   "codemirror_mode": {
    "name": "ipython",
    "version": 3
   },
   "file_extension": ".py",
   "mimetype": "text/x-python",
   "name": "python",
   "nbconvert_exporter": "python",
   "pygments_lexer": "ipython3",
   "version": "3.9.12"
  }
 },
 "nbformat": 4,
 "nbformat_minor": 5
}
