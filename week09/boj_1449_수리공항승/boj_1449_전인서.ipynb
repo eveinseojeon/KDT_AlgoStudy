{
 "cells": [
  {
   "cell_type": "markdown",
   "id": "323fbc59",
   "metadata": {},
   "source": [
    "- 테이프의 길이가 L이면 연속되는 L개 지점을 한 번에 막을 수 있음."
   ]
  },
  {
   "cell_type": "code",
   "execution_count": 8,
   "id": "e8840381",
   "metadata": {},
   "outputs": [
    {
     "name": "stdout",
     "output_type": "stream",
     "text": [
      "3 1\n",
      "3 2 1\n",
      "3\n"
     ]
    }
   ],
   "source": [
    "n, l = map(int, input().split())\n",
    "water = list(map(int, input().split())) # 물 새는 곳\n",
    "water = sorted(water)\n",
    "\n",
    "taped = [] # 테이프를 붙여서 막은 곳\n",
    "answer = 0 # 테이프 개수\n",
    "\n",
    "for i in range(n): # 물 새는 곳 n개를 모두 확인\n",
    "    if water[i] not in taped: # 물 새는 곳이 테이프로 막혀있지 않으면\n",
    "        answer += 1 # 테이프 하나 사용\n",
    "        for j in range(l): # 해당 물 새는 곳을 포함하여 오른쪽 방향으로 L개 지점이 테이프 하나로 막힘\n",
    "            taped.append(water[i] + j) # 막히는 곳 L개를 모두 taped에 기록\n",
    "\n",
    "print(answer)"
   ]
  }
 ],
 "metadata": {
  "kernelspec": {
   "display_name": "Python 3 (ipykernel)",
   "language": "python",
   "name": "python3"
  },
  "language_info": {
   "codemirror_mode": {
    "name": "ipython",
    "version": 3
   },
   "file_extension": ".py",
   "mimetype": "text/x-python",
   "name": "python",
   "nbconvert_exporter": "python",
   "pygments_lexer": "ipython3",
   "version": "3.9.7"
  }
 },
 "nbformat": 4,
 "nbformat_minor": 5
}
