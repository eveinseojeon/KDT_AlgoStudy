{
 "cells": [
  {
   "cell_type": "markdown",
   "id": "e8f93f13",
   "metadata": {},
   "source": [
    "# boj_1926_그림"
   ]
  },
  {
   "cell_type": "code",
   "execution_count": null,
   "id": "62422431",
   "metadata": {},
   "outputs": [],
   "source": [
    "# 구글링\n",
    "import sys\n",
    "from collections import deque\n",
    "input = sys.stdin.readline\n",
    "\n",
    "n, m = map(int, input().split())\n",
    "paper = [list(map(int, input().split())) for _ in range(n)]\n",
    "visited = [[0 for _ in range(m)] for _ in range(n)]\n",
    "\n",
    "dx = [-1, 1, 0, 0]\n",
    "dy = [0, 0, -1, 1]\n",
    "\n",
    "def bfs(x, y):\n",
    "    each_cnt = 1\n",
    "    queue = deque()\n",
    "    queue.append((x, y))\n",
    "    visited[x][y] = True\n",
    "    \n",
    "    while queue:\n",
    "        x, y = queue.popleft()\n",
    "        \n",
    "        for i in range(4):\n",
    "            xx = x + dx[i]\n",
    "            yy = y + dy[i]\n",
    "            \n",
    "            if 0 <= xx < n and 0 <= yy < m:\n",
    "                if paper[xx][yy] == 1 and not visited[xx][yy]:\n",
    "                    visited[xx][yy] = True\n",
    "                    queue.append((xx, yy))\n",
    "                    each_cnt += 1\n",
    "    return each_cnt\n",
    "\n",
    "paint = []\n",
    "for i in range(n):\n",
    "    for j in range(m):\n",
    "        if paper[i][j] == 1 and not visited[i][j]:\n",
    "            paint.append(bfs(i, j))\n",
    "\n",
    "if len(paint) == 0:\n",
    "    print(len(paint))\n",
    "    print(0)\n",
    "\n",
    "else:\n",
    "    print(len(paint))\n",
    "    print(max(paint))"
   ]
  }
 ],
 "metadata": {
  "kernelspec": {
   "display_name": "Python 3 (ipykernel)",
   "language": "python",
   "name": "python3"
  },
  "language_info": {
   "codemirror_mode": {
    "name": "ipython",
    "version": 3
   },
   "file_extension": ".py",
   "mimetype": "text/x-python",
   "name": "python",
   "nbconvert_exporter": "python",
   "pygments_lexer": "ipython3",
   "version": "3.9.12"
  }
 },
 "nbformat": 4,
 "nbformat_minor": 5
}
