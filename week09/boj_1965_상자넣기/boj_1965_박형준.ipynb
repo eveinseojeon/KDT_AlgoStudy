{
 "cells": [
  {
   "cell_type": "markdown",
   "id": "045dd2d1",
   "metadata": {},
   "source": [
    "# boj_1965_상자넣기"
   ]
  },
  {
   "cell_type": "code",
   "execution_count": null,
   "id": "9a468e5a",
   "metadata": {},
   "outputs": [],
   "source": [
    "# 틀림\n",
    "# import sys\n",
    "# input = sys.stdin.readline\n",
    "\n",
    "n = int(input())\n",
    "box = list(map(int, input().split()))\n",
    "\n",
    "dp = [0] * 1001\n",
    "\n",
    "boxcopy = box.copy()\n",
    "\n",
    "for i in range(n):\n",
    "    if i < n - 1:\n",
    "        if box[i] > box[i + 1]:\n",
    "            boxcopy.remove(box[i])\n",
    "\n",
    "result = set(boxcopy)\n",
    "print(len(result))"
   ]
  },
  {
   "cell_type": "code",
   "execution_count": null,
   "id": "a0a5ea83",
   "metadata": {},
   "outputs": [],
   "source": [
    "# 구글링\n",
    "import sys\n",
    "input = sys.stdin.readline\n",
    "\n",
    "n = int(input())\n",
    "box = list(map(int, input().split()))\n",
    "dp = [1] * n\n",
    "\n",
    "for i in range(1, n):\n",
    "    for j in range(i):\n",
    "        if box[i] > box[j]:\n",
    "            dp[i] = max(dp[j] + 1, dp[i])\n",
    "            \n",
    "print(max(dp))"
   ]
  }
 ],
 "metadata": {
  "kernelspec": {
   "display_name": "Python 3 (ipykernel)",
   "language": "python",
   "name": "python3"
  },
  "language_info": {
   "codemirror_mode": {
    "name": "ipython",
    "version": 3
   },
   "file_extension": ".py",
   "mimetype": "text/x-python",
   "name": "python",
   "nbconvert_exporter": "python",
   "pygments_lexer": "ipython3",
   "version": "3.9.12"
  }
 },
 "nbformat": 4,
 "nbformat_minor": 5
}
