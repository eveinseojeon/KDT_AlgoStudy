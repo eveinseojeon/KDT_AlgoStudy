{
 "cells": [
  {
   "cell_type": "markdown",
   "id": "433f6dce",
   "metadata": {},
   "source": [
    "- 가장 긴 감소하는 부분 수열(11722) 문제랑 동일한 듯"
   ]
  },
  {
   "cell_type": "code",
   "execution_count": 36,
   "id": "06bf8f16",
   "metadata": {
    "scrolled": true
   },
   "outputs": [
    {
     "name": "stdout",
     "output_type": "stream",
     "text": [
      "8\n",
      "1 6 2 5 7 3 5 6\n",
      "5\n"
     ]
    }
   ],
   "source": [
    "n = int(input())\n",
    "boxes = list(map(int, input().split()))\n",
    "\n",
    "d = [1 for _ in range(n)]\n",
    "\n",
    "for i in range(1, n):\n",
    "    for j in range(i):\n",
    "        if boxes[j] < boxes[i]:\n",
    "            d[i] = max(d[j] + 1, d[i])\n",
    "\n",
    "print(max(d))"
   ]
  }
 ],
 "metadata": {
  "kernelspec": {
   "display_name": "Python 3 (ipykernel)",
   "language": "python",
   "name": "python3"
  },
  "language_info": {
   "codemirror_mode": {
    "name": "ipython",
    "version": 3
   },
   "file_extension": ".py",
   "mimetype": "text/x-python",
   "name": "python",
   "nbconvert_exporter": "python",
   "pygments_lexer": "ipython3",
   "version": "3.9.7"
  }
 },
 "nbformat": 4,
 "nbformat_minor": 5
}
