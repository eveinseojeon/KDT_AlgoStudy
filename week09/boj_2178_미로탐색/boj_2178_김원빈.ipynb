{
 "cells": [
  {
   "cell_type": "markdown",
   "id": "caac99ab",
   "metadata": {},
   "source": [
    "## 아이디어\n",
    "- 그냥 bfs로 matrix 0,0자리부터 1일 경우 전값의 +1씩해가면서 만들어주고 목표위치 값 리턴"
   ]
  },
  {
   "cell_type": "code",
   "execution_count": 47,
   "id": "b384a02a",
   "metadata": {
    "scrolled": true
   },
   "outputs": [
    {
     "name": "stdout",
     "output_type": "stream",
     "text": [
      "4 6\n",
      "101111\n",
      "101010\n",
      "101011\n",
      "111011\n",
      "15\n"
     ]
    }
   ],
   "source": [
    "import sys\n",
    "from collections import deque\n",
    "\n",
    "N, M = map(int, input().split())\n",
    "matrix=[]\n",
    "for i in range(N):\n",
    "    matrix.append(list(input()))\n",
    "    \n",
    "\n",
    "dx = [0, 0, -1, 1]\n",
    "dy = [-1, 1, 0, 0]\n",
    "q = deque()\n",
    "def bfs(x, y):\n",
    "    q.append((x, y))\n",
    "    while q:\n",
    "        x, y = q.popleft()\n",
    "        for i in range(4):\n",
    "            nx = x + dx[i]\n",
    "            ny = y + dy[i]\n",
    "            if (0 <= nx < N) and (0<= ny < len(matrix[0])):\n",
    "                if int(matrix[nx][ny]) == 1:                \n",
    "                    matrix[nx][ny] = int(matrix[x][y]) + 1\n",
    "                    q.append((nx, ny))                    \n",
    "\n",
    "bfs(0, 0)                \n",
    "print(matrix[N-1][M-1])"
   ]
  }
 ],
 "metadata": {
  "kernelspec": {
   "display_name": "Python 3 (ipykernel)",
   "language": "python",
   "name": "python3"
  },
  "language_info": {
   "codemirror_mode": {
    "name": "ipython",
    "version": 3
   },
   "file_extension": ".py",
   "mimetype": "text/x-python",
   "name": "python",
   "nbconvert_exporter": "python",
   "pygments_lexer": "ipython3",
   "version": "3.9.7"
  }
 },
 "nbformat": 4,
 "nbformat_minor": 5
}
