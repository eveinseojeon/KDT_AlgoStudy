{
 "cells": [
  {
   "cell_type": "markdown",
   "id": "32e88e76",
   "metadata": {},
   "source": [
    "# boj_2178_미로탐색"
   ]
  },
  {
   "cell_type": "markdown",
   "id": "55d0ad06",
   "metadata": {},
   "source": [
    "- sys.stdin.readline value error\n",
    "- 미로 입력값에서 줄 바뀔때마다 줄 끝에 공백 한 칸 존재함\n",
    "- strip() 써주니까 해결됨"
   ]
  },
  {
   "cell_type": "code",
   "execution_count": null,
   "id": "7a8d4a02",
   "metadata": {
    "scrolled": true
   },
   "outputs": [],
   "source": [
    "from collections import deque\n",
    "import sys\n",
    "input = sys.stdin.readline\n",
    "\n",
    "n, m = map(int, input().split())\n",
    "maze = [[] for _ in range(n)]\n",
    "for i in range(n):\n",
    "    maze[i] = list(map(int, input().strip()))\n",
    "\n",
    "visited = [[0] * m for _ in range(n)]\n",
    "cnt = [[0] * m for _ in range(n)]\n",
    "\n",
    "dx = [0, 0, -1, 1]\n",
    "dy = [1, -1, 0, 0]\n",
    "\n",
    "def bfs(x, y):\n",
    "    queue = deque()\n",
    "    queue.append((x, y))\n",
    "    visited[x][y] = True\n",
    "    cnt[x][y] += 1\n",
    "    while queue:\n",
    "        x, y = queue.popleft()\n",
    "        \n",
    "        for i in range(4):\n",
    "            xx = x + dx[i]\n",
    "            yy = y + dy[i]\n",
    "            \n",
    "            if 0 <= xx < n and 0 <= yy < m:\n",
    "                if visited[xx][yy] != True and maze[xx][yy] == 1:\n",
    "                    cnt[xx][yy] = cnt[x][y] + 1\n",
    "                    visited[xx][yy] = True\n",
    "                    queue.append((xx, yy))\n",
    "bfs(0, 0)\n",
    "\n",
    "print(cnt[n-1][m-1])"
   ]
  }
 ],
 "metadata": {
  "kernelspec": {
   "display_name": "Python 3 (ipykernel)",
   "language": "python",
   "name": "python3"
  },
  "language_info": {
   "codemirror_mode": {
    "name": "ipython",
    "version": 3
   },
   "file_extension": ".py",
   "mimetype": "text/x-python",
   "name": "python",
   "nbconvert_exporter": "python",
   "pygments_lexer": "ipython3",
   "version": "3.9.12"
  }
 },
 "nbformat": 4,
 "nbformat_minor": 5
}
