{
 "cells": [
  {
   "cell_type": "markdown",
   "id": "f64e52af",
   "metadata": {},
   "source": [
    "## 아이디어\n",
    "- 규칙을 찾기: 2 7 9 14 16 21로 2를 기준으로 +5 +2 순서로 CY가 승리하고 그외에는 SK가 승리한다."
   ]
  },
  {
   "cell_type": "code",
   "execution_count": 28,
   "id": "00fd17b5",
   "metadata": {},
   "outputs": [
    {
     "name": "stdout",
     "output_type": "stream",
     "text": [
      "10\n",
      "SK\n"
     ]
    }
   ],
   "source": [
    "N = int(input())\n",
    "\n",
    "CY_win = [0] * 285\n",
    "CY_win[0] = 2\n",
    "for i in range(0, 284, 2): # i번째로 i+1번째와 i+2번째 2칸 뒷값을 만들어준다. 그러므로 범위도 2씩 증가                            \n",
    "    CY_win[i+1] = CY_win[i] + 5\n",
    "    CY_win[i+2] = CY_win[i+1] + 2\n",
    "\n",
    "if N in CY_win:\n",
    "    print(\"CY\")\n",
    "else:\n",
    "    print(\"SK\")"
   ]
  }
 ],
 "metadata": {
  "kernelspec": {
   "display_name": "Python 3 (ipykernel)",
   "language": "python",
   "name": "python3"
  },
  "language_info": {
   "codemirror_mode": {
    "name": "ipython",
    "version": 3
   },
   "file_extension": ".py",
   "mimetype": "text/x-python",
   "name": "python",
   "nbconvert_exporter": "python",
   "pygments_lexer": "ipython3",
   "version": "3.9.7"
  }
 },
 "nbformat": 4,
 "nbformat_minor": 5
}
