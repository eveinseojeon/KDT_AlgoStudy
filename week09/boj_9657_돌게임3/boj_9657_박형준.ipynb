{
 "cells": [
  {
   "cell_type": "markdown",
   "id": "cbf86c7c",
   "metadata": {},
   "source": [
    "# boj_9657_돌게임3"
   ]
  },
  {
   "cell_type": "code",
   "execution_count": null,
   "id": "7b9d7c79",
   "metadata": {},
   "outputs": [],
   "source": [
    "# import sys\n",
    "# input = sys.stdin.readline\n",
    "\n",
    "n = int(input())\n",
    "\n",
    "dp = [0] * 1001\n",
    "\n",
    "dp[1] = 1\n",
    "dp[2] = 0\n",
    "dp[3] = 1\n",
    "dp[4] = 1\n",
    "dp[5] = 1\n",
    "dp[6] = 1\n",
    "dp[7] = 0\n",
    "dp[8] = 1\n",
    "\n",
    "for i in range(9, n + 1):\n",
    "    if (dp[i - 8] == 0 or dp[i - 7] == 0 or dp[i - 5] == 0) \\\n",
    "        and (dp[i - 7] == 0 or dp[i - 6] == 0 or dp[i - 4] == 0) \\\n",
    "        and (dp[i - 5] == 0 or dp[i - 4] == 0 or dp[i - 2] == 0):\n",
    "        dp[i] = 0\n",
    "    else:\n",
    "        dp[i] = 1\n",
    "\n",
    "if dp[n] == 1:\n",
    "    print('SK')\n",
    "else:\n",
    "    print(\"CY\")\n",
    "\n",
    "# 1 sk\n",
    "# 2 cy\n",
    "# 3 sk\n",
    "# 4 sk\n",
    "# 5 sk\n",
    "# 6 sk\n",
    "# 7 cy\n",
    "# 8 sk\n",
    "# 9 sk\n",
    "# 10 sk\n",
    "# 11 sk\n",
    "# 12 sk"
   ]
  }
 ],
 "metadata": {
  "kernelspec": {
   "display_name": "Python 3 (ipykernel)",
   "language": "python",
   "name": "python3"
  },
  "language_info": {
   "codemirror_mode": {
    "name": "ipython",
    "version": 3
   },
   "file_extension": ".py",
   "mimetype": "text/x-python",
   "name": "python",
   "nbconvert_exporter": "python",
   "pygments_lexer": "ipython3",
   "version": "3.9.12"
  }
 },
 "nbformat": 4,
 "nbformat_minor": 5
}
