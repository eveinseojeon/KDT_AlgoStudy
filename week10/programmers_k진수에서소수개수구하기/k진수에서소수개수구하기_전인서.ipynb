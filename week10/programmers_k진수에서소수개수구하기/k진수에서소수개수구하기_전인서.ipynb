{
 "cells": [
  {
   "cell_type": "markdown",
   "id": "fe2281c8",
   "metadata": {},
   "source": [
    "- k진수 변환, 소수 판별 함수는 구글링의 도움"
   ]
  },
  {
   "cell_type": "code",
   "execution_count": 60,
   "id": "e8840381",
   "metadata": {},
   "outputs": [
    {
     "name": "stdout",
     "output_type": "stream",
     "text": [
      "2\n"
     ]
    }
   ],
   "source": [
    "# 10진수 n을 k진수로 변환하여 문자열 반환하는 함수\n",
    "def trans(n, k):\n",
    "    n_trans = ''\n",
    "    while n > 0:\n",
    "        n, rem = divmod(n, k)\n",
    "        n_trans += str(rem)\n",
    "    return(n_trans[::-1])\n",
    "\n",
    "# n이 소수인지 판별하는 함수\n",
    "import math\n",
    "def is_prime(n):\n",
    "    if n < 2:\n",
    "        return False\n",
    "    for i in range(2, int(math.sqrt(n))+1):\n",
    "        if n%i == 0:\n",
    "            return False\n",
    "    return True\n",
    "\n",
    "def solution(n, k):\n",
    "    answer = 0\n",
    "    \n",
    "    n_trans = trans(n, k)\n",
    "    \n",
    "    candidate_list = n_trans.split('0')\n",
    "    for num in candidate_list:\n",
    "        if num: # 빈 원소 '' 걸러내기 위한 조건문\n",
    "            if is_prime(int(num)):\n",
    "                answer += 1\n",
    "\n",
    "    return answer\n",
    "\n",
    "\n",
    "n = 110011\n",
    "k = 10\n",
    "\n",
    "print(solution(n, k))"
   ]
  }
 ],
 "metadata": {
  "kernelspec": {
   "display_name": "Python 3 (ipykernel)",
   "language": "python",
   "name": "python3"
  },
  "language_info": {
   "codemirror_mode": {
    "name": "ipython",
    "version": 3
   },
   "file_extension": ".py",
   "mimetype": "text/x-python",
   "name": "python",
   "nbconvert_exporter": "python",
   "pygments_lexer": "ipython3",
   "version": "3.9.7"
  }
 },
 "nbformat": 4,
 "nbformat_minor": 5
}
