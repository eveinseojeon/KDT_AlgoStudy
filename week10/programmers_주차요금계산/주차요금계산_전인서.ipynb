{
 "cells": [
  {
   "cell_type": "code",
   "execution_count": 46,
   "id": "c71af797",
   "metadata": {
    "scrolled": true
   },
   "outputs": [
    {
     "name": "stdout",
     "output_type": "stream",
     "text": [
      "[14600, 34400, 5000]\n"
     ]
    }
   ],
   "source": [
    "# 시간 문자열을 받아 숫자로 변환하는 함수. '05:34' -> 334\n",
    "def time_to_num(x):\n",
    "    hours, minutes = map(int, x.split(':'))\n",
    "    result = hours * 60 + minutes\n",
    "    return result\n",
    "\n",
    "# 입/출차 시간 내역 리스트를 받아서 누적 주차 시간(분)을 반환하는 함수\n",
    "def accumulated_time(x):\n",
    "    if len(x)%2 == 1: # 마지막 출차 내역이 없다면\n",
    "        x.append('23:59') # 23:59에 출차된 것으로 간주\n",
    "    x = x[::-1] # 거꾸로 정렬\n",
    "    result = 0\n",
    "    for i in range(len(x)):\n",
    "        if i%2 == 0: # 입차, 출차 둘씩 짝지어 그 시간차를 누적\n",
    "            result += time_to_num(x[i]) - time_to_num(x[i+1])\n",
    "    return result\n",
    "\n",
    "# 요금표와 누적 주차 시간(분)을 받아 주차 요금(원)을 반환하는 함수\n",
    "import math\n",
    "def calculate_fees(fees, minutes):\n",
    "    if minutes <= fees[0]: # 누적 주차 시간이 기본 시간 이하라면\n",
    "        result = fees[1] # 기본 요금을 청구\n",
    "    else:\n",
    "        result = fees[1] + (math.ceil((minutes - fees[0])/fees[2]) * fees[3])\n",
    "    return result\n",
    "\n",
    "def solution(fees, records):\n",
    "    \n",
    "    # records의 원소 문자열을 띄어쓰기 기준으로 끊어서 리스트화\n",
    "    records_list = []\n",
    "    for i in range(len(records)):\n",
    "        records_list.append(records[i].split())\n",
    "\n",
    "    # 차량번호 리스트\n",
    "    cars = []\n",
    "    for i in range(len(records_list)):\n",
    "        cars.append(records_list[i][1])\n",
    "    cars = sorted(list(set(cars)))\n",
    "\n",
    "    # 차량번호:[] 딕셔너리\n",
    "    dic = {}\n",
    "    for car in cars:\n",
    "        dic[car] = []\n",
    "        \n",
    "    # 자동차별 입/출차 시간 내역\n",
    "    cars_time = dic.copy()\n",
    "    for i in records_list:\n",
    "        cars_time[i[1]].append(i[0])\n",
    "\n",
    "    # 자동차별 누적 주차 시간(분)\n",
    "    accumulated = dic.copy()\n",
    "    for car in cars_time:\n",
    "        accumulated[car] = accumulated_time(cars_time[car])\n",
    "\n",
    "    # 자동차별 주차 요금(원)\n",
    "    cars_fees = dic.copy()\n",
    "    for car in accumulated:\n",
    "        cars_fees[car] = calculate_fees(fees, accumulated[car])\n",
    "\n",
    "    answer = []\n",
    "    for car in cars_fees:\n",
    "        answer.append(cars_fees[car])\n",
    "    \n",
    "    return answer\n",
    "\n",
    "\n",
    "fees = [180, 5000, 10, 600]\n",
    "records = [\"05:34 5961 IN\", \"06:00 0000 IN\", \"06:34 0000 OUT\",\n",
    "           \"07:59 5961 OUT\", \"07:59 0148 IN\", \"18:59 0000 IN\",\n",
    "           \"19:09 0148 OUT\", \"22:59 5961 IN\", \"23:00 5961 OUT\"]\n",
    "\n",
    "print(solution(fees, records))"
   ]
  }
 ],
 "metadata": {
  "kernelspec": {
   "display_name": "Python 3 (ipykernel)",
   "language": "python",
   "name": "python3"
  },
  "language_info": {
   "codemirror_mode": {
    "name": "ipython",
    "version": 3
   },
   "file_extension": ".py",
   "mimetype": "text/x-python",
   "name": "python",
   "nbconvert_exporter": "python",
   "pygments_lexer": "ipython3",
   "version": "3.9.7"
  }
 },
 "nbformat": 4,
 "nbformat_minor": 5
}
