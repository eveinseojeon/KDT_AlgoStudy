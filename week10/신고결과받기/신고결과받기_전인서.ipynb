{
 "cells": [
  {
   "cell_type": "code",
   "execution_count": 15,
   "id": "edcb639d",
   "metadata": {},
   "outputs": [
    {
     "name": "stdout",
     "output_type": "stream",
     "text": [
      "[2, 1, 1, 0]\n"
     ]
    }
   ],
   "source": [
    "def solution(id_list, report, k):\n",
    "    \n",
    "    # 동일한 유저에 대한 신고를 1회로 처리\n",
    "    report = list(set(report))\n",
    "\n",
    "    # 문자열 배열 report를 리스트화\n",
    "    report_list = []\n",
    "    for i in range(len(report)):\n",
    "        report_list.append(list(report[i].split()))\n",
    "    \n",
    "    # 기본 딕셔너리 생성\n",
    "    dic = {}\n",
    "    for user in id_list:\n",
    "        dic[user] = 0\n",
    "    \n",
    "    # 유저별 신고당한 횟수\n",
    "    reported_times = dic.copy()\n",
    "    for a, b in report_list:\n",
    "        reported_times[b] += 1\n",
    "\n",
    "    # 정지당한 유저 목록\n",
    "    suspended = []\n",
    "    for user in reported_times:\n",
    "        if reported_times[user] >= k:\n",
    "            suspended.append(user)\n",
    "    \n",
    "    # 메일받을 횟수\n",
    "    mailed_times = dic.copy()\n",
    "    for a, b in report_list:\n",
    "        if b in suspended:\n",
    "            mailed_times[a] += 1\n",
    " \n",
    "    answer = []\n",
    "    for user in mailed_times:\n",
    "        answer.append(mailed_times[user]) \n",
    "\n",
    "    return answer\n",
    "\n",
    "\n",
    "id_list = [\"muzi\", \"frodo\", \"apeach\", \"neo\"]\n",
    "report = [\"muzi frodo\", \"apeach frodo\", \"frodo neo\", \"muzi neo\", \"apeach muzi\"]\n",
    "k = 2\n",
    "\n",
    "print(solution(id_list, report, k))"
   ]
  }
 ],
 "metadata": {
  "kernelspec": {
   "display_name": "Python 3 (ipykernel)",
   "language": "python",
   "name": "python3"
  },
  "language_info": {
   "codemirror_mode": {
    "name": "ipython",
    "version": 3
   },
   "file_extension": ".py",
   "mimetype": "text/x-python",
   "name": "python",
   "nbconvert_exporter": "python",
   "pygments_lexer": "ipython3",
   "version": "3.9.7"
  }
 },
 "nbformat": 4,
 "nbformat_minor": 5
}
