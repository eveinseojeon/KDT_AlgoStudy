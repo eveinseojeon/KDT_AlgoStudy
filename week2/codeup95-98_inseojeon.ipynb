{
 "cells": [
  {
   "cell_type": "markdown",
   "id": "58a4cafa",
   "metadata": {},
   "source": [
    "# 95. 바둑판에 흰 돌 놓기\n",
    "### List Comprehensions\n",
    "* i행 j열 matrix(2차원 리스트) 만들기</br>\n",
    "[[0 for _ in range(j)] for _ in range(i)]"
   ]
  },
  {
   "cell_type": "code",
   "execution_count": null,
   "id": "14c50e05",
   "metadata": {},
   "outputs": [],
   "source": [
    "n = int(input())\n",
    "board = [[0 for _ in range(19)] for _ in range(19)]\n",
    "\n",
    "for _ in range(n):\n",
    "    a, b = map(int, input().split())\n",
    "    board[a-1][b-1] = 1\n",
    "\n",
    "# 보드 모양대로 출력\n",
    "for i in board:\n",
    "    for j in i:\n",
    "        print(j, end=' ')\n",
    "    print('')"
   ]
  },
  {
   "cell_type": "markdown",
   "id": "53ee9a4c",
   "metadata": {},
   "source": [
    "# 96. 바둑알 십자 뒤집기"
   ]
  },
  {
   "cell_type": "code",
   "execution_count": null,
   "id": "d8c29f2e",
   "metadata": {},
   "outputs": [],
   "source": [
    "board = []\n",
    "for _ in range(19):\n",
    "    board.append(list(map(int, input().split())))\n",
    "\n",
    "n = int(input())\n",
    "for _ in range(n):\n",
    "    x, y = map(int, input().split())\n",
    "    x = x-1\n",
    "    y = y-1\n",
    "    \n",
    "    # x행 뒤집기\n",
    "    for i in range(19):\n",
    "        if board[x][i]==1:\n",
    "            board[x][i]=0\n",
    "        else:\n",
    "            board[x][i]=1\n",
    "    \n",
    "    # y열 뒤집기\n",
    "    for j in range(19):\n",
    "        if board[j][y]==1:\n",
    "            board[j][y]=0\n",
    "        else:\n",
    "            board[j][y]=1\n",
    "\n",
    "# 보드 모양대로 출력\n",
    "for k in board:\n",
    "    for l in k:\n",
    "        print(l, end=' ')\n",
    "    print('')"
   ]
  },
  {
   "cell_type": "markdown",
   "id": "b36e19af",
   "metadata": {},
   "source": [
    "# 97. 설탕과자 뽑기"
   ]
  },
  {
   "cell_type": "code",
   "execution_count": null,
   "id": "0d200567",
   "metadata": {},
   "outputs": [],
   "source": [
    "h, w = map(int, input().split())\n",
    "board = [[0 for _ in range(w)] for _ in range(h)]\n",
    "n = int(input())\n",
    "\n",
    "for _ in range(n):\n",
    "    l, d, x, y = map(int, input().split())\n",
    "    x = x-1\n",
    "    y = y-1\n",
    "    \n",
    "    if d==0: # 막대를 가로로 놓을 때\n",
    "        for i in range(l):\n",
    "            board[x][y+i] = 1\n",
    "    \n",
    "    else: # 막대를 세로로 놓을 때\n",
    "        for j in range(l):\n",
    "            board[x+j][y] = 1\n",
    "\n",
    "# 보드 모양대로 출력\n",
    "for k in board:\n",
    "    for m in k:\n",
    "        print(m, end=' ')\n",
    "    print('')"
   ]
  },
  {
   "cell_type": "markdown",
   "id": "5c8ff1ea",
   "metadata": {},
   "source": [
    "# 98. 성실한 개미"
   ]
  },
  {
   "cell_type": "code",
   "execution_count": null,
   "id": "ab957fde",
   "metadata": {},
   "outputs": [],
   "source": [
    "board = []\n",
    "for _ in range(10):\n",
    "    board.append(list(map(int, input().split())))\n",
    "\n",
    "# x, y는 개미가 위치한 좌표이며, 리스트 인덱스로 봤을 때 항상 (1,1)에서 시작한다\n",
    "x = 1\n",
    "y = 1\n",
    "board[x][y] = 9\n",
    "\n",
    "while 1:\n",
    "    if board[x][y+1]!=1: # 오른쪽이 1(벽)이 아니면 오른쪽으로 한 칸 이동\n",
    "        y += 1\n",
    "    else: # 오른쪽이 1(벽)이면 \n",
    "        if board[x+1][y]!=1: # 아래쪽이 1(벽)이 아니면 아래쪽으로 한 칸 이동\n",
    "            x += 1\n",
    "    \n",
    "    # 움직인 다음에\n",
    "    if (board[x][y]==2) or (x==8 and y==8): # 현재 위치에서 먹이를 찾았거나 현재 위치가 맨 아래의 가장 오른쪽이면 탈출\n",
    "        board[x][y] = 9\n",
    "        break\n",
    "    else: # 먹이도 못 찾았고 아직 맨 아래의 가장 오른쪽까지 도달하지 못했으면 다시 이동을 반복\n",
    "        board[x][y] = 9\n",
    "\n",
    "# 보드 모양대로 출력\n",
    "for i in board:\n",
    "    for j in i:\n",
    "        print(j, end=' ')\n",
    "    print('')"
   ]
  }
 ],
 "metadata": {
  "kernelspec": {
   "display_name": "Python 3 (ipykernel)",
   "language": "python",
   "name": "python3"
  },
  "language_info": {
   "codemirror_mode": {
    "name": "ipython",
    "version": 3
   },
   "file_extension": ".py",
   "mimetype": "text/x-python",
   "name": "python",
   "nbconvert_exporter": "python",
   "pygments_lexer": "ipython3",
   "version": "3.9.7"
  }
 },
 "nbformat": 4,
 "nbformat_minor": 5
}
