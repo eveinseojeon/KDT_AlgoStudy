{
 "cells": [
  {
   "cell_type": "code",
   "execution_count": 1,
   "id": "e27ebdb8",
   "metadata": {},
   "outputs": [
    {
     "name": "stdout",
     "output_type": "stream",
     "text": [
      "3 7 9\n",
      "63\n"
     ]
    }
   ],
   "source": [
    "# 91: 함께 문제 푸는 날\n",
    "a, b, c = map(int, input().split())\n",
    "d = 1\n",
    "while d%a!=0 or d%b!=0 or d%c!=0 :\n",
    "    d += 1\n",
    "print(d)"
   ]
  },
  {
   "cell_type": "code",
   "execution_count": 13,
   "id": "6d2d8d76",
   "metadata": {},
   "outputs": [
    {
     "name": "stdout",
     "output_type": "stream",
     "text": [
      "10\n",
      "1 3 2 2 5 6 7 4 5 9\n",
      "1 2 1 1 2 1 1 0 1 0 0 0 0 0 0 0 0 0 0 0 0 0 0 "
     ]
    }
   ],
   "source": [
    "# 92: 이상한 출석 번호 부르기1\n",
    "a = int(input())\n",
    "b = list(map(int, input().split()))\n",
    "c = {}\n",
    "for i in range(1, 24):\n",
    "    c[i] = 0\n",
    "\n",
    "for i in b:\n",
    "    c[i] += 1\n",
    "\n",
    "for i in c.values():\n",
    "    print(i, end=' ')\n"
   ]
  },
  {
   "cell_type": "code",
   "execution_count": 40,
   "id": "fd5e8172",
   "metadata": {},
   "outputs": [
    {
     "name": "stdout",
     "output_type": "stream",
     "text": [
      "10\n",
      "10 4 2 3 6 6 7 9 8 5\n",
      "5 8 9 7 6 6 3 2 4 10 "
     ]
    }
   ],
   "source": [
    "# 93: 이상한 출석 번호 부르기2\n",
    "a = int(input())\n",
    "b = list(map(int, input().split()))\n",
    "b.reverse()\n",
    "for i in b:\n",
    "    print(i, end=' ')    "
   ]
  },
  {
   "cell_type": "code",
   "execution_count": 58,
   "id": "a731d3be",
   "metadata": {
    "scrolled": true
   },
   "outputs": [
    {
     "name": "stdout",
     "output_type": "stream",
     "text": [
      "10\n",
      "10 4 2 3 6 6 7 9 8 5\n",
      "2\n"
     ]
    }
   ],
   "source": [
    "# 94: 이상한 출석 번호 부르기3\n",
    "a = int(input())\n",
    "b = list(map(int, input().split()))\n",
    "print(min(b))"
   ]
  },
  {
   "cell_type": "code",
   "execution_count": null,
   "id": "2f9dc72f",
   "metadata": {},
   "outputs": [],
   "source": [
    "# 95: 바둑판에 흰 돌 놓기\n",
    "a = int(input())\n",
    "d = [[0 for i in range(19)] for i in range(19)] # 구글검색\n",
    "for i in range(a):\n",
    "    b, c = map(int, input().split())\n",
    "    if d[b-1][c-1] == 0:\n",
    "        d[b-1][c-1] += 1\n",
    "for i in range(19):\n",
    "    for j in d[i]:\n",
    "        print(j, end=' ')\n",
    "    print()"
   ]
  },
  {
   "cell_type": "code",
   "execution_count": null,
   "id": "c9f97d64",
   "metadata": {},
   "outputs": [],
   "source": [
    "# 96: 바둑알 십자 뒤집기\n",
    "b = []\n",
    "for _ in range(19):\n",
    "    b.extend([list(map(int, input().split()))])\n",
    "\n",
    "c = int(input())\n",
    "for _ in range(c):\n",
    "    d1, d2 = map(int, input().split())\n",
    "    for i in range(19): # 바둑판 기준 열 변경\n",
    "        if b[i][d2-1] == 1:\n",
    "            b[i][d2-1] = 0\n",
    "        elif b[i][d2-1] == 0:\n",
    "            b[i][d2-1] = 1\n",
    "    for i in range(19): # 바둑판 기준 행 변경\n",
    "        if b[d1-1][i] == 1:\n",
    "            b[d1-1][i] = 0\n",
    "        elif b[d1-1][i] == 0:\n",
    "            b[d1-1][i] = 1\n",
    "\n",
    "for i in b:\n",
    "    for j in i:\n",
    "        print(j, end=' ')\n",
    "    print()"
   ]
  },
  {
   "cell_type": "code",
   "execution_count": null,
   "id": "93c3bfe9",
   "metadata": {},
   "outputs": [],
   "source": [
    "# 97 설탕과자 뽑기\n",
    "a, b = map(int, input().split())\n",
    "base = [[0 for i in range(b)] for i in range(a)]\n",
    "\n",
    "c = int(input())\n",
    "for i in range(c):\n",
    "    d,e,f,g = map(int, input().split())\n",
    "    for j in range(d):\n",
    "        if e == 1:\n",
    "            base[f-1+j][g-1] = 1\n",
    "        elif e == 0:\n",
    "            base[f-1][g-1+j] = 1\n",
    "\n",
    "for i in range(a):\n",
    "    for j in range(b):\n",
    "        print(base[i][j], end=' ')\n",
    "    print()"
   ]
  }
 ],
 "metadata": {
  "kernelspec": {
   "display_name": "Python 3 (ipykernel)",
   "language": "python",
   "name": "python3"
  },
  "language_info": {
   "codemirror_mode": {
    "name": "ipython",
    "version": 3
   },
   "file_extension": ".py",
   "mimetype": "text/x-python",
   "name": "python",
   "nbconvert_exporter": "python",
   "pygments_lexer": "ipython3",
   "version": "3.9.7"
  }
 },
 "nbformat": 4,
 "nbformat_minor": 5
}
