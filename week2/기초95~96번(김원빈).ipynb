{
 "cells": [
  {
   "cell_type": "code",
   "execution_count": 52,
   "id": "85c9dc59",
   "metadata": {
    "scrolled": false
   },
   "outputs": [
    {
     "name": "stdout",
     "output_type": "stream",
     "text": [
      "3\n",
      "1 1\n",
      "2 2\n",
      "3 3\n",
      "1 0 0 0 0 0 0 0 0 0 0 0 0 0 0 0 0 0 0 \n",
      "0 1 0 0 0 0 0 0 0 0 0 0 0 0 0 0 0 0 0 \n",
      "0 0 1 0 0 0 0 0 0 0 0 0 0 0 0 0 0 0 0 \n",
      "0 0 0 0 0 0 0 0 0 0 0 0 0 0 0 0 0 0 0 \n",
      "0 0 0 0 0 0 0 0 0 0 0 0 0 0 0 0 0 0 0 \n",
      "0 0 0 0 0 0 0 0 0 0 0 0 0 0 0 0 0 0 0 \n",
      "0 0 0 0 0 0 0 0 0 0 0 0 0 0 0 0 0 0 0 \n",
      "0 0 0 0 0 0 0 0 0 0 0 0 0 0 0 0 0 0 0 \n",
      "0 0 0 0 0 0 0 0 0 0 0 0 0 0 0 0 0 0 0 \n",
      "0 0 0 0 0 0 0 0 0 0 0 0 0 0 0 0 0 0 0 \n",
      "0 0 0 0 0 0 0 0 0 0 0 0 0 0 0 0 0 0 0 \n",
      "0 0 0 0 0 0 0 0 0 0 0 0 0 0 0 0 0 0 0 \n",
      "0 0 0 0 0 0 0 0 0 0 0 0 0 0 0 0 0 0 0 \n",
      "0 0 0 0 0 0 0 0 0 0 0 0 0 0 0 0 0 0 0 \n",
      "0 0 0 0 0 0 0 0 0 0 0 0 0 0 0 0 0 0 0 \n",
      "0 0 0 0 0 0 0 0 0 0 0 0 0 0 0 0 0 0 0 \n",
      "0 0 0 0 0 0 0 0 0 0 0 0 0 0 0 0 0 0 0 \n",
      "0 0 0 0 0 0 0 0 0 0 0 0 0 0 0 0 0 0 0 \n",
      "0 0 0 0 0 0 0 0 0 0 0 0 0 0 0 0 0 0 0 \n"
     ]
    }
   ],
   "source": [
    "# 95: 바둑판에 흰 돌 놓기\n",
    "a = int(input())\n",
    "d = [[0 for i in range(19)] for i in range(19)] # 구글검색\n",
    "for i in range(a):\n",
    "    b, c = map(int, input().split())\n",
    "    if d[b-1][c-1] == 0:\n",
    "        d[b-1][c-1] += 1\n",
    "for i in range(19):\n",
    "    for j in d[i]:\n",
    "        print(j, end=' ')\n",
    "    print()"
   ]
  },
  {
   "cell_type": "code",
   "execution_count": null,
   "id": "6f205c53",
   "metadata": {},
   "outputs": [],
   "source": [
    "# 96: 바둑알 십자 뒤집기\n",
    "b = []\n",
    "for _ in range(19):\n",
    "    b.extend([list(map(int, input().split()))])\n",
    "\n",
    "c = int(input())\n",
    "for _ in range(c):\n",
    "    d1, d2 = map(int, input().split())\n",
    "    for i in range(19): # 바둑판 기준 열 변경\n",
    "        if b[i][d2-1] == 1:\n",
    "            b[i][d2-1] = 0\n",
    "        elif b[i][d2-1] == 0:\n",
    "            b[i][d2-1] = 1\n",
    "    for i in range(19): # 바둑판 기준 행 변경\n",
    "        if b[d1-1][i] == 1:\n",
    "            b[d1-1][i] = 0\n",
    "        elif b[d1-1][i] == 0:\n",
    "            b[d1-1][i] = 1\n",
    "\n",
    "for i in b:\n",
    "    for j in i:\n",
    "        print(j, end=' ')\n",
    "    print()"
   ]
  }
 ],
 "metadata": {
  "kernelspec": {
   "display_name": "Python 3 (ipykernel)",
   "language": "python",
   "name": "python3"
  },
  "language_info": {
   "codemirror_mode": {
    "name": "ipython",
    "version": 3
   },
   "file_extension": ".py",
   "mimetype": "text/x-python",
   "name": "python",
   "nbconvert_exporter": "python",
   "pygments_lexer": "ipython3",
   "version": "3.9.7"
  }
 },
 "nbformat": 4,
 "nbformat_minor": 5
}
