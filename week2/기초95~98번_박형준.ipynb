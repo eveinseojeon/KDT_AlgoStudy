{
 "cells": [
  {
   "cell_type": "markdown",
   "id": "538ff9b3",
   "metadata": {},
   "source": [
    "### 95번"
   ]
  },
  {
   "cell_type": "code",
   "execution_count": null,
   "id": "ae1541bd",
   "metadata": {},
   "outputs": [],
   "source": [
    "n = int(input())\n",
    "k = []\n",
    "for i in range(19):\n",
    "    k.append([])\n",
    "    for j in range(19):\n",
    "        k[i].append(0)\n",
    "\n",
    "for i in range(n):\n",
    "    a, b = map(int, input().split())\n",
    "    k[a-1][b-1] = 1\n",
    "\n",
    "for i in range(19):\n",
    "    for j in range(19):\n",
    "        print(k[i][j], end=' ')\n",
    "    print(end='\\n')"
   ]
  },
  {
   "cell_type": "markdown",
   "id": "91fb49fb",
   "metadata": {},
   "source": [
    "### 96번"
   ]
  },
  {
   "cell_type": "code",
   "execution_count": null,
   "id": "28c78493",
   "metadata": {},
   "outputs": [],
   "source": [
    "k = []\n",
    "for i in range(19):\n",
    "    k.append([])\n",
    "    input_k = list(map(int, input().split()))\n",
    "    k[i] = input_k\n",
    "\n",
    "n = int(input())\n",
    "for j in range(n):\n",
    "    a, b = map(int, input().split())\n",
    "    a -= 1\n",
    "    b -= 1\n",
    "    \n",
    "    for e in range(19):\n",
    "        if k[a][e] == 0:\n",
    "            k[a][e] = 1\n",
    "        else:\n",
    "            k[a][e] = 0\n",
    "    \n",
    "    for f in range(19):\n",
    "        if k[f][b] == 0:\n",
    "            k[f][b] = 1\n",
    "        else:\n",
    "            k[f][b] = 0\n",
    "\n",
    "for i in range(19):\n",
    "    for j in range(19):\n",
    "        print(k[i][j], end=' ')\n",
    "    print(end='\\n')\n"
   ]
  },
  {
   "cell_type": "markdown",
   "id": "c1dea890",
   "metadata": {},
   "source": [
    "### 97번"
   ]
  },
  {
   "cell_type": "code",
   "execution_count": null,
   "id": "4556ae4b",
   "metadata": {},
   "outputs": [],
   "source": [
    "h, w = map(int, input().split())\n",
    "n = int(input())\n",
    "k = []\n",
    "for a in range(h):\n",
    "    k.append([])\n",
    "    for b in range(w):\n",
    "        k[a].append(0)\n",
    "\n",
    "for i in range(n):\n",
    "    l, d, x, y = map(int, input().split())\n",
    "    if d == 0:\n",
    "        for m in range(l):\n",
    "            k[x-1][y-1+m] = 1\n",
    "    elif d == 1:\n",
    "        for q in range(l):\n",
    "            k[x-1+q][y-1] = 1\n",
    "\n",
    "for i in range(h):\n",
    "    for j in range(w):\n",
    "        print(k[i][j], end=' ')\n",
    "    print(end='\\n')"
   ]
  },
  {
   "cell_type": "markdown",
   "id": "4d7c3747",
   "metadata": {},
   "source": [
    "### 98번"
   ]
  },
  {
   "cell_type": "code",
   "execution_count": null,
   "id": "9b64a019",
   "metadata": {},
   "outputs": [],
   "source": [
    "k = []\n",
    "for i in range(10):\n",
    "    k.append([])\n",
    "\n",
    "for j in range(10):\n",
    "    a = list(map(int, input().split()))\n",
    "    k[j] = a\n",
    "\n",
    "move = 1\n",
    "h, w = 1, 1\n",
    "while move:\n",
    "    if k[h][w] == 0:\n",
    "        k[h][w] = 9\n",
    "        if h == 8 & w == 8:\n",
    "            move = 0\n",
    "        else:\n",
    "            w += 1\n",
    "    elif k[h][w] == 1:\n",
    "        w -= 1\n",
    "        h += 1\n",
    "    elif k[h][w] == 2:\n",
    "        k[h][w] = 9\n",
    "        move = 0\n",
    "    \n",
    "\n",
    "for i in range(10):\n",
    "    for j in range(10):\n",
    "        print(k[i][j], end=' ')\n",
    "    print(end='\\n')"
   ]
  }
 ],
 "metadata": {
  "kernelspec": {
   "display_name": "Python 3 (ipykernel)",
   "language": "python",
   "name": "python3"
  },
  "language_info": {
   "codemirror_mode": {
    "name": "ipython",
    "version": 3
   },
   "file_extension": ".py",
   "mimetype": "text/x-python",
   "name": "python",
   "nbconvert_exporter": "python",
   "pygments_lexer": "ipython3",
   "version": "3.9.7"
  }
 },
 "nbformat": 4,
 "nbformat_minor": 5
}
