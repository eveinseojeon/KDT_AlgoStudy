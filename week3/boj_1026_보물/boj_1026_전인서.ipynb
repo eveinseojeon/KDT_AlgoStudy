{
 "cells": [
  {
   "cell_type": "markdown",
   "id": "176a2472",
   "metadata": {},
   "source": [
    "- B를 재배열하지 않고 푸는 방법이 생각이 안 나서 구글링 찬스.."
   ]
  },
  {
   "cell_type": "code",
   "execution_count": 4,
   "id": "ab24d93a",
   "metadata": {},
   "outputs": [
    {
     "name": "stdout",
     "output_type": "stream",
     "text": [
      "3\n",
      "1 1 3\n",
      "10 30 20\n",
      "80\n"
     ]
    }
   ],
   "source": [
    "N = int(input())\n",
    "A = list(map(int, input().split()))\n",
    "B = list(map(int, input().split()))\n",
    "\n",
    "S = 0\n",
    "for _ in range(N):\n",
    "    S += min(A)*max(B)\n",
    "    A.remove(min(A))\n",
    "    B.remove(max(B))\n",
    "\n",
    "print(S)"
   ]
  },
  {
   "cell_type": "code",
   "execution_count": null,
   "id": "83310e2d",
   "metadata": {},
   "outputs": [],
   "source": []
  }
 ],
 "metadata": {
  "kernelspec": {
   "display_name": "Python 3 (ipykernel)",
   "language": "python",
   "name": "python3"
  },
  "language_info": {
   "codemirror_mode": {
    "name": "ipython",
    "version": 3
   },
   "file_extension": ".py",
   "mimetype": "text/x-python",
   "name": "python",
   "nbconvert_exporter": "python",
   "pygments_lexer": "ipython3",
   "version": "3.9.7"
  }
 },
 "nbformat": 4,
 "nbformat_minor": 5
}
