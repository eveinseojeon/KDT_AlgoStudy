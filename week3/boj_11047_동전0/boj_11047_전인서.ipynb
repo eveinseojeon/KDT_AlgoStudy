{
 "cells": [
  {
   "cell_type": "markdown",
   "id": "a94381e5",
   "metadata": {},
   "source": [
    "## 아이디어\n",
    "- 큰 동전부터 사용한다."
   ]
  },
  {
   "cell_type": "code",
   "execution_count": 13,
   "id": "ab24d93a",
   "metadata": {},
   "outputs": [
    {
     "name": "stdout",
     "output_type": "stream",
     "text": [
      "10 4790\n",
      "1\n",
      "5\n",
      "10\n",
      "50\n",
      "100\n",
      "500\n",
      "1000\n",
      "5000\n",
      "10000\n",
      "50000\n",
      "12\n"
     ]
    }
   ],
   "source": [
    "N, K = map(int, input().split())\n",
    "coins = [int(input()) for _ in range(N)][::-1] # 오름차순으로 입력된 값들을 뒤집어서 내림차순 정렬\n",
    "\n",
    "count = 0\n",
    "for i in range(N):\n",
    "    count += K//coins[i]\n",
    "    K -= (K//coins[i])*coins[i]\n",
    "    \n",
    "    if K==0: # \n",
    "        break\n",
    "\n",
    "print(count)"
   ]
  },
  {
   "cell_type": "code",
   "execution_count": null,
   "id": "b7f15a4f",
   "metadata": {},
   "outputs": [],
   "source": []
  }
 ],
 "metadata": {
  "kernelspec": {
   "display_name": "Python 3 (ipykernel)",
   "language": "python",
   "name": "python3"
  },
  "language_info": {
   "codemirror_mode": {
    "name": "ipython",
    "version": 3
   },
   "file_extension": ".py",
   "mimetype": "text/x-python",
   "name": "python",
   "nbconvert_exporter": "python",
   "pygments_lexer": "ipython3",
   "version": "3.9.7"
  }
 },
 "nbformat": 4,
 "nbformat_minor": 5
}
