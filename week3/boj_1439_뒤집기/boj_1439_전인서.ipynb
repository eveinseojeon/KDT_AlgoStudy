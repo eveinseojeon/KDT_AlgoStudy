{
 "cells": [
  {
   "cell_type": "markdown",
   "id": "ef8ea64c",
   "metadata": {},
   "source": [
    "## 아이디어\n",
    "- 문자열 S가 1로 시작하는 경우는 가운데 껴있는 연속하는 0들을 뒤집어 주고, 0으로 시작하는 경우는 가운데 껴있는 연속하는 1들을 뒤집어 준다.<br>\n",
    "- 문자열 중간에 연속하는 0들 또는 연속하는 1들이 몇 번 나오는지 세어주면 되므로,<br>\n",
    "- 문자열이 1로 시작하는 경우는 '10'이 몇 번 나오는지 세고, 0으로 시작하는 경우는 '01'이 몇 번 나오는지 센다."
   ]
  },
  {
   "cell_type": "code",
   "execution_count": 20,
   "id": "9ee57a31",
   "metadata": {},
   "outputs": [
    {
     "name": "stdout",
     "output_type": "stream",
     "text": [
      "11001100110011000001\n",
      "4\n"
     ]
    }
   ],
   "source": [
    "# 최초 코드\n",
    "\n",
    "S = input()\n",
    "count = 0\n",
    "\n",
    "for i in range(len(S)-1):\n",
    "    if S[0]=='1':\n",
    "        if S[i]=='1' and S[i+1]=='0':\n",
    "            count += 1\n",
    "    else:\n",
    "        if S[i]=='0' and S[i+1]=='1':\n",
    "            count += 1        \n",
    "\n",
    "print(count)"
   ]
  },
  {
   "cell_type": "code",
   "execution_count": 21,
   "id": "12f80d3a",
   "metadata": {},
   "outputs": [
    {
     "name": "stdout",
     "output_type": "stream",
     "text": [
      "11001100110011000001\n",
      "4\n"
     ]
    }
   ],
   "source": [
    "# 개선된 코드\n",
    "\n",
    "S = input()\n",
    "answer = max(S.count('10'), S.count('01'))\n",
    "\n",
    "print(answer)"
   ]
  },
  {
   "cell_type": "code",
   "execution_count": null,
   "id": "5753d73b",
   "metadata": {},
   "outputs": [],
   "source": []
  }
 ],
 "metadata": {
  "kernelspec": {
   "display_name": "Python 3 (ipykernel)",
   "language": "python",
   "name": "python3"
  },
  "language_info": {
   "codemirror_mode": {
    "name": "ipython",
    "version": 3
   },
   "file_extension": ".py",
   "mimetype": "text/x-python",
   "name": "python",
   "nbconvert_exporter": "python",
   "pygments_lexer": "ipython3",
   "version": "3.9.7"
  }
 },
 "nbformat": 4,
 "nbformat_minor": 5
}
