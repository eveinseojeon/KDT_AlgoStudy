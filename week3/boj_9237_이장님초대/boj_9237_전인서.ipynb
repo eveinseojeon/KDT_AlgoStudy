{
 "cells": [
  {
   "cell_type": "code",
   "execution_count": 12,
   "id": "ab24d93a",
   "metadata": {},
   "outputs": [
    {
     "name": "stdout",
     "output_type": "stream",
     "text": [
      "6\n",
      "39 38 9 35 39 20\n",
      "42\n"
     ]
    }
   ],
   "source": [
    "n = int(input())\n",
    "t = list(map(int, input().split()))\n",
    "t = sorted(t, reverse=True) # 다 자라는 데 오래 걸리는 묘목 순서대로, 즉 내림차순으로 정렬\n",
    "dates = [i+t[i]+2 for i in range(len(t))] # 각 묘목이 다 자란 다음날의 날짜들이 담긴 리스트\n",
    "\n",
    "print(max(dates)) # 그 중 최댓값을 출력"
   ]
  }
 ],
 "metadata": {
  "kernelspec": {
   "display_name": "Python 3 (ipykernel)",
   "language": "python",
   "name": "python3"
  },
  "language_info": {
   "codemirror_mode": {
    "name": "ipython",
    "version": 3
   },
   "file_extension": ".py",
   "mimetype": "text/x-python",
   "name": "python",
   "nbconvert_exporter": "python",
   "pygments_lexer": "ipython3",
   "version": "3.9.7"
  }
 },
 "nbformat": 4,
 "nbformat_minor": 5
}
